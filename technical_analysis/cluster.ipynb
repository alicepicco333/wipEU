{
 "cells": [
  {
   "cell_type": "markdown",
   "metadata": {},
   "source": [
    "### Visualization of the datasets\n",
    "\n",
    "The first step that is generally usefull to do before any other kind of peration is usually to load and visualiza the datasets as they are, this operation can help to discover some kind of pattern that may be useful to analyze later on in the general workflow of the project.\n",
    "\n",
    "Possibili tematiche da analizzare:\n",
    "- Correlazione tra vari aspetti dell’uguaglianza di genere: Possiamo esaminare le correlazioni tra vari aspetti dell’uguaglianza di genere. Ad esempio, c’è una correlazione tra la discriminazione attitudinale e i guadagni delle donne? O tra i diritti di proprietà delle donne e la loro rappresentanza nel governo locale? Questo potrebbe richiedere qualche un’analisi statistica approfondita e potrebbe rivelare cose interessanti.\n",
    "\n",
    "- Analisi temporale: Essndo i nostri dati raccolti spesso nel corso del tempo, potremmo esaminare come questi vari aspetti dell’uguaglianza di genere sono cambiati nel tempo. Ci sono stati progressi in alcune aree ma non in altre?\n",
    "\n",
    "- Confronto tra paesi: Possiamo confrontare questi vari aspetti dell’uguaglianza di genere tra diversi paesi. Ci sono paesi che si comportano particolarmente bene o male in certi aspetti? Questo potrebbe anche darci l’opportunità di esplorare perché alcuni paesi potrebbero avere migliori risultati in termini di uguaglianza di genere (inferenze sulla sola base di dati statistici a meno che non siano state fatte direttamente negli articoli da cui abbiamo preso i dati le lascerie perdere).\n",
    "\n",
    "- Modellazione predittiva: Possiamo utilizzare tecniche di apprendimento automatico per creare un modello predittivo. Ad esempio, possiamo cercare di prevedere i guadagni delle donne in base a vari fattori, come la discriminazione attitudinale, i diritti di proprietà, la rappresentanza nel governo locale, ecc. (progettino di machine learning, possiamo rimanere sul semplice ma sarebbe figo)\n",
    "\n",
    "- Analisi dell’impatto delle politiche: Se disponiamo di dati sulle politiche o sulle leggi relative all’uguaglianza di genere, possiamo esaminare l’impatto di queste politiche sui vari aspetti dell’uguaglianza di genere. (integrazione dei dati con quelli relativi alle legislazioni, potrebbe essere un lavoraccio in quanto dovremmo raccogliere legislazioni di diverse località nel corso del tempo a meno che non vogliamo rimanere su un contesto più ampio e generico, del resto i nostri dati provengono dalle nazioni unite)\n",
    "\n",
    "\n",
    "Considerazioni:\n",
    "- Converrebbe ridurre il numero di dataset e circoscriverli tramite la selezione di tematiche che possono essere accostate con un senso, una prima proposta è quella che ho fatto qui di sotto. \n",
    "- Per l'inferenza, la predizione e l'ottenimento di conclusioni rilevani bisogna che i dataset siano ben fatti (anche se non ben calssificati in quanto il compito di algoritmi ML di sorta è quello di occuparsi anche di dati non classificati).\n",
    "- Scegliere quindi 4-6 dataset rilevanti al taglio definitivo che vogliamo dare al progetto e partire da li con le dovute analisi\n"
   ]
  },
  {
   "cell_type": "markdown",
   "metadata": {},
   "source": [
    "### Analisi di correlazione"
   ]
  },
  {
   "cell_type": "markdown",
   "metadata": {},
   "source": [
    "From the correlation matrix, we can conclude that:\n",
    "- There is a strong positive correlation (0.834070) between the percentage of men and women with discriminatory attitudes towards women. This suggests that in countries where a higher percentage of men have discriminatory attitudes towards women, there is also a higher percentage of women with discriminatory attitudes towards other women. \n",
    "- The correlations between discriminatory attitudes and the gender gap in earnings are relatively low (between 0.068956 and 0.125778), suggesting that there is not a strong linear relationship between these two aspects. This does not exclude the possibility of a non-linear relationship or the influence of other variables not included in this analysis.\n",
    "\n",
    "\n",
    "\n",
    "(da confermare e rivedere le seguenti interpretazioni:\n",
    "- % Men e % Women hanno una correlazione di 0.834070, il che indica una forte correlazione positiva. Questo suggerisce che nei paesi dove gli uomini mostrano comportamenti discriminatori verso le donne, anche le donne tendono a mostrare comportamenti discriminatori verso altre donne, e viceversa.\n",
    "- % Men e Any cash labor income hanno una correlazione di 0.125778, che è una correlazione positiva ma debole. Questo indica che non c’è una relazione forte tra gli uomini con comportamenti discriminatori e il divario salariale di genere.\n",
    "- % Men e Cash only hanno una correlazione di 0.086807, che è una correlazione positiva molto debole. Questo suggerisce che non c’è quasi nessuna relazione tra gli uomini con comportamenti discriminatori e il divario salariale di genere considerando solo il reddito da lavoro in contanti.\n",
    "- Any cash labor income e Cash only hanno una correlazione di 0.863380, che è una forte correlazione positiva. Questo indica che quando il divario salariale di genere considerando qualsiasi reddito da lavoro aumenta, anche il divario salariale di genere considerando solo il reddito da lavoro in contanti tende ad aumentare, e viceversa.)"
   ]
  },
  {
   "cell_type": "markdown",
   "metadata": {},
   "source": [
    "### Cluster definition and visualization\n",
    "\n",
    "Clustering is an unsupervised machine learning technique consisting in grouping unlabeled examples. The goal of this process is creating a data-driven classification of the observations and to infere relevant common features. The algorithm below deals with our datasets regarding gender gap across several fields. The first step is to create a syntetic visualization of the available data. <br>\n",
    "Each dataframe will consider the most interesting statistics about these topics and will show them in an interesting way (da aggiustare)"
   ]
  }
 ],
 "metadata": {
  "kernelspec": {
   "display_name": "Python 3",
   "language": "python",
   "name": "python3"
  },
  "language_info": {
   "codemirror_mode": {
    "name": "ipython",
    "version": 3
   },
   "file_extension": ".py",
   "mimetype": "text/x-python",
   "name": "python",
   "nbconvert_exporter": "python",
   "pygments_lexer": "ipython3",
   "version": "3.10.8"
  }
 },
 "nbformat": 4,
 "nbformat_minor": 2
}
