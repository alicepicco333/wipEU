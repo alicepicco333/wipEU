{
 "cells": [
  {
   "cell_type": "markdown",
   "metadata": {},
   "source": [
    "### Visualization of the datasets\n",
    "\n",
    "The first step that is generally usefull to do before any other kind of peration is usually to load and visualiza the datasets as they are, this operation can help to discover some kind of pattern that may be useful to analyze later on in the general workflow of the project.\n",
    "\n",
    "Possibili tematiche da analizzare:\n",
    "- Correlazione tra vari aspetti dell’uguaglianza di genere: Possiamo esaminare le correlazioni tra vari aspetti dell’uguaglianza di genere. Ad esempio, c’è una correlazione tra la discriminazione attitudinale e i guadagni delle donne? O tra i diritti di proprietà delle donne e la loro rappresentanza nel governo locale? Questo potrebbe richiedere qualche un’analisi statistica approfondita e potrebbe rivelare cose interessanti.\n",
    "\n",
    "- Analisi temporale: Essndo i nostri dati raccolti spesso nel corso del tempo, potremmo esaminare come questi vari aspetti dell’uguaglianza di genere sono cambiati nel tempo. Ci sono stati progressi in alcune aree ma non in altre?\n",
    "\n",
    "- Confronto tra paesi: Possiamo confrontare questi vari aspetti dell’uguaglianza di genere tra diversi paesi. Ci sono paesi che si comportano particolarmente bene o male in certi aspetti? Questo potrebbe anche darci l’opportunità di esplorare perché alcuni paesi potrebbero avere migliori risultati in termini di uguaglianza di genere (inferenze sulla sola base di dati statistici a meno che non siano state fatte direttamente negli articoli da cui abbiamo preso i dati le lascerie perdere).\n",
    "\n",
    "- Modellazione predittiva: Possiamo utilizzare tecniche di apprendimento automatico per creare un modello predittivo. Ad esempio, possiamo cercare di prevedere i guadagni delle donne in base a vari fattori, come la discriminazione attitudinale, i diritti di proprietà, la rappresentanza nel governo locale, ecc. (progettino di machine learning, possiamo rimanere sul semplice ma sarebbe figo)\n",
    "\n",
    "- Analisi dell’impatto delle politiche: Se disponiamo di dati sulle politiche o sulle leggi relative all’uguaglianza di genere, possiamo esaminare l’impatto di queste politiche sui vari aspetti dell’uguaglianza di genere. (integrazione dei dati con quelli relativi alle legislazioni, potrebbe essere un lavoraccio in quanto dovremmo raccogliere legislazioni di diverse località nel corso del tempo a meno che non vogliamo rimanere su un contesto più ampio e generico, del resto i nostri dati provengono dalle nazioni unite)\n"
   ]
  },
  {
   "cell_type": "code",
   "execution_count": 4,
   "metadata": {},
   "outputs": [],
   "source": [
    "import pandas as pd\n",
    "\n",
    "#Attitudinal discrimination against women engaging in paid work outside the home by sex: 2016 (Percentage)\n",
    "df1_discrimination = pd.read_csv(\"../data/Discriminatory_attitudes_towards_women_in_paid_employment/download.csv\")\n",
    "df2_discrimination = pd.read_csv(\"../data/Discriminatory_attitudes_towards_women_in_paid_employment/download (1).csv\").fillna(\"_\")\n",
    "\n",
    "# Distribution of married women and men aged 15—49 by type of earnings from labour in the last 12 months, developing regions: 2013—2018 (latest available) (Percentage)\n",
    "#df_earnings mostra un difetto nella sua composizione in quanto sotto la colonna sex in realtà mostra la sdg region\n",
    "df1_earnings = pd.read_csv(\"../data/Earnings_of_married_women_and_men_in_employment_by_type_of_remuneration/download.csv\")\n",
    "# Gender gap in any cash and cash-only labor incomes between married women and men aged 15—49 in selected countries in developing regions: 2013—2018 (latest available) (Percentage)\n",
    "df2_earnings = pd.read_csv(\"../data/Earnings_of_married_women_and_men_in_employment_by_type_of_remuneration/download (1).csv\")\n",
    "\n",
    "df1_equal_rights = pd.read_csv(\"../data/equal_rights_of_women_to_the_ownership_and_control_of_land_fao/download.csv\")\n",
    "df2_equal_rights = pd.read_csv(\"../data/equal_rights_of_women_to_the_ownership_and_control_of_land_fao/download (1).csv\")\n",
    "df3_equal_rights = pd.read_csv(\"../data/equal_rights_of_women_to_the_ownership_and_control_of_land_fao/download (2).csv\")\n",
    "df4_equal_rights = pd.read_csv(\"../data/equal_rights_of_women_to_the_ownership_and_control_of_land_fao/download (3).csv\")\n",
    "\n",
    "df1_females_stem = pd.read_csv(\"../data/female_graduates_in_science_technology_engineering_and_mathematics_at_the_tertiary_level_of_education/download.csv\")\n",
    "df2_females_stem = pd.read_csv(\"../data/female_graduates_in_science_technology_engineering_and_mathematics_at_the_tertiary_level_of_education/download (1).csv\")\n",
    "\n",
    "df1_unpaid_work = pd.read_csv(\"../data/time_spent_in_unpaid_work_total_work_burden_and_work_life_balance/download.csv\")\n",
    "df2_unpaid_work = pd.read_csv(\"../data/time_spent_in_unpaid_work_total_work_burden_and_work_life_balance/download (1).csv\")\n",
    "df3_unpaid_work = pd.read_csv(\"../data/time_spent_in_unpaid_work_total_work_burden_and_work_life_balance/download (2).csv\")\n",
    "\n",
    "df1_women_decision_makers = pd.read_csv(\"../data/women_as_decision_makers_in_the_corporate_world/download.csv\")\n",
    "df2_women_decision_makers = pd.read_csv(\"../data/women_as_decision_makers_in_the_corporate_world/download (1).csv\")\n",
    "df3_women_decision_makers = pd.read_csv(\"../data/women_as_decision_makers_in_the_corporate_world/download (2).csv\")\n",
    "df4_women_decision_makers = pd.read_csv(\"../data/women_as_decision_makers_in_the_corporate_world/download (3).csv\")\n",
    "df5_women_decision_makers = pd.read_csv(\"../data/women_as_decision_makers_in_the_corporate_world/download (4).csv\")\n",
    "df6_women_decision_makers = pd.read_csv(\"../data/women_as_decision_makers_in_the_corporate_world/download (5).csv\")\n",
    "\n",
    "df1_un_women = pd.read_csv(\"../data/women_in_local_government_un_women/download.csv\")\n",
    "df2_un_women = pd.read_csv(\"../data/women_in_local_government_un_women/download (1).csv\")\n",
    "\n",
    "df1_women_police = pd.read_csv(\"../data/women_in_the_police/download.csv\")\n",
    "df2_women_police = pd.read_csv(\"../data/women_in_the_police/download (1).csv\")"
   ]
  },
  {
   "cell_type": "markdown",
   "metadata": {},
   "source": [
    "### Analisi di correlazione"
   ]
  },
  {
   "cell_type": "code",
   "execution_count": 5,
   "metadata": {},
   "outputs": [
    {
     "name": "stderr",
     "output_type": "stream",
     "text": [
      "C:\\Users\\mguen\\AppData\\Local\\Temp\\ipykernel_17848\\3218081672.py:16: FutureWarning: The default value of numeric_only in DataFrame.corr is deprecated. In a future version, it will default to False. Select only valid columns or specify the value of numeric_only to silence this warning.\n",
      "  correlation = df.corr()\n"
     ]
    },
    {
     "data": {
      "text/html": [
       "<div>\n",
       "<style scoped>\n",
       "    .dataframe tbody tr th:only-of-type {\n",
       "        vertical-align: middle;\n",
       "    }\n",
       "\n",
       "    .dataframe tbody tr th {\n",
       "        vertical-align: top;\n",
       "    }\n",
       "\n",
       "    .dataframe thead th {\n",
       "        text-align: right;\n",
       "    }\n",
       "</style>\n",
       "<table border=\"1\" class=\"dataframe\">\n",
       "  <thead>\n",
       "    <tr style=\"text-align: right;\">\n",
       "      <th></th>\n",
       "      <th>% Men</th>\n",
       "      <th>% Women</th>\n",
       "      <th>Any cash labor income</th>\n",
       "      <th>Cash only</th>\n",
       "    </tr>\n",
       "  </thead>\n",
       "  <tbody>\n",
       "    <tr>\n",
       "      <th>% Men</th>\n",
       "      <td>1.000000</td>\n",
       "      <td>0.834070</td>\n",
       "      <td>0.125778</td>\n",
       "      <td>0.086807</td>\n",
       "    </tr>\n",
       "    <tr>\n",
       "      <th>% Women</th>\n",
       "      <td>0.834070</td>\n",
       "      <td>1.000000</td>\n",
       "      <td>0.111501</td>\n",
       "      <td>0.068956</td>\n",
       "    </tr>\n",
       "    <tr>\n",
       "      <th>Any cash labor income</th>\n",
       "      <td>0.125778</td>\n",
       "      <td>0.111501</td>\n",
       "      <td>1.000000</td>\n",
       "      <td>0.863380</td>\n",
       "    </tr>\n",
       "    <tr>\n",
       "      <th>Cash only</th>\n",
       "      <td>0.086807</td>\n",
       "      <td>0.068956</td>\n",
       "      <td>0.863380</td>\n",
       "      <td>1.000000</td>\n",
       "    </tr>\n",
       "  </tbody>\n",
       "</table>\n",
       "</div>"
      ],
      "text/plain": [
       "                          % Men   % Women  Any cash labor income  Cash only\n",
       "% Men                  1.000000  0.834070               0.125778   0.086807\n",
       "% Women                0.834070  1.000000               0.111501   0.068956\n",
       "Any cash labor income  0.125778  0.111501               1.000000   0.863380\n",
       "Cash only              0.086807  0.068956               0.863380   1.000000"
      ]
     },
     "execution_count": 5,
     "metadata": {},
     "output_type": "execute_result"
    }
   ],
   "source": [
    "mean_per_sdg_region = df1_discrimination.groupby('SDG region')[['% Men', '% Women']].mean().reset_index()\n",
    "# print(mean_per_sdg_region)\n",
    "#questa operazione banalmente serve ad ottenere il df2_discrimination che diventa quindi superfluo in quanto mostra la media per ogni regione del pianeta di discriminazone verso la donna nei posti di lavoro\n",
    "\n",
    "\n",
    "\n",
    "df2_earnings.rename(columns={'Sex': 'SDG region'}, inplace=True)\n",
    "mean_per_sdg_region2 = df2_earnings.groupby('SDG region')[['Any cash labor income', 'Cash only']].mean().reset_index()\n",
    "# print(mean_per_sdg_region2)\n",
    "\n",
    "df1 = pd.DataFrame(df1_discrimination)\n",
    "df2 = pd.DataFrame(df2_earnings)\n",
    "\n",
    "df = pd.merge(df1, df2, on='SDG region')\n",
    "\n",
    "correlation = df.corr()\n",
    "\n",
    "correlation"
   ]
  },
  {
   "cell_type": "markdown",
   "metadata": {},
   "source": [
    "From the correlation matrix, we can conclude that:\n",
    "- There is a strong positive correlation (0.834070) between the percentage of men and women with discriminatory attitudes towards women. This suggests that in countries where a higher percentage of men have discriminatory attitudes towards women, there is also a higher percentage of women with discriminatory attitudes towards other women. \n",
    "- The correlations between discriminatory attitudes and the gender gap in earnings are relatively low (between 0.068956 and 0.125778), suggesting that there is not a strong linear relationship between these two aspects. This does not exclude the possibility of a non-linear relationship or the influence of other variables not included in this analysis.\n",
    "\n",
    "\n",
    "\n",
    "(da confermare e rivedere le seguenti interpretazioni:\n",
    "- % Men e % Women hanno una correlazione di 0.834070, il che indica una forte correlazione positiva. Questo suggerisce che nei paesi dove gli uomini mostrano comportamenti discriminatori verso le donne, anche le donne tendono a mostrare comportamenti discriminatori verso altre donne, e viceversa.\n",
    "- % Men e Any cash labor income hanno una correlazione di 0.125778, che è una correlazione positiva ma debole. Questo indica che non c’è una relazione forte tra gli uomini con comportamenti discriminatori e il divario salariale di genere.\n",
    "- % Men e Cash only hanno una correlazione di 0.086807, che è una correlazione positiva molto debole. Questo suggerisce che non c’è quasi nessuna relazione tra gli uomini con comportamenti discriminatori e il divario salariale di genere considerando solo il reddito da lavoro in contanti.\n",
    "- Any cash labor income e Cash only hanno una correlazione di 0.863380, che è una forte correlazione positiva. Questo indica che quando il divario salariale di genere considerando qualsiasi reddito da lavoro aumenta, anche il divario salariale di genere considerando solo il reddito da lavoro in contanti tende ad aumentare, e viceversa.)"
   ]
  },
  {
   "cell_type": "markdown",
   "metadata": {},
   "source": [
    "### Cluster definition and visualization\n",
    "\n",
    "Clustering is an unsupervised machine learning technique consisting in grouping unlabeled examples. The goal of this process is creating a data-driven classification of the observations and to infere relevant common features. The algorithm below deals with our datasets regarding gender gap across several fields. The first step is to create a syntetic visualization of the available data. <br>\n",
    "Each dataframe will consider the most interesting statistics about these topics and will show them in an interesting way (da aggiustare)"
   ]
  },
  {
   "cell_type": "code",
   "execution_count": null,
   "metadata": {},
   "outputs": [],
   "source": []
  }
 ],
 "metadata": {
  "kernelspec": {
   "display_name": "Python 3",
   "language": "python",
   "name": "python3"
  },
  "language_info": {
   "codemirror_mode": {
    "name": "ipython",
    "version": 3
   },
   "file_extension": ".py",
   "mimetype": "text/x-python",
   "name": "python",
   "nbconvert_exporter": "python",
   "pygments_lexer": "ipython3",
   "version": "3.10.8"
  }
 },
 "nbformat": 4,
 "nbformat_minor": 2
}
