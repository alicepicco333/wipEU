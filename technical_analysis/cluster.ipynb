{
 "cells": [
  {
   "cell_type": "markdown",
   "metadata": {},
   "source": [
    "### Visualization of the datasets\n",
    "\n",
    "The first step that is generally usefull to do before any other kind of peration is usually to load and visualiza the datasets as they are, this operation can help to discover some kind of pattern that may be useful to analyze later on in the general workflow of the project.\n",
    "\n",
    "Possibili tematiche da analizzare:\n",
    "- Correlazione tra vari aspetti dell’uguaglianza di genere: Possiamo esaminare le correlazioni tra vari aspetti dell’uguaglianza di genere. Ad esempio, c’è una correlazione tra la discriminazione attitudinale e i guadagni delle donne? O tra i diritti di proprietà delle donne e la loro rappresentanza nel governo locale? Questo potrebbe richiedere un’analisi statistica approfondita e potrebbe rivelare intuizioni interessanti.\n",
    "\n",
    "- Analisi temporale: Se i nostri dati sono longitudinali (ossia, raccolti nel corso del tempo), possiamo esaminare come questi vari aspetti dell’uguaglianza di genere sono cambiati nel tempo. Ci sono stati progressi in alcune aree ma non in altre?\n",
    "\n",
    "- Confronto tra paesi: Possiamo confrontare questi vari aspetti dell’uguaglianza di genere tra diversi paesi. Ci sono paesi che si comportano particolarmente bene o male in certi aspetti? Questo potrebbe anche darci l’opportunità di esplorare perché alcuni paesi potrebbero avere migliori risultati in termini di uguaglianza di genere.\n",
    "\n",
    "- Modellazione predittiva: Possiamo utilizzare tecniche di apprendimento automatico per creare un modello predittivo. Ad esempio, possiamo cercare di prevedere i guadagni delle donne in base a vari fattori, come la discriminazione attitudinale, i diritti di proprietà, la rappresentanza nel governo locale, ecc.\n",
    "\n",
    "- Analisi dell’impatto delle politiche: Se disponiamo di dati sulle politiche o sulle leggi relative all’uguaglianza di genere, possiamo esaminare l’impatto di queste politiche sui vari aspetti dell’uguaglianza di genere.\n"
   ]
  },
  {
   "cell_type": "code",
   "execution_count": 22,
   "metadata": {},
   "outputs": [],
   "source": [
    "#Attitudinal discrimination against women engaging in paid work outside the home by sex: 2016 (Percentage)\n",
    "import pandas as pd\n",
    "df1_discrimination = pd.read_csv(\"../data/Discriminatory_attitudes_towards_women_in_paid_employment/download.csv\")\n",
    "df2_discrimination = pd.read_csv(\"../data/Discriminatory_attitudes_towards_women_in_paid_employment/download (1).csv\").fillna(\"_\")\n",
    "df1_earnings = pd.read_csv(\"../data/Earnings_of_married_women_and_men_in_employment_by_type_of_remuneration/download.csv\")\n",
    "df2_earnings = pd.read_csv(\"../data/Earnings_of_married_women_and_men_in_employment_by_type_of_remuneration/download (1).csv\")\n",
    "df1_equal_rights = pd.read_csv(\"../data/equal_rights_of_women_to_the_ownership_and_control_of_land_fao/download.csv\")\n",
    "df2_equal_rights = pd.read_csv(\"../data/equal_rights_of_women_to_the_ownership_and_control_of_land_fao/download (1).csv\")\n",
    "df3_equal_rights = pd.read_csv(\"../data/equal_rights_of_women_to_the_ownership_and_control_of_land_fao/download (2).csv\")\n",
    "df4_equal_rights = pd.read_csv(\"../data/equal_rights_of_women_to_the_ownership_and_control_of_land_fao/download (3).csv\")\n",
    "df1_females_stem = pd.read_csv(\"../data/female_graduates_in_science_technology_engineering_and_mathematics_at_the_tertiary_level_of_education/download.csv\")\n",
    "df2_females_stem = pd.read_csv(\"../data/female_graduates_in_science_technology_engineering_and_mathematics_at_the_tertiary_level_of_education/download (1).csv\")\n",
    "df1_unpaid_work = pd.read_csv(\"../data/time_spent_in_unpaid_work_total_work_burden_and_work_life_balance/download.csv\")\n",
    "df2_unpaid_work = pd.read_csv(\"../data/time_spent_in_unpaid_work_total_work_burden_and_work_life_balance/download (1).csv\")\n",
    "df3_unpaid_work = pd.read_csv(\"../data/time_spent_in_unpaid_work_total_work_burden_and_work_life_balance/download (2).csv\")\n",
    "df1_women_decision_makers = pd.read_csv(\"../data/women_as_decision_makers_in_the_corporate_world/download.csv\")\n",
    "df2_women_decision_makers = pd.read_csv(\"../data/women_as_decision_makers_in_the_corporate_world/download (1).csv\")\n",
    "df3_women_decision_makers = pd.read_csv(\"../data/women_as_decision_makers_in_the_corporate_world/download (2).csv\")\n",
    "df4_women_decision_makers = pd.read_csv(\"../data/women_as_decision_makers_in_the_corporate_world/download (3).csv\")\n",
    "df5_women_decision_makers = pd.read_csv(\"../data/women_as_decision_makers_in_the_corporate_world/download (4).csv\")\n",
    "df6_women_decision_makers = pd.read_csv(\"../data/women_as_decision_makers_in_the_corporate_world/download (5).csv\")\n",
    "df1_un_women = pd.read_csv(\"../data/women_in_local_government_un_women/download.csv\")\n",
    "df2_un_women = pd.read_csv(\"../data/women_in_local_government_un_women/download (1).csv\")\n",
    "df1_women_police = pd.read_csv(\"../data/women_in_the_police/download.csv\")\n",
    "df2_women_police = pd.read_csv(\"../data/women_in_the_police/download (1).csv\")"
   ]
  },
  {
   "cell_type": "code",
   "execution_count": 21,
   "metadata": {},
   "outputs": [
    {
     "data": {
      "text/html": [
       "<div>\n",
       "<style scoped>\n",
       "    .dataframe tbody tr th:only-of-type {\n",
       "        vertical-align: middle;\n",
       "    }\n",
       "\n",
       "    .dataframe tbody tr th {\n",
       "        vertical-align: top;\n",
       "    }\n",
       "\n",
       "    .dataframe thead th {\n",
       "        text-align: right;\n",
       "    }\n",
       "</style>\n",
       "<table border=\"1\" class=\"dataframe\">\n",
       "  <thead>\n",
       "    <tr style=\"text-align: right;\">\n",
       "      <th></th>\n",
       "      <th>Country, Year</th>\n",
       "      <th>Total</th>\n",
       "      <th>Men</th>\n",
       "      <th>Women</th>\n",
       "    </tr>\n",
       "  </thead>\n",
       "  <tbody>\n",
       "    <tr>\n",
       "      <th>0</th>\n",
       "      <td>Peru, 2018</td>\n",
       "      <td>13.3</td>\n",
       "      <td>18.6</td>\n",
       "      <td>8.0</td>\n",
       "    </tr>\n",
       "    <tr>\n",
       "      <th>1</th>\n",
       "      <td>India, 2012</td>\n",
       "      <td>22.6</td>\n",
       "      <td>39.8</td>\n",
       "      <td>6.3</td>\n",
       "    </tr>\n",
       "    <tr>\n",
       "      <th>2</th>\n",
       "      <td>Cambodia, 2009</td>\n",
       "      <td>32.0</td>\n",
       "      <td>34.0</td>\n",
       "      <td>30.3</td>\n",
       "    </tr>\n",
       "    <tr>\n",
       "      <th>3</th>\n",
       "      <td>Niger, 2014</td>\n",
       "      <td>1.8</td>\n",
       "      <td>3.6</td>\n",
       "      <td>0.3</td>\n",
       "    </tr>\n",
       "    <tr>\n",
       "      <th>4</th>\n",
       "      <td>Burkina Faso, 2014</td>\n",
       "      <td>18.8</td>\n",
       "      <td>35.0</td>\n",
       "      <td>5.9</td>\n",
       "    </tr>\n",
       "  </tbody>\n",
       "</table>\n",
       "</div>"
      ],
      "text/plain": [
       "        Country, Year  Total    Men  Women\n",
       "0          Peru, 2018    13.3  18.6    8.0\n",
       "1         India, 2012    22.6  39.8    6.3\n",
       "2      Cambodia, 2009    32.0  34.0   30.3\n",
       "3         Niger, 2014     1.8   3.6    0.3\n",
       "4  Burkina Faso, 2014    18.8  35.0    5.9"
      ]
     },
     "execution_count": 21,
     "metadata": {},
     "output_type": "execute_result"
    }
   ],
   "source": [
    "# df1_discrimination.head()\n",
    "# df2_discrimination.head()\n",
    "df3_equal_rights.head()\n"
   ]
  },
  {
   "cell_type": "markdown",
   "metadata": {},
   "source": [
    "### Cluster definition and visualization\n",
    "\n",
    "Clustering is an unsupervised machine learning technique consisting in grouping unlabeled examples. The goal of this process is creating a data-driven classification of the observations and to infere relevant common features. The algorithm below deals with our datasets regarding gender gap across several fields. The first step is to create a syntetic visualization of the available data. <br>\n",
    "Each dataframe will consider the most interesting statistics about these topics and will show them in an interesting way (da aggiustare)\n",
    "\n",
    "- <code>listOfVal</code> gets all the values of a specific variables over time, storing it into a list\n",
    "- <code>averageVal</code> relies on the previous function to add a new column to a dataframe, containing the averaged value of the given variable"
   ]
  },
  {
   "cell_type": "code",
   "execution_count": null,
   "metadata": {},
   "outputs": [],
   "source": []
  }
 ],
 "metadata": {
  "kernelspec": {
   "display_name": "Python 3",
   "language": "python",
   "name": "python3"
  },
  "language_info": {
   "codemirror_mode": {
    "name": "ipython",
    "version": 3
   },
   "file_extension": ".py",
   "mimetype": "text/x-python",
   "name": "python",
   "nbconvert_exporter": "python",
   "pygments_lexer": "ipython3",
   "version": "3.10.8"
  }
 },
 "nbformat": 4,
 "nbformat_minor": 2
}
