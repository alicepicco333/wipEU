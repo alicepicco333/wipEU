{
 "cells": [
  {
   "cell_type": "markdown",
   "metadata": {},
   "source": [
    "### Visualization of the datasets\n",
    "\n",
    "The first step that is generally usefull to do before any other kind of peration is usually to load and visualiza the datasets as they are, this operation can help to discover some kind of pattern that may be useful to analyze later on in the general workflow of the project.\n",
    "\n",
    "Possibili tematiche da analizzare:\n",
    "- Correlazione tra vari aspetti dell’uguaglianza di genere: Possiamo esaminare le correlazioni tra vari aspetti dell’uguaglianza di genere. Ad esempio, c’è una correlazione tra la discriminazione attitudinale e i guadagni delle donne? O tra i diritti di proprietà delle donne e la loro rappresentanza nel governo locale? Questo potrebbe richiedere qualche un’analisi statistica approfondita e potrebbe rivelare cose interessanti.\n",
    "\n",
    "- Analisi temporale: Essndo i nostri dati raccolti spesso nel corso del tempo, potremmo esaminare come questi vari aspetti dell’uguaglianza di genere sono cambiati nel tempo. Ci sono stati progressi in alcune aree ma non in altre?\n",
    "\n",
    "- Confronto tra paesi: Possiamo confrontare questi vari aspetti dell’uguaglianza di genere tra diversi paesi. Ci sono paesi che si comportano particolarmente bene o male in certi aspetti? Questo potrebbe anche darci l’opportunità di esplorare perché alcuni paesi potrebbero avere migliori risultati in termini di uguaglianza di genere (inferenze sulla sola base di dati statistici a meno che non siano state fatte direttamente negli articoli da cui abbiamo preso i dati le lascerie perdere).\n",
    "\n",
    "- Modellazione predittiva: Possiamo utilizzare tecniche di apprendimento automatico per creare un modello predittivo. Ad esempio, possiamo cercare di prevedere i guadagni delle donne in base a vari fattori, come la discriminazione attitudinale, i diritti di proprietà, la rappresentanza nel governo locale, ecc. (progettino di machine learning, possiamo rimanere sul semplice ma sarebbe figo)\n",
    "\n",
    "- Analisi dell’impatto delle politiche: Se disponiamo di dati sulle politiche o sulle leggi relative all’uguaglianza di genere, possiamo esaminare l’impatto di queste politiche sui vari aspetti dell’uguaglianza di genere. (integrazione dei dati con quelli relativi alle legislazioni, potrebbe essere un lavoraccio in quanto dovremmo raccogliere legislazioni di diverse località nel corso del tempo a meno che non vogliamo rimanere su un contesto più ampio e generico, del resto i nostri dati provengono dalle nazioni unite)\n",
    "\n",
    "\n",
    "Considerazioni:\n",
    "- Converrebbe ridurre il numero di dataset e circoscriverli tramite la selezione di tematiche che possono essere accostate con un senso, una prima proposta è quella che ho fatto qui di sotto. \n",
    "- Per l'inferenza, la predizione e l'ottenimento di conclusioni rilevani bisogna che i dataset siano ben fatti (anche se non ben calssificati in quanto il compito di algoritmi ML di sorta è quello di occuparsi anche di dati non classificati).\n",
    "- Scegliere quindi 4-6 dataset rilevanti al taglio definitivo che vogliamo dare al progetto e partire da li con le dovute analisi\n"
   ]
  },
  {
   "cell_type": "code",
<<<<<<< Updated upstream
   "execution_count": 6,
   "metadata": {},
   "outputs": [],
=======
   "execution_count": 2,
   "metadata": {},
   "outputs": [
    {
     "ename": "ImportError",
     "evalue": "Missing optional dependency 'openpyxl'.  Use pip or conda to install openpyxl.",
     "output_type": "error",
     "traceback": [
      "\u001b[1;31m---------------------------------------------------------------------------\u001b[0m",
      "\u001b[1;31mModuleNotFoundError\u001b[0m                       Traceback (most recent call last)",
      "File \u001b[1;32m~\\AppData\\Roaming\\Python\\Python310\\site-packages\\pandas\\compat\\_optional.py:141\u001b[0m, in \u001b[0;36mimport_optional_dependency\u001b[1;34m(name, extra, errors, min_version)\u001b[0m\n\u001b[0;32m    140\u001b[0m \u001b[38;5;28;01mtry\u001b[39;00m:\n\u001b[1;32m--> 141\u001b[0m     module \u001b[38;5;241m=\u001b[39m \u001b[43mimportlib\u001b[49m\u001b[38;5;241;43m.\u001b[39;49m\u001b[43mimport_module\u001b[49m\u001b[43m(\u001b[49m\u001b[43mname\u001b[49m\u001b[43m)\u001b[49m\n\u001b[0;32m    142\u001b[0m \u001b[38;5;28;01mexcept\u001b[39;00m \u001b[38;5;167;01mImportError\u001b[39;00m:\n",
      "File \u001b[1;32mc:\\Program Files\\Python310\\lib\\importlib\\__init__.py:126\u001b[0m, in \u001b[0;36mimport_module\u001b[1;34m(name, package)\u001b[0m\n\u001b[0;32m    125\u001b[0m         level \u001b[38;5;241m+\u001b[39m\u001b[38;5;241m=\u001b[39m \u001b[38;5;241m1\u001b[39m\n\u001b[1;32m--> 126\u001b[0m \u001b[38;5;28;01mreturn\u001b[39;00m \u001b[43m_bootstrap\u001b[49m\u001b[38;5;241;43m.\u001b[39;49m\u001b[43m_gcd_import\u001b[49m\u001b[43m(\u001b[49m\u001b[43mname\u001b[49m\u001b[43m[\u001b[49m\u001b[43mlevel\u001b[49m\u001b[43m:\u001b[49m\u001b[43m]\u001b[49m\u001b[43m,\u001b[49m\u001b[43m \u001b[49m\u001b[43mpackage\u001b[49m\u001b[43m,\u001b[49m\u001b[43m \u001b[49m\u001b[43mlevel\u001b[49m\u001b[43m)\u001b[49m\n",
      "File \u001b[1;32m<frozen importlib._bootstrap>:1050\u001b[0m, in \u001b[0;36m_gcd_import\u001b[1;34m(name, package, level)\u001b[0m\n",
      "File \u001b[1;32m<frozen importlib._bootstrap>:1027\u001b[0m, in \u001b[0;36m_find_and_load\u001b[1;34m(name, import_)\u001b[0m\n",
      "File \u001b[1;32m<frozen importlib._bootstrap>:1004\u001b[0m, in \u001b[0;36m_find_and_load_unlocked\u001b[1;34m(name, import_)\u001b[0m\n",
      "\u001b[1;31mModuleNotFoundError\u001b[0m: No module named 'openpyxl'",
      "\nDuring handling of the above exception, another exception occurred:\n",
      "\u001b[1;31mImportError\u001b[0m                               Traceback (most recent call last)",
      "Cell \u001b[1;32mIn[2], line 5\u001b[0m\n\u001b[0;32m      2\u001b[0m \u001b[38;5;28;01mimport\u001b[39;00m \u001b[38;5;21;01mpandas\u001b[39;00m \u001b[38;5;28;01mas\u001b[39;00m \u001b[38;5;21;01mpd\u001b[39;00m \n\u001b[0;32m      3\u001b[0m \u001b[38;5;66;03m#pulzia dati e creazione file csv\u001b[39;00m\n\u001b[0;32m      4\u001b[0m \u001b[38;5;66;03m#education science and research\u001b[39;00m\n\u001b[1;32m----> 5\u001b[0m df_total_research_fundings \u001b[38;5;241m=\u001b[39m \u001b[43mpd\u001b[49m\u001b[38;5;241;43m.\u001b[39;49m\u001b[43mread_excel\u001b[49m\u001b[43m(\u001b[49m\u001b[38;5;124;43m\"\u001b[39;49m\u001b[38;5;124;43m../data/education_science_research/total_research_funding.xlsx\u001b[39;49m\u001b[38;5;124;43m\"\u001b[39;49m\u001b[43m,\u001b[49m\u001b[43m \u001b[49m\u001b[43mskiprows\u001b[49m\u001b[38;5;241;43m=\u001b[39;49m\u001b[38;5;241;43m18\u001b[39;49m\u001b[43m)\u001b[49m\n\u001b[0;32m      6\u001b[0m df_men_research_fundings \u001b[38;5;241m=\u001b[39m pd\u001b[38;5;241m.\u001b[39mread_excel(\u001b[38;5;124m\"\u001b[39m\u001b[38;5;124m../data/education_science_research/men_research_funding.xlsx\u001b[39m\u001b[38;5;124m\"\u001b[39m, skiprows\u001b[38;5;241m=\u001b[39m\u001b[38;5;241m18\u001b[39m)\n\u001b[0;32m      7\u001b[0m df_women_research_fundings \u001b[38;5;241m=\u001b[39m pd\u001b[38;5;241m.\u001b[39mread_excel(\u001b[38;5;124m\"\u001b[39m\u001b[38;5;124m../data/education_science_research/women_research_funding.xlsx\u001b[39m\u001b[38;5;124m\"\u001b[39m, skiprows\u001b[38;5;241m=\u001b[39m\u001b[38;5;241m18\u001b[39m)\n",
      "File \u001b[1;32m~\\AppData\\Roaming\\Python\\Python310\\site-packages\\pandas\\util\\_decorators.py:211\u001b[0m, in \u001b[0;36mdeprecate_kwarg.<locals>._deprecate_kwarg.<locals>.wrapper\u001b[1;34m(*args, **kwargs)\u001b[0m\n\u001b[0;32m    209\u001b[0m     \u001b[38;5;28;01melse\u001b[39;00m:\n\u001b[0;32m    210\u001b[0m         kwargs[new_arg_name] \u001b[38;5;241m=\u001b[39m new_arg_value\n\u001b[1;32m--> 211\u001b[0m \u001b[38;5;28;01mreturn\u001b[39;00m func(\u001b[38;5;241m*\u001b[39margs, \u001b[38;5;241m*\u001b[39m\u001b[38;5;241m*\u001b[39mkwargs)\n",
      "File \u001b[1;32m~\\AppData\\Roaming\\Python\\Python310\\site-packages\\pandas\\util\\_decorators.py:331\u001b[0m, in \u001b[0;36mdeprecate_nonkeyword_arguments.<locals>.decorate.<locals>.wrapper\u001b[1;34m(*args, **kwargs)\u001b[0m\n\u001b[0;32m    325\u001b[0m \u001b[38;5;28;01mif\u001b[39;00m \u001b[38;5;28mlen\u001b[39m(args) \u001b[38;5;241m>\u001b[39m num_allow_args:\n\u001b[0;32m    326\u001b[0m     warnings\u001b[38;5;241m.\u001b[39mwarn(\n\u001b[0;32m    327\u001b[0m         msg\u001b[38;5;241m.\u001b[39mformat(arguments\u001b[38;5;241m=\u001b[39m_format_argument_list(allow_args)),\n\u001b[0;32m    328\u001b[0m         \u001b[38;5;167;01mFutureWarning\u001b[39;00m,\n\u001b[0;32m    329\u001b[0m         stacklevel\u001b[38;5;241m=\u001b[39mfind_stack_level(),\n\u001b[0;32m    330\u001b[0m     )\n\u001b[1;32m--> 331\u001b[0m \u001b[38;5;28;01mreturn\u001b[39;00m func(\u001b[38;5;241m*\u001b[39margs, \u001b[38;5;241m*\u001b[39m\u001b[38;5;241m*\u001b[39mkwargs)\n",
      "File \u001b[1;32m~\\AppData\\Roaming\\Python\\Python310\\site-packages\\pandas\\io\\excel\\_base.py:482\u001b[0m, in \u001b[0;36mread_excel\u001b[1;34m(io, sheet_name, header, names, index_col, usecols, squeeze, dtype, engine, converters, true_values, false_values, skiprows, nrows, na_values, keep_default_na, na_filter, verbose, parse_dates, date_parser, thousands, decimal, comment, skipfooter, convert_float, mangle_dupe_cols, storage_options)\u001b[0m\n\u001b[0;32m    480\u001b[0m \u001b[38;5;28;01mif\u001b[39;00m \u001b[38;5;129;01mnot\u001b[39;00m \u001b[38;5;28misinstance\u001b[39m(io, ExcelFile):\n\u001b[0;32m    481\u001b[0m     should_close \u001b[38;5;241m=\u001b[39m \u001b[38;5;28;01mTrue\u001b[39;00m\n\u001b[1;32m--> 482\u001b[0m     io \u001b[38;5;241m=\u001b[39m \u001b[43mExcelFile\u001b[49m\u001b[43m(\u001b[49m\u001b[43mio\u001b[49m\u001b[43m,\u001b[49m\u001b[43m \u001b[49m\u001b[43mstorage_options\u001b[49m\u001b[38;5;241;43m=\u001b[39;49m\u001b[43mstorage_options\u001b[49m\u001b[43m,\u001b[49m\u001b[43m \u001b[49m\u001b[43mengine\u001b[49m\u001b[38;5;241;43m=\u001b[39;49m\u001b[43mengine\u001b[49m\u001b[43m)\u001b[49m\n\u001b[0;32m    483\u001b[0m \u001b[38;5;28;01melif\u001b[39;00m engine \u001b[38;5;129;01mand\u001b[39;00m engine \u001b[38;5;241m!=\u001b[39m io\u001b[38;5;241m.\u001b[39mengine:\n\u001b[0;32m    484\u001b[0m     \u001b[38;5;28;01mraise\u001b[39;00m \u001b[38;5;167;01mValueError\u001b[39;00m(\n\u001b[0;32m    485\u001b[0m         \u001b[38;5;124m\"\u001b[39m\u001b[38;5;124mEngine should not be specified when passing \u001b[39m\u001b[38;5;124m\"\u001b[39m\n\u001b[0;32m    486\u001b[0m         \u001b[38;5;124m\"\u001b[39m\u001b[38;5;124man ExcelFile - ExcelFile already has the engine set\u001b[39m\u001b[38;5;124m\"\u001b[39m\n\u001b[0;32m    487\u001b[0m     )\n",
      "File \u001b[1;32m~\\AppData\\Roaming\\Python\\Python310\\site-packages\\pandas\\io\\excel\\_base.py:1695\u001b[0m, in \u001b[0;36mExcelFile.__init__\u001b[1;34m(self, path_or_buffer, engine, storage_options)\u001b[0m\n\u001b[0;32m   1692\u001b[0m \u001b[38;5;28mself\u001b[39m\u001b[38;5;241m.\u001b[39mengine \u001b[38;5;241m=\u001b[39m engine\n\u001b[0;32m   1693\u001b[0m \u001b[38;5;28mself\u001b[39m\u001b[38;5;241m.\u001b[39mstorage_options \u001b[38;5;241m=\u001b[39m storage_options\n\u001b[1;32m-> 1695\u001b[0m \u001b[38;5;28mself\u001b[39m\u001b[38;5;241m.\u001b[39m_reader \u001b[38;5;241m=\u001b[39m \u001b[38;5;28;43mself\u001b[39;49m\u001b[38;5;241;43m.\u001b[39;49m\u001b[43m_engines\u001b[49m\u001b[43m[\u001b[49m\u001b[43mengine\u001b[49m\u001b[43m]\u001b[49m\u001b[43m(\u001b[49m\u001b[38;5;28;43mself\u001b[39;49m\u001b[38;5;241;43m.\u001b[39;49m\u001b[43m_io\u001b[49m\u001b[43m,\u001b[49m\u001b[43m \u001b[49m\u001b[43mstorage_options\u001b[49m\u001b[38;5;241;43m=\u001b[39;49m\u001b[43mstorage_options\u001b[49m\u001b[43m)\u001b[49m\n",
      "File \u001b[1;32m~\\AppData\\Roaming\\Python\\Python310\\site-packages\\pandas\\io\\excel\\_openpyxl.py:556\u001b[0m, in \u001b[0;36mOpenpyxlReader.__init__\u001b[1;34m(self, filepath_or_buffer, storage_options)\u001b[0m\n\u001b[0;32m    541\u001b[0m \u001b[38;5;129m@doc\u001b[39m(storage_options\u001b[38;5;241m=\u001b[39m_shared_docs[\u001b[38;5;124m\"\u001b[39m\u001b[38;5;124mstorage_options\u001b[39m\u001b[38;5;124m\"\u001b[39m])\n\u001b[0;32m    542\u001b[0m \u001b[38;5;28;01mdef\u001b[39;00m \u001b[38;5;21m__init__\u001b[39m(\n\u001b[0;32m    543\u001b[0m     \u001b[38;5;28mself\u001b[39m,\n\u001b[0;32m    544\u001b[0m     filepath_or_buffer: FilePath \u001b[38;5;241m|\u001b[39m ReadBuffer[\u001b[38;5;28mbytes\u001b[39m],\n\u001b[0;32m    545\u001b[0m     storage_options: StorageOptions \u001b[38;5;241m=\u001b[39m \u001b[38;5;28;01mNone\u001b[39;00m,\n\u001b[0;32m    546\u001b[0m ) \u001b[38;5;241m-\u001b[39m\u001b[38;5;241m>\u001b[39m \u001b[38;5;28;01mNone\u001b[39;00m:\n\u001b[0;32m    547\u001b[0m \u001b[38;5;250m    \u001b[39m\u001b[38;5;124;03m\"\"\"\u001b[39;00m\n\u001b[0;32m    548\u001b[0m \u001b[38;5;124;03m    Reader using openpyxl engine.\u001b[39;00m\n\u001b[0;32m    549\u001b[0m \n\u001b[1;32m   (...)\u001b[0m\n\u001b[0;32m    554\u001b[0m \u001b[38;5;124;03m    {storage_options}\u001b[39;00m\n\u001b[0;32m    555\u001b[0m \u001b[38;5;124;03m    \"\"\"\u001b[39;00m\n\u001b[1;32m--> 556\u001b[0m     \u001b[43mimport_optional_dependency\u001b[49m\u001b[43m(\u001b[49m\u001b[38;5;124;43m\"\u001b[39;49m\u001b[38;5;124;43mopenpyxl\u001b[39;49m\u001b[38;5;124;43m\"\u001b[39;49m\u001b[43m)\u001b[49m\n\u001b[0;32m    557\u001b[0m     \u001b[38;5;28msuper\u001b[39m()\u001b[38;5;241m.\u001b[39m\u001b[38;5;21m__init__\u001b[39m(filepath_or_buffer, storage_options\u001b[38;5;241m=\u001b[39mstorage_options)\n",
      "File \u001b[1;32m~\\AppData\\Roaming\\Python\\Python310\\site-packages\\pandas\\compat\\_optional.py:144\u001b[0m, in \u001b[0;36mimport_optional_dependency\u001b[1;34m(name, extra, errors, min_version)\u001b[0m\n\u001b[0;32m    142\u001b[0m \u001b[38;5;28;01mexcept\u001b[39;00m \u001b[38;5;167;01mImportError\u001b[39;00m:\n\u001b[0;32m    143\u001b[0m     \u001b[38;5;28;01mif\u001b[39;00m errors \u001b[38;5;241m==\u001b[39m \u001b[38;5;124m\"\u001b[39m\u001b[38;5;124mraise\u001b[39m\u001b[38;5;124m\"\u001b[39m:\n\u001b[1;32m--> 144\u001b[0m         \u001b[38;5;28;01mraise\u001b[39;00m \u001b[38;5;167;01mImportError\u001b[39;00m(msg)\n\u001b[0;32m    145\u001b[0m     \u001b[38;5;28;01melse\u001b[39;00m:\n\u001b[0;32m    146\u001b[0m         \u001b[38;5;28;01mreturn\u001b[39;00m \u001b[38;5;28;01mNone\u001b[39;00m\n",
      "\u001b[1;31mImportError\u001b[0m: Missing optional dependency 'openpyxl'.  Use pip or conda to install openpyxl."
     ]
    }
   ],
>>>>>>> Stashed changes
   "source": [
    "import openpyxl\n",
    "import csv \n",
    "import pandas as pd \n",
    "#pulzia dati e creazione file csv\n",
    "\n",
    "#education science and research\n",
    "df_total_research_fundings = pd.read_excel(\"../data/education_science_research/total_research_funding.xlsx\", skiprows=18)\n",
    "df_men_research_fundings = pd.read_excel(\"../data/education_science_research/men_research_funding.xlsx\", skiprows=18)\n",
    "df_women_research_fundings = pd.read_excel(\"../data/education_science_research/women_research_funding.xlsx\", skiprows=18)\n",
    "df_total_research_fundings.to_csv(\"../data/education_science_research/total_research_funding.csv\", index=False)\n",
    "df_men_research_fundings.to_csv(\"../data/education_science_research/men_research_funding.csv\", index=False)\n",
    "df_women_research_fundings.to_csv(\"../data/education_science_research/women_research_funding.csv\", index=False)\n",
    "df_total_research_fundings = df_total_research_fundings.fillna(\"\")\n",
    "df_men_research_fundings = df_men_research_fundings.fillna(\"\")\n",
    "df_women_research_fundings = df_women_research_fundings.fillna(\"\")\n",
    "\n",
    "#environment and climate change\n",
    "df_total_political_executives = pd.read_excel(\"../data/environment_climate_change/total_political_executives_climate.xlsx\", skiprows=18)\n",
    "df_men_political_executives = pd.read_excel(\"../data/environment_climate_change/men_political_executives_climate.xlsx\", skiprows=18)\n",
    "df_women_political_executives = pd.read_excel(\"../data/environment_climate_change/women_political_executives_climate.xlsx\", skiprows=18)\n",
    "df_total_political_executives.to_csv(\"../data/environment_climate_change/total_political_executives_climate.csv\", index=False)\n",
    "df_men_political_executives.to_csv(\"../data/environment_climate_change/men_political_executives_climate.csv\", index=False)\n",
    "df_women_political_executives.to_csv(\"../data/environment_climate_change/women_political_executives_climate.csv\", index=False)\n",
    "df_total_political_executives = df_total_political_executives.fillna(\"\")\n",
    "df_men_political_executives = df_men_political_executives.fillna(\"\")\n",
    "df_women_political_executives = df_women_political_executives.fillna(\"\")\n",
    "\n",
    "#major political party leaders\n",
    "df_total_political_parties = pd.read_excel(\"../data/major_political_party_leaders/total_political_parties.xlsx\", skiprows=18)\n",
    "df_men_political_parties = pd.read_excel(\"../data/major_political_party_leaders/men_political_parties.xlsx\", skiprows=18)\n",
    "df_women_political_parties = pd.read_excel(\"../data/major_political_party_leaders/women_political_parties.xlsx\", skiprows=18)\n",
    "df_total_political_parties.to_csv(\"../data/major_political_party_leaders/total_political_parties.csv\", index=False)\n",
    "df_men_political_parties.to_csv(\"../data/major_political_party_leaders/men_political_parties.csv\", index=False)\n",
    "df_women_political_parties.to_csv(\"../data/major_political_party_leaders/women_political_parties.csv\", index=False)\n",
    "df_total_political_parties = df_total_political_parties.fillna(\"\")\n",
    "df_men_political_parties = df_men_political_parties.fillna(\"\")\n",
    "df_women_political_parties = df_women_political_parties.fillna(\"\")\n",
    "\n",
    "\n",
    "\n",
    "#public EU administrations\n",
    "df_public_adm_total = pd.read_excel(\"../data/European_public_admin/european_agencies_total.xlsx\", skiprows=18)\n",
    "df_public_adm_men = pd.read_excel(\"../data/European_public_admin/european_agencies_men.xlsx\", skiprows=18)\n",
    "df_public_adm_women = pd.read_excel(\"../data/European_public_admin/european_agencies_women.xlsx\", skiprows=18)\n",
    "df_public_adm_total.to_csv(\"../data/European_public_admin/european_agencies_total.csv\", index=False)\n",
    "df_public_adm_men.to_csv(\"../data/European_public_admin/european_agencies_men.csv\", index=False)\n",
    "df_public_adm_women.to_csv(\"../data/European_public_admin/european_agencies_women.csv\", index=False)\n",
<<<<<<< Updated upstream
    "df_public_adm_total = df_public_adm_total.fillna(\"\")\n",
    "df_public_adm_men = df_public_adm_men.fillna(\"\")\n",
    "df_public_adm_women = df_public_adm_men.fillna(\"\")\n"
=======
    "df_public_adm_women = df_public_adm_men.fillna(\"\")\n",
    "\n",
    "#european courts\n",
    "df_total_european_court = pd.read_excel(\"../data/european_courts/total_judges_european_court.xlsx\", skiprows=18)\n",
    "df_men_european_court = pd.read_excel(\"../data/european_courts/men_judges_european_court.xlsx\", skiprows=18)\n",
    "df_women_european_court = pd.read_excel(\"../data/european_courts/women_judges_european_court.xlsx\", skiprows=18)\n",
    "df_total_european_court.to_csv(\"../data/european_courts/total_judges_european_court.xlsx\", index=False)\n",
    "df_men_european_court.to_csv(\"../data/european_courts/men_judges_european_court.xlsx\", index=False)\n",
    "df_women_european_court.to_csv(\"../data/european_courts/women_judges_european_court.xlsx\", index=False)\n",
    "df_total_european_court = df_total_european_court.fillna(\"\")\n",
    "df_men_european_court = df_men_european_court.fillna(\"\")\n",
    "df_women_european_court = df_women_european_court.fillna(\"\")\n",
    "\n",
    "#european finance\n",
    "df_european_financial_institutions_total = pd.read_excel(\"../data/European_finance/european_financial_institutions_total.xlsx\", skiprows=18)\n",
    "df_european_financial_institutions_men = pd.read_excel(\"../data/European_finance/european_financial_institutions_men.xlsx\", skiprows=18)\n",
    "df_european_financial_institutions_women = pd.read_excel(\"../data/European_finance/european_financial_institutions_women.xlsx\", skiprows=18)\n",
    "df_european_financial_institutions_total.to_csv(\"../data/European_finance/european_financial_institutions_total.xlsx\", index = False)\n",
    "df_european_financial_institutions_men.to_csv(\"../data/European_finance/european_financial_institutions_men.xlsx\", index= False)\n",
    "df_european_financial_institutions_women.to_csv(\"../data/European_finance/european_financial_institutions_women.xlsx\", index= False)\n",
    "df_european_financial_institutions_total = df_european_financial_institutions_total.fillna(\"\")\n",
    "df_european_financial_institutions_men = df_european_financial_institutions_men.fillna(\"\")\n",
    "df_european_financial_institutions_women = df_european_financial_institutions_women.fillna(\"\")\n"
>>>>>>> Stashed changes
   ]
  },
  {
   "cell_type": "markdown",
   "metadata": {},
   "source": [
    "### Analisi di correlazione"
   ]
  },
  {
   "cell_type": "markdown",
   "metadata": {},
   "source": [
    "From the correlation matrix, we can conclude that:\n",
    "- There is a strong positive correlation (0.834070) between the percentage of men and women with discriminatory attitudes towards women. This suggests that in countries where a higher percentage of men have discriminatory attitudes towards women, there is also a higher percentage of women with discriminatory attitudes towards other women. \n",
    "- The correlations between discriminatory attitudes and the gender gap in earnings are relatively low (between 0.068956 and 0.125778), suggesting that there is not a strong linear relationship between these two aspects. This does not exclude the possibility of a non-linear relationship or the influence of other variables not included in this analysis.\n",
    "\n",
    "\n",
    "\n",
    "(da confermare e rivedere le seguenti interpretazioni:\n",
    "- % Men e % Women hanno una correlazione di 0.834070, il che indica una forte correlazione positiva. Questo suggerisce che nei paesi dove gli uomini mostrano comportamenti discriminatori verso le donne, anche le donne tendono a mostrare comportamenti discriminatori verso altre donne, e viceversa.\n",
    "- % Men e Any cash labor income hanno una correlazione di 0.125778, che è una correlazione positiva ma debole. Questo indica che non c’è una relazione forte tra gli uomini con comportamenti discriminatori e il divario salariale di genere.\n",
    "- % Men e Cash only hanno una correlazione di 0.086807, che è una correlazione positiva molto debole. Questo suggerisce che non c’è quasi nessuna relazione tra gli uomini con comportamenti discriminatori e il divario salariale di genere considerando solo il reddito da lavoro in contanti.\n",
    "- Any cash labor income e Cash only hanno una correlazione di 0.863380, che è una forte correlazione positiva. Questo indica che quando il divario salariale di genere considerando qualsiasi reddito da lavoro aumenta, anche il divario salariale di genere considerando solo il reddito da lavoro in contanti tende ad aumentare, e viceversa.)"
   ]
  },
  {
   "cell_type": "markdown",
   "metadata": {},
   "source": [
    "### Cluster definition and visualization\n",
    "\n",
    "Clustering is an unsupervised machine learning technique consisting in grouping unlabeled examples. The goal of this process is creating a data-driven classification of the observations and to infere relevant common features. The algorithm below deals with our datasets regarding gender gap across several fields. The first step is to create a syntetic visualization of the available data. <br>\n",
    "Each dataframe will consider the most interesting statistics about these topics and will show them in an interesting way (da aggiustare)"
   ]
  }
 ],
 "metadata": {
  "kernelspec": {
   "display_name": "Python 3",
   "language": "python",
   "name": "python3"
  },
  "language_info": {
   "codemirror_mode": {
    "name": "ipython",
    "version": 3
   },
   "file_extension": ".py",
   "mimetype": "text/x-python",
   "name": "python",
   "nbconvert_exporter": "python",
   "pygments_lexer": "ipython3",
   "version": "3.10.8"
  }
 },
 "nbformat": 4,
 "nbformat_minor": 2
}
