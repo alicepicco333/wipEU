{
 "cells": [
  {
   "cell_type": "code",
   "execution_count": 1,
   "metadata": {},
   "outputs": [],
   "source": [
    "import openpyxl\n",
    "import csv \n",
    "import pandas as pd \n",
    "import numpy as np\n",
    "import matplotlib.pyplot as plt\n",
    "import statsmodels.api as sm\n",
    "from scipy.stats import ttest_ind\n",
    "#pulzia dati e creazione file csv\n",
    "def force_to_numeric(dataframe1, dataframe2, dataframe3):\n",
    "    cols = ['2023', '2022', '2021', '2020', '2019', '2018']\n",
    "    dataframe1[cols] = dataframe1[cols].apply(pd.to_numeric, errors='coerce')\n",
    "    dataframe2[cols] = dataframe2[cols].apply(pd.to_numeric, errors='coerce')\n",
    "    dataframe3[cols] = dataframe3[cols].apply(pd.to_numeric, errors='coerce')\n",
    "    \n",
    "    return dataframe1, dataframe2, dataframe3\n",
    "\n",
    "\n",
    "\n",
    "def column_remove(dataframe1, dataframe2, dataframe3):\n",
    "    dataframe1 = dataframe1.iloc[:, :7]\n",
    "    dataframe2 = dataframe2.iloc[:, :7]\n",
    "    dataframe3 = dataframe3.iloc[:, :7]\n",
    "\n",
    "    return dataframe1, dataframe2, dataframe3\n",
    "\n",
    "def generate_overall_trend_correlation(df1: pd.DataFrame, df2: pd.DataFrame) -> None:\n",
    "    \"\"\"\n",
    "    Calculates the correlation between the differences in values for each column of two input dataframes and prints the results.\n",
    "\n",
    "    Args:\n",
    "        df1 (pd.DataFrame): The first input dataframe.\n",
    "        df2 (pd.DataFrame): The second input dataframe.\n",
    "\n",
    "    Returns:\n",
    "        None: The function only prints the correlation matrices for each column.\n",
    "    \"\"\"\n",
    "    common_columns = df1.columns.intersection(df2.columns)\n",
    "    for column in common_columns:\n",
    "        diff_df1 = df1[column].diff().dropna()\n",
    "        diff_df2 = df2[column].diff().dropna()\n",
    "\n",
    "        merged_diff_df = pd.concat([diff_df1, diff_df2], axis=1)\n",
    "        correlation = merged_diff_df.corr(method=\"spearman\")\n",
    "        print(f'Correlation in trend for {column}:\\n', correlation)\n",
    "\n",
    "def generate_yearly_correlations(df1: pd.DataFrame, df2: pd.DataFrame) -> None:\n",
    "    \"\"\"\n",
    "    Calculates the correlation between columns of two input dataframes and prints the results.\n",
    "\n",
    "    Args:\n",
    "        df1 (pd.DataFrame): The first input dataframe.\n",
    "        df2 (pd.DataFrame): The second input dataframe.\n",
    "\n",
    "    Returns:\n",
    "        None: The function only prints the correlation matrices for each common column.\n",
    "    \"\"\"\n",
    "    common_columns = df1.columns.intersection(df2.columns)\n",
    "    for column in common_columns:\n",
    "        merged_df = pd.concat([df1[column], df2[column]], axis=1)\n",
    "        correlation = merged_df.corr(method=\"spearman\")\n",
    "        print(f'Correlation for {column}:\\n', correlation)\n",
    "\n",
    "\n",
    "\n",
    "\n",
    "#education science and research\n",
    "df_total_research_fundings = pd.read_excel(\"../data/education_science_research/total_research_funding.xlsx\", skiprows=18)\n",
    "df_men_research_fundings = pd.read_excel(\"../data/education_science_research/men_research_funding.xlsx\", skiprows=18)\n",
    "df_women_research_fundings = pd.read_excel(\"../data/education_science_research/women_research_funding.xlsx\", skiprows=18)\n",
    "df_total_research_fundings.to_csv(\"../data/education_science_research/total_research_funding.csv\", index=False)\n",
    "df_men_research_fundings.to_csv(\"../data/education_science_research/men_research_funding.csv\", index=False)\n",
    "df_women_research_fundings.to_csv(\"../data/education_science_research/women_research_funding.csv\", index=False)\n",
    "df_total_research_fundings = df_total_research_fundings\n",
    "df_men_research_fundings = df_men_research_fundings\n",
    "df_women_research_fundings = df_women_research_fundings\n",
    "\n",
    "#environment and climate change\n",
    "df_total_political_executives = pd.read_excel(\"../data/environment_climate_change/total_political_executives_climate.xlsx\", skiprows=18)\n",
    "df_men_political_executives = pd.read_excel(\"../data/environment_climate_change/men_political_executives_climate.xlsx\", skiprows=18)\n",
    "df_women_political_executives = pd.read_excel(\"../data/environment_climate_change/women_political_executives_climate.xlsx\", skiprows=18)\n",
    "df_total_political_executives.to_csv(\"../data/environment_climate_change/total_political_executives_climate.csv\", index=False)\n",
    "df_men_political_executives.to_csv(\"../data/environment_climate_change/men_political_executives_climate.csv\", index=False)\n",
    "df_women_political_executives.to_csv(\"../data/environment_climate_change/women_political_executives_climate.csv\", index=False)\n",
    "df_total_political_executives = df_total_political_executives\n",
    "df_men_political_executives = df_men_political_executives\n",
    "df_women_political_executives = df_women_political_executives\n",
    "\n",
    "#major political party leaders\n",
    "df_total_political_parties = pd.read_excel(\"../data/major_political_party_leaders/total_political_parties.xlsx\", skiprows=18)\n",
    "df_men_political_parties = pd.read_excel(\"../data/major_political_party_leaders/men_political_parties.xlsx\", skiprows=18)\n",
    "df_women_political_parties = pd.read_excel(\"../data/major_political_party_leaders/women_political_parties.xlsx\", skiprows=18)\n",
    "df_total_political_parties.to_csv(\"../data/major_political_party_leaders/total_political_parties.csv\", index=False)\n",
    "df_men_political_parties.to_csv(\"../data/major_political_party_leaders/men_political_parties.csv\", index=False)\n",
    "df_women_political_parties.to_csv(\"../data/major_political_party_leaders/women_political_parties.csv\", index=False)\n",
    "df_total_political_parties = df_total_political_parties\n",
    "df_men_political_parties = df_men_political_parties\n",
    "df_women_political_parties = df_women_political_parties\n",
    "\n",
    "\n",
    "\n",
    "#public EU administrations\n",
    "df_public_adm_total = pd.read_excel(\"../data/European_public_admin/european_agencies_total.xlsx\", skiprows=18)\n",
    "df_public_adm_men = pd.read_excel(\"../data/European_public_admin/european_agencies_men.xlsx\", skiprows=18)\n",
    "df_public_adm_women = pd.read_excel(\"../data/European_public_admin/european_agencies_women.xlsx\", skiprows=18)\n",
    "df_public_adm_total.to_csv(\"../data/European_public_admin/european_agencies_total.csv\", index=False)\n",
    "df_public_adm_men.to_csv(\"../data/European_public_admin/european_agencies_men.csv\", index=False)\n",
    "df_public_adm_women.to_csv(\"../data/European_public_admin/european_agencies_women.csv\", index=False)\n",
    "df_public_adm_total = df_public_adm_total\n",
    "df_public_adm_men = df_public_adm_men\n",
    "df_public_adm_women = df_public_adm_men\n",
    "\n",
    "#european courts\n",
    "df_total_european_court = pd.read_excel(\"../data/european_courts/total_judges_european_court.xlsx\", skiprows=18)\n",
    "df_men_european_court = pd.read_excel(\"../data/european_courts/men_judges_european_court.xlsx\", skiprows=18)\n",
    "df_women_european_court = pd.read_excel(\"../data/european_courts/women_judges_european_court.xlsx\", skiprows=18)\n",
    "df_total_european_court.to_csv(\"../data/european_courts/total_judges_european_court.csv\", index=False)\n",
    "df_men_european_court.to_csv(\"../data/european_courts/men_judges_european_court.csv\", index=False)\n",
    "df_women_european_court.to_csv(\"../data/european_courts/women_judges_european_court.csv\", index=False)\n",
    "df_total_european_court = df_total_european_court\n",
    "df_men_european_court = df_men_european_court\n",
    "df_women_european_court = df_women_european_court\n",
    "\n",
    "#european finance\n",
    "df_european_financial_institutions_total = pd.read_excel(\"../data/European_finance/european_financial_institutions_total.xlsx\", skiprows=18)\n",
    "df_european_financial_institutions_men = pd.read_excel(\"../data/European_finance/european_financial_institutions_men.xlsx\", skiprows=18)\n",
    "df_european_financial_institutions_women = pd.read_excel(\"../data/European_finance/european_financial_institutions_women.xlsx\", skiprows=18)\n",
    "df_european_financial_institutions_total.to_csv(\"../data/European_finance/european_financial_institutions_total.csv\", index = False)\n",
    "df_european_financial_institutions_men.to_csv(\"../data/European_finance/european_financial_institutions_men.csv\", index= False)\n",
    "df_european_financial_institutions_women.to_csv(\"../data/European_finance/european_financial_institutions_women.csv\", index= False)\n",
    "df_european_financial_institutions_total = df_european_financial_institutions_total\n",
    "df_european_financial_institutions_men = df_european_financial_institutions_men\n",
    "df_european_financial_institutions_women = df_european_financial_institutions_women\n"
   ]
  },
  {
   "cell_type": "code",
   "execution_count": 2,
   "metadata": {},
   "outputs": [],
   "source": [
    "df_women_research_fundings = df_women_research_fundings.dropna()\n",
    "df_men_research_fundings = df_men_research_fundings.dropna()\n",
    "df_total_research_fundings = df_total_research_fundings.dropna()\n",
    "\n",
    "df_public_adm_women = df_public_adm_women.dropna()\n",
    "df_public_adm_men = df_public_adm_men.dropna()\n",
    "df_public_adm_total = df_public_adm_total.dropna()\n",
    "\n",
    "\n",
    "df_women_research_fundings = df_women_research_fundings.reset_index(drop=True)\n",
    "df_men_research_fundings = df_men_research_fundings.reset_index(drop=True)\n",
    "df_total_research_fundings = df_total_research_fundings.reset_index(drop=True)\n",
    "\n",
    "df_public_adm_women = df_public_adm_women.reset_index(drop=True)\n",
    "df_public_adm_men = df_public_adm_men.reset_index(drop=True)\n",
    "df_public_adm_total = df_public_adm_total.reset_index(drop=True)"
   ]
  },
  {
   "cell_type": "code",
   "execution_count": 3,
   "metadata": {},
   "outputs": [
    {
     "ename": "TypeError",
     "evalue": "column_remove() missing 2 required positional arguments: 'dataframe2' and 'dataframe3'",
     "output_type": "error",
     "traceback": [
      "\u001b[1;31m---------------------------------------------------------------------------\u001b[0m",
      "\u001b[1;31mTypeError\u001b[0m                                 Traceback (most recent call last)",
      "Cell \u001b[1;32mIn[3], line 5\u001b[0m\n\u001b[0;32m      2\u001b[0m df_men_research_fundings \u001b[38;5;241m=\u001b[39m df_men_research_fundings\u001b[38;5;241m.\u001b[39mrename(columns\u001b[38;5;241m=\u001b[39m{\u001b[38;5;124m\"\u001b[39m\u001b[38;5;124mGeographic region\u001b[39m\u001b[38;5;124m\\\u001b[39m\u001b[38;5;124mTime\u001b[39m\u001b[38;5;124m\"\u001b[39m: \u001b[38;5;124m\"\u001b[39m\u001b[38;5;124mGeographic region\u001b[39m\u001b[38;5;124m\"\u001b[39m})\n\u001b[0;32m      3\u001b[0m df_total_research_fundings \u001b[38;5;241m=\u001b[39m df_total_research_fundings\u001b[38;5;241m.\u001b[39mrename(columns\u001b[38;5;241m=\u001b[39m{\u001b[38;5;124m\"\u001b[39m\u001b[38;5;124mGeographic region\u001b[39m\u001b[38;5;124m\\\u001b[39m\u001b[38;5;124mTime\u001b[39m\u001b[38;5;124m\"\u001b[39m: \u001b[38;5;124m\"\u001b[39m\u001b[38;5;124mGeographic region\u001b[39m\u001b[38;5;124m\"\u001b[39m})\n\u001b[1;32m----> 5\u001b[0m df_women_research_fundings \u001b[38;5;241m=\u001b[39m \u001b[43mcolumn_remove\u001b[49m\u001b[43m(\u001b[49m\u001b[43mdf_women_research_fundings\u001b[49m\u001b[43m)\u001b[49m\n\u001b[0;32m      6\u001b[0m df_men_research_fundings \u001b[38;5;241m=\u001b[39m column_remove(df_men_research_fundings)\n\u001b[0;32m      7\u001b[0m df_total_research_fundings \u001b[38;5;241m=\u001b[39m column_remove(df_total_research_fundings)\n",
      "\u001b[1;31mTypeError\u001b[0m: column_remove() missing 2 required positional arguments: 'dataframe2' and 'dataframe3'"
     ]
    }
   ],
   "source": [
    "df_women_research_fundings = df_women_research_fundings.rename(columns={\"Geographic region\\Time\": \"Geographic region\"})\n",
    "df_men_research_fundings = df_men_research_fundings.rename(columns={\"Geographic region\\Time\": \"Geographic region\"})\n",
    "df_total_research_fundings = df_total_research_fundings.rename(columns={\"Geographic region\\Time\": \"Geographic region\"})\n",
    "\n",
    "df_women_research_fundings = column_remove(df_women_research_fundings)\n",
    "df_men_research_fundings = column_remove(df_men_research_fundings)\n",
    "df_total_research_fundings = column_remove(df_total_research_fundings)\n",
    "\n",
    "\n",
    "# df_women_research_fundings.head()\n",
    "#numero di donne che ricoprono ruoli fondamentali in associazioni di fondi"
   ]
  },
  {
   "cell_type": "code",
   "execution_count": null,
   "metadata": {},
   "outputs": [
    {
     "ename": "TypeError",
     "evalue": "column_remove() missing 2 required positional arguments: 'dataframe2' and 'dataframe3'",
     "output_type": "error",
     "traceback": [
      "\u001b[1;31m---------------------------------------------------------------------------\u001b[0m",
      "\u001b[1;31mTypeError\u001b[0m                                 Traceback (most recent call last)",
      "Cell \u001b[1;32mIn[58], line 10\u001b[0m\n\u001b[0;32m      7\u001b[0m df_public_adm_men \u001b[38;5;241m=\u001b[39m df_public_adm_men\u001b[38;5;241m.\u001b[39mdrop([\u001b[38;5;241m0\u001b[39m, \u001b[38;5;241m1\u001b[39m])\n\u001b[0;32m      8\u001b[0m df_public_adm_total \u001b[38;5;241m=\u001b[39m df_public_adm_total\u001b[38;5;241m.\u001b[39mdrop([\u001b[38;5;241m0\u001b[39m, \u001b[38;5;241m1\u001b[39m])\n\u001b[1;32m---> 10\u001b[0m df_public_adm_women\u001b[38;5;241m=\u001b[39m\u001b[43mcolumn_remove\u001b[49m\u001b[43m(\u001b[49m\u001b[43mdf_public_adm_women\u001b[49m\u001b[43m)\u001b[49m\n\u001b[0;32m     11\u001b[0m df_public_adm_men\u001b[38;5;241m=\u001b[39mcolumn_remove(df_public_adm_men)\n\u001b[0;32m     12\u001b[0m df_public_adm_total\u001b[38;5;241m=\u001b[39mcolumn_remove(df_public_adm_total)\n",
      "\u001b[1;31mTypeError\u001b[0m: column_remove() missing 2 required positional arguments: 'dataframe2' and 'dataframe3'"
     ]
    }
   ],
   "source": [
    "df_public_adm_women = df_public_adm_women.rename(columns={\"Time\": \"Agency\"})\n",
    "df_public_adm_men = df_public_adm_men.rename(columns={\"Time\": \"Agency\"})\n",
    "df_public_adm_total = df_public_adm_total.rename(columns={\"Time\": \"Agency\"})\n",
    "\n",
    "# df_public_adm_women.head()\n",
    "df_public_adm_women = df_public_adm_women.drop([0, 1])\n",
    "df_public_adm_men = df_public_adm_men.drop([0, 1])\n",
    "df_public_adm_total = df_public_adm_total.drop([0, 1])\n",
    "\n",
    "df_public_adm_women=column_remove(df_public_adm_women)\n",
    "df_public_adm_men=column_remove(df_public_adm_men)\n",
    "df_public_adm_total=column_remove(df_public_adm_total)\n",
    "\n",
    "# df_public_adm_women.head()\n",
    "#numero totale di donne che ricoprono ruoli fondamentali in pubblica amministrazione EU"
   ]
  },
  {
   "cell_type": "code",
   "execution_count": 8,
   "metadata": {},
   "outputs": [],
   "source": [
    "cols = ['2023', '2022', '2021', '2020', '2019', '2018']\n",
    "df_public_adm_women[cols] = df_public_adm_women[cols].apply(pd.to_numeric, errors='coerce')\n",
    "df_public_adm_men[cols] = df_public_adm_men[cols].apply(pd.to_numeric, errors='coerce')\n",
    "df_public_adm_total[cols] = df_public_adm_total[cols].apply(pd.to_numeric, errors='coerce')"
   ]
  },
  {
   "cell_type": "code",
   "execution_count": 9,
   "metadata": {},
   "outputs": [
    {
     "name": "stdout",
     "output_type": "stream",
     "text": [
      "Women correlations: \n",
      "\n",
      "Correlation for 2023:\n",
      "           2023      2023\n",
      "2023  1.000000 -0.585638\n",
      "2023 -0.585638  1.000000\n",
      "Correlation for 2022:\n",
      "           2022      2022\n",
      "2022  1.000000 -0.619835\n",
      "2022 -0.619835  1.000000\n",
      "Correlation for 2021:\n",
      "           2021      2021\n",
      "2021  1.000000 -0.581947\n",
      "2021 -0.581947  1.000000\n",
      "Correlation for 2020:\n",
      "           2020      2020\n",
      "2020  1.000000 -0.537295\n",
      "2020 -0.537295  1.000000\n",
      "Correlation for 2019:\n",
      "           2019      2019\n",
      "2019  1.000000 -0.544965\n",
      "2019 -0.544965  1.000000\n",
      "Correlation for 2018:\n",
      "           2018      2018\n",
      "2018  1.000000 -0.509644\n",
      "2018 -0.509644  1.000000\n",
      "Correlation for 2017:\n",
      "       2017\n",
      "2017   1.0\n"
     ]
    },
    {
     "name": "stderr",
     "output_type": "stream",
     "text": [
      "C:\\Users\\mguen\\AppData\\Local\\Temp\\ipykernel_19540\\1455104644.py:60: FutureWarning: The default value of numeric_only in DataFrame.corr is deprecated. In a future version, it will default to False. Select only valid columns or specify the value of numeric_only to silence this warning.\n",
      "  correlation = merged_df.corr(method=\"spearman\")\n"
     ]
    }
   ],
   "source": [
    "print(\"Women correlations: \\n\")\n",
    "generate_yearly_correlations(df_public_adm_women, df_women_research_fundings)"
   ]
  },
  {
   "cell_type": "code",
   "execution_count": 10,
   "metadata": {},
   "outputs": [
    {
     "name": "stdout",
     "output_type": "stream",
     "text": [
      "Men correlations: \n",
      "\n",
      "Correlation for 2023:\n",
      "           2023      2023\n",
      "2023  1.000000 -0.323092\n",
      "2023 -0.323092  1.000000\n",
      "Correlation for 2022:\n",
      "           2022      2022\n",
      "2022  1.000000 -0.409979\n",
      "2022 -0.409979  1.000000\n",
      "Correlation for 2021:\n",
      "           2021      2021\n",
      "2021  1.000000 -0.478446\n",
      "2021 -0.478446  1.000000\n",
      "Correlation for 2020:\n",
      "           2020      2020\n",
      "2020  1.000000 -0.500008\n",
      "2020 -0.500008  1.000000\n",
      "Correlation for 2019:\n",
      "           2019      2019\n",
      "2019  1.000000 -0.431546\n",
      "2019 -0.431546  1.000000\n",
      "Correlation for 2018:\n",
      "           2018      2018\n",
      "2018  1.000000 -0.522834\n",
      "2018 -0.522834  1.000000\n",
      "Correlation for 2017:\n",
      "       2017\n",
      "2017   1.0\n"
     ]
    },
    {
     "name": "stderr",
     "output_type": "stream",
     "text": [
      "C:\\Users\\mguen\\AppData\\Local\\Temp\\ipykernel_19540\\1455104644.py:60: FutureWarning: The default value of numeric_only in DataFrame.corr is deprecated. In a future version, it will default to False. Select only valid columns or specify the value of numeric_only to silence this warning.\n",
      "  correlation = merged_df.corr(method=\"spearman\")\n"
     ]
    }
   ],
   "source": [
    "print(\"Men correlations: \\n\")\n",
    "generate_yearly_correlations(df_public_adm_men, df_men_research_fundings)"
   ]
  },
  {
   "cell_type": "code",
   "execution_count": 11,
   "metadata": {},
   "outputs": [
    {
     "name": "stdout",
     "output_type": "stream",
     "text": [
      "Total correlations: \n",
      "\n",
      "Correlation for 2023:\n",
      "          2023     2023\n",
      "2023  1.00000 -0.27135\n",
      "2023 -0.27135  1.00000\n",
      "Correlation for 2022:\n",
      "           2022      2022\n",
      "2022  1.000000 -0.357242\n",
      "2022 -0.357242  1.000000\n",
      "Correlation for 2021:\n",
      "           2021      2021\n",
      "2021  1.000000 -0.328255\n",
      "2021 -0.328255  1.000000\n",
      "Correlation for 2020:\n",
      "           2020      2020\n",
      "2020  1.000000 -0.237569\n",
      "2020 -0.237569  1.000000\n",
      "Correlation for 2019:\n",
      "          2019     2019\n",
      "2019  1.00000 -0.24138\n",
      "2019 -0.24138  1.00000\n",
      "Correlation for 2018:\n",
      "           2018      2018\n",
      "2018  1.000000 -0.310775\n",
      "2018 -0.310775  1.000000\n",
      "Correlation for 2017:\n",
      "       2017\n",
      "2017   1.0\n"
     ]
    },
    {
     "name": "stderr",
     "output_type": "stream",
     "text": [
      "C:\\Users\\mguen\\AppData\\Local\\Temp\\ipykernel_19540\\1455104644.py:60: FutureWarning: The default value of numeric_only in DataFrame.corr is deprecated. In a future version, it will default to False. Select only valid columns or specify the value of numeric_only to silence this warning.\n",
      "  correlation = merged_df.corr(method=\"spearman\")\n"
     ]
    }
   ],
   "source": [
    "print(\"Total correlations: \\n\")\n",
    "generate_yearly_correlations(df_public_adm_total, df_total_research_fundings)"
   ]
  },
  {
   "cell_type": "markdown",
   "metadata": {},
   "source": [
    "### Questa cella è riutilizzabile per tutti i dataframe, basta sostituire i nomi, ho implementato alcune funzioni che si prendono carico delle cose rognose"
   ]
  },
  {
   "cell_type": "code",
   "execution_count": 5,
   "metadata": {},
   "outputs": [
    {
     "name": "stdout",
     "output_type": "stream",
     "text": [
      "        Geographic region  2023  2022  2021  2020  2019  2018\n",
      "0                 Albania     0     0     1     1     1     1\n",
      "1                 Austria     2     2     2     2     2     0\n",
      "2  Bosnia and Herzegovina     0     0     0     0     0     0\n",
      "3                 Belgium     2     2     2     3     3     3\n",
      "4                Bulgaria     1     1     1     1     1     1 \n",
      " \n",
      "                                      Time  2023  2022  2021  2020  2019  2018\n",
      "2          European Court of Human Rights  17.0  15.0  16.0  16.0  15.0  17.0\n",
      "3                           General Court  18.0  16.0  16.0  15.0  11.0  10.0\n",
      "4  Court of Justice of the European Union  24.0  22.0  22.0  20.0  16.0  15.0\n",
      "5               European Court of Justice   6.0   6.0   6.0   5.0   5.0   5.0\n",
      "Correlation for 2023:\n",
      "           2023      2023\n",
      "2023  1.000000  0.316228\n",
      "2023  0.316228  1.000000\n",
      "Correlation for 2022:\n",
      "           2022      2022\n",
      "2022  1.000000  0.737865\n",
      "2022  0.737865  1.000000\n",
      "Correlation for 2021:\n",
      "       2021  2021\n",
      "2021   1.0   0.0\n",
      "2021   0.0   1.0\n",
      "Correlation for 2020:\n",
      "           2020      2020\n",
      "2020  1.000000 -0.316228\n",
      "2020 -0.316228  1.000000\n",
      "Correlation for 2019:\n",
      "           2019      2019\n",
      "2019  1.000000 -0.316228\n",
      "2019 -0.316228  1.000000\n",
      "Correlation for 2018:\n",
      "           2018      2018\n",
      "2018  1.000000 -0.632456\n",
      "2018 -0.632456  1.000000\n"
     ]
    }
   ],
   "source": [
    "df_women_political_parties = df_women_political_parties.rename(columns={\"Geographic region\\Time\": \"Geographic region\"})\n",
    "df_men_political_parties = df_men_political_parties.rename(columns={\"Geographic region\\Time\": \"Geographic region\"})\n",
    "df_total_political_parties = df_total_political_parties.rename(columns={\"Geographic region\\Time\": \"Geographic region\"})\n",
    "\n",
    "df_women_political_parties, df_men_political_parties, df_total_political_parties = column_remove(df_women_political_parties, df_men_political_parties, df_total_political_parties)\n",
    "df_women_european_court, df_men_european_court, df_total_european_court = column_remove(df_women_european_court, df_men_european_court, df_total_european_court)\n",
    "\n",
    "df_women_european_court = df_women_european_court.drop([0])\n",
    "df_men_european_court = df_men_european_court.drop([0])\n",
    "df_total_european_court = df_total_european_court.drop([0])\n",
    "\n",
    "df_women_political_parties, df_men_political_parties, df_total_political_parties = force_to_numeric(df_women_political_parties, df_men_political_parties, df_total_political_parties)\n",
    "df_women_european_court, df_men_european_court, df_total_european_court = force_to_numeric(df_women_european_court, df_men_european_court, df_total_european_court)\n",
    "\n",
    "\n",
    "print(df_women_political_parties.head().dropna(), \"\\n\", \"\\n\", df_women_european_court.head().dropna())\n",
    "\n",
    "df_women_political_parties = df_women_political_parties.dropna()\n",
    "df_women_european_court = df_women_european_court.dropna()\n",
    "generate_yearly_correlations(df_women_political_parties, df_women_european_court)"
   ]
  },
  {
   "cell_type": "code",
   "execution_count": 4,
   "metadata": {},
   "outputs": [
    {
     "ename": "TypeError",
     "evalue": "unsupported operand type(s) for -: 'float' and 'str'",
     "output_type": "error",
     "traceback": [
      "\u001b[1;31m---------------------------------------------------------------------------\u001b[0m",
      "\u001b[1;31mTypeError\u001b[0m                                 Traceback (most recent call last)",
      "Cell \u001b[1;32mIn[4], line 1\u001b[0m\n\u001b[1;32m----> 1\u001b[0m \u001b[43mgenerate_overall_trend_correlation\u001b[49m\u001b[43m(\u001b[49m\u001b[43mdf_women_political_parties\u001b[49m\u001b[43m,\u001b[49m\u001b[43m \u001b[49m\u001b[43mdf_women_european_court\u001b[49m\u001b[43m)\u001b[49m\n\u001b[0;32m      3\u001b[0m \u001b[38;5;66;03m#This function calculates the differences (diff()) in values for each column in both dataframes and then computes the correlation matrix for these differences. The diff().dropna() is used to remove any NaN values that might be present after calculating the differences\u001b[39;00m\n",
      "Cell \u001b[1;32mIn[1], line 40\u001b[0m, in \u001b[0;36mgenerate_overall_trend_correlation\u001b[1;34m(df1, df2)\u001b[0m\n\u001b[0;32m     38\u001b[0m \u001b[38;5;28;01mfor\u001b[39;00m column \u001b[38;5;129;01min\u001b[39;00m common_columns:\n\u001b[0;32m     39\u001b[0m     diff_df1 \u001b[38;5;241m=\u001b[39m df1[column]\u001b[38;5;241m.\u001b[39mdiff()\u001b[38;5;241m.\u001b[39mdropna()\n\u001b[1;32m---> 40\u001b[0m     diff_df2 \u001b[38;5;241m=\u001b[39m \u001b[43mdf2\u001b[49m\u001b[43m[\u001b[49m\u001b[43mcolumn\u001b[49m\u001b[43m]\u001b[49m\u001b[38;5;241;43m.\u001b[39;49m\u001b[43mdiff\u001b[49m\u001b[43m(\u001b[49m\u001b[43m)\u001b[49m\u001b[38;5;241m.\u001b[39mdropna()\n\u001b[0;32m     42\u001b[0m     merged_diff_df \u001b[38;5;241m=\u001b[39m pd\u001b[38;5;241m.\u001b[39mconcat([diff_df1, diff_df2], axis\u001b[38;5;241m=\u001b[39m\u001b[38;5;241m1\u001b[39m)\n\u001b[0;32m     43\u001b[0m     correlation \u001b[38;5;241m=\u001b[39m merged_diff_df\u001b[38;5;241m.\u001b[39mcorr(method\u001b[38;5;241m=\u001b[39m\u001b[38;5;124m\"\u001b[39m\u001b[38;5;124mspearman\u001b[39m\u001b[38;5;124m\"\u001b[39m)\n",
      "File \u001b[1;32mc:\\Users\\mguen\\AppData\\Local\\Programs\\Python\\Python310\\lib\\site-packages\\pandas\\core\\series.py:2903\u001b[0m, in \u001b[0;36mSeries.diff\u001b[1;34m(self, periods)\u001b[0m\n\u001b[0;32m   2818\u001b[0m \u001b[38;5;129m@doc\u001b[39m(\n\u001b[0;32m   2819\u001b[0m     klass\u001b[38;5;241m=\u001b[39m\u001b[38;5;124m\"\u001b[39m\u001b[38;5;124mSeries\u001b[39m\u001b[38;5;124m\"\u001b[39m,\n\u001b[0;32m   2820\u001b[0m     extra_params\u001b[38;5;241m=\u001b[39m\u001b[38;5;124m\"\u001b[39m\u001b[38;5;124m\"\u001b[39m,\n\u001b[1;32m   (...)\u001b[0m\n\u001b[0;32m   2866\u001b[0m )\n\u001b[0;32m   2867\u001b[0m \u001b[38;5;28;01mdef\u001b[39;00m \u001b[38;5;21mdiff\u001b[39m(\u001b[38;5;28mself\u001b[39m, periods: \u001b[38;5;28mint\u001b[39m \u001b[38;5;241m=\u001b[39m \u001b[38;5;241m1\u001b[39m) \u001b[38;5;241m-\u001b[39m\u001b[38;5;241m>\u001b[39m Series:\n\u001b[0;32m   2868\u001b[0m \u001b[38;5;250m    \u001b[39m\u001b[38;5;124;03m\"\"\"\u001b[39;00m\n\u001b[0;32m   2869\u001b[0m \u001b[38;5;124;03m    First discrete difference of element.\u001b[39;00m\n\u001b[0;32m   2870\u001b[0m \n\u001b[1;32m   (...)\u001b[0m\n\u001b[0;32m   2901\u001b[0m \u001b[38;5;124;03m    {examples}\u001b[39;00m\n\u001b[0;32m   2902\u001b[0m \u001b[38;5;124;03m    \"\"\"\u001b[39;00m\n\u001b[1;32m-> 2903\u001b[0m     result \u001b[38;5;241m=\u001b[39m \u001b[43malgorithms\u001b[49m\u001b[38;5;241;43m.\u001b[39;49m\u001b[43mdiff\u001b[49m\u001b[43m(\u001b[49m\u001b[38;5;28;43mself\u001b[39;49m\u001b[38;5;241;43m.\u001b[39;49m\u001b[43m_values\u001b[49m\u001b[43m,\u001b[49m\u001b[43m \u001b[49m\u001b[43mperiods\u001b[49m\u001b[43m)\u001b[49m\n\u001b[0;32m   2904\u001b[0m     \u001b[38;5;28;01mreturn\u001b[39;00m \u001b[38;5;28mself\u001b[39m\u001b[38;5;241m.\u001b[39m_constructor(result, index\u001b[38;5;241m=\u001b[39m\u001b[38;5;28mself\u001b[39m\u001b[38;5;241m.\u001b[39mindex)\u001b[38;5;241m.\u001b[39m__finalize__(\n\u001b[0;32m   2905\u001b[0m         \u001b[38;5;28mself\u001b[39m, method\u001b[38;5;241m=\u001b[39m\u001b[38;5;124m\"\u001b[39m\u001b[38;5;124mdiff\u001b[39m\u001b[38;5;124m\"\u001b[39m\n\u001b[0;32m   2906\u001b[0m     )\n",
      "File \u001b[1;32mc:\\Users\\mguen\\AppData\\Local\\Programs\\Python\\Python310\\lib\\site-packages\\pandas\\core\\algorithms.py:1779\u001b[0m, in \u001b[0;36mdiff\u001b[1;34m(arr, n, axis)\u001b[0m\n\u001b[0;32m   1776\u001b[0m     _lag_indexer[axis] \u001b[38;5;241m=\u001b[39m \u001b[38;5;28mslice\u001b[39m(\u001b[38;5;28;01mNone\u001b[39;00m, \u001b[38;5;241m-\u001b[39mn) \u001b[38;5;28;01mif\u001b[39;00m n \u001b[38;5;241m>\u001b[39m \u001b[38;5;241m0\u001b[39m \u001b[38;5;28;01melse\u001b[39;00m \u001b[38;5;28mslice\u001b[39m(\u001b[38;5;241m-\u001b[39mn, \u001b[38;5;28;01mNone\u001b[39;00m)\n\u001b[0;32m   1777\u001b[0m     lag_indexer \u001b[38;5;241m=\u001b[39m \u001b[38;5;28mtuple\u001b[39m(_lag_indexer)\n\u001b[1;32m-> 1779\u001b[0m     out_arr[res_indexer] \u001b[38;5;241m=\u001b[39m \u001b[43mop\u001b[49m\u001b[43m(\u001b[49m\u001b[43marr\u001b[49m\u001b[43m[\u001b[49m\u001b[43mres_indexer\u001b[49m\u001b[43m]\u001b[49m\u001b[43m,\u001b[49m\u001b[43m \u001b[49m\u001b[43marr\u001b[49m\u001b[43m[\u001b[49m\u001b[43mlag_indexer\u001b[49m\u001b[43m]\u001b[49m\u001b[43m)\u001b[49m\n\u001b[0;32m   1781\u001b[0m \u001b[38;5;28;01mif\u001b[39;00m is_timedelta:\n\u001b[0;32m   1782\u001b[0m     out_arr \u001b[38;5;241m=\u001b[39m out_arr\u001b[38;5;241m.\u001b[39mview(\u001b[38;5;124m\"\u001b[39m\u001b[38;5;124mtimedelta64[ns]\u001b[39m\u001b[38;5;124m\"\u001b[39m)\n",
      "\u001b[1;31mTypeError\u001b[0m: unsupported operand type(s) for -: 'float' and 'str'"
     ]
    }
   ],
   "source": [
    "generate_overall_trend_correlation(df_women_political_parties, df_women_european_court)\n",
    "\n",
    "#This function calculates the differences (diff()) in values for each column in both dataframes and then computes the correlation matrix for these differences. The diff().dropna() is used to remove any NaN values that might be present after calculating the differences"
   ]
  }
 ],
 "metadata": {
  "kernelspec": {
   "display_name": "Python 3",
   "language": "python",
   "name": "python3"
  },
  "language_info": {
   "codemirror_mode": {
    "name": "ipython",
    "version": 3
   },
   "file_extension": ".py",
   "mimetype": "text/x-python",
   "name": "python",
   "nbconvert_exporter": "python",
   "pygments_lexer": "ipython3",
   "version": "3.10.8"
  }
 },
 "nbformat": 4,
 "nbformat_minor": 2
}
