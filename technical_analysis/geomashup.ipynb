{
 "cells": [
  {
   "cell_type": "markdown",
   "metadata": {},
   "source": [
    "### First step:\n",
    "The first step is undoubtedly to read the data in xslx format and convert them to csv in order to be able to analyse them via pandas. In this first cell, certain functions are also defined which will be useful later on:\n",
    "- <code>force_to_numeric</code>: this function has the task of converting all instances of values in the selected columns into numeric values, this function was developed to deal with the problem resulting from the fact that in some datasets the datatype of individual instances is sometimes not numeric (probably due to NaN values).\n",
    "- <code>knn_impute</code>: this function has a dual purpose, that of calculating the ideal number of neighbours and then using this number as the value for imputing missing data into the dataframes resulting from the merge. This algorithm proposes missing values by calculating them according to a learning model that produces 'plausible' data. Its logic follow these steps:\n",
    "- - Numeric Data Selection: Select numeric columns from the input DataFrame (dataframe).\n",
    "- - Cross-Validation for k Selection: Iterate over a range of values for the number of neighbors (k) from 1 to 50. Use k-NN imputation with each k and calculate cross-validated mean squared error scores. Keep track of the scores for each k.\n",
    "- - Optimal k Selection: Identify the optimal k that minimizes the mean squared error.\n",
    "- - Final Imputation: Use the optimal k to perform k-NN imputation on the entire numeric dataset. Replace missing values in the original DataFrame with the imputed values. \n",
    "- - Return Results: Return the updated DataFrame and the optimal k.\n",
    "- <code>column_remove</code>: This function was developed with the sole purpose of limiting and thus equalising all datasets by only examining columns referring to data from 2018 onwards.\n",
    "- <code>generate_overall_trend_correlation</code>: This function aims to calculate the overall correlation of a dataset based on the difference of individual values taken and compared year by year.\n",
    "- <code>generate_yearly_correlations</code>: This function has a similar purpose to the one just discussed, it generates correlations between the absolute values of each instance taken individually year by year."
   ]
  },
  {
   "cell_type": "code",
   "execution_count": 254,
   "metadata": {},
   "outputs": [],
   "source": [
    "import openpyxl\n",
    "import csv \n",
    "from sklearn.impute import KNNImputer\n",
    "from sklearn.experimental import enable_iterative_imputer\n",
    "from sklearn.preprocessing import StandardScaler\n",
    "from sklearn.impute import IterativeImputer\n",
    "from sklearn.model_selection import train_test_split\n",
    "from sklearn.metrics import mean_squared_error\n",
    "from sklearn.ensemble import RandomForestRegressor\n",
    "from sklearn import cluster\n",
    "from sklearn.cluster import KMeans\n",
    "from sklearn.model_selection import cross_val_score\n",
    "from sklearn.decomposition import PCA\n",
    "from mpl_toolkits.mplot3d import Axes3D\n",
    "import pandas as pd \n",
    "import numpy as np\n",
    "import matplotlib.pyplot as plt\n",
    "import seaborn as sns\n",
    "import statsmodels.api as sm\n",
    "from scipy.stats import ttest_ind\n",
    "import warnings\n",
    "warnings.filterwarnings(\"ignore\")\n",
    "import plotly.graph_objects as go\n",
    "from sklearn.decomposition import PCA\n",
    "from mpl_toolkits.mplot3d import Axes3D\n",
    "from sklearn.cluster import DBSCAN\n",
    "from sklearn.metrics import silhouette_score\n",
    "from sklearn import metrics\n",
    "from sklearn.model_selection import ParameterGrid\n",
    "from scipy.stats import shapiro\n",
    "\n",
    "#pulzia dati e creazione file csv\n",
    "\n",
    "def force_to_numeric(dataframe1, dataframe2, dataframe3):\n",
    "    cols = ['2023', '2022', '2021', '2020', '2019', '2018']\n",
    "    for col in cols:\n",
    "        try:\n",
    "            dataframe1[col] = pd.to_numeric(dataframe1[col], errors='coerce')\n",
    "        except KeyError:\n",
    "            pass  \n",
    "        try:\n",
    "            dataframe2[col] = pd.to_numeric(dataframe2[col], errors='coerce')\n",
    "        except KeyError:\n",
    "            pass\n",
    "        try:\n",
    "            dataframe3[col] = pd.to_numeric(dataframe3[col], errors='coerce')\n",
    "        except KeyError:\n",
    "            pass\n",
    "    return dataframe1, dataframe2, dataframe3\n",
    "\n",
    "\n",
    "\n",
    "from sklearn.experimental import enable_iterative_imputer\n",
    "from sklearn.impute import IterativeImputer\n",
    "\n",
    "def optimal_knn_impute(dataframe, test_size=0.2, max_neighbors=50):\n",
    "    try:\n",
    "        numeric_columns = dataframe.select_dtypes(include=[np.number]).columns\n",
    "        df_train, df_test = train_test_split(dataframe[numeric_columns], test_size=test_size, random_state=42)\n",
    "        df_test_copy = df_test.copy()\n",
    "        best_k = 1\n",
    "        best_mse = float('inf')\n",
    "        for k in range(1, max_neighbors+1):\n",
    "            imputer = IterativeImputer(max_iter=k)\n",
    "            df_train_imputed = pd.DataFrame(imputer.fit_transform(df_train), columns=df_train.columns)\n",
    "            df_test_imputed = pd.DataFrame(imputer.transform(df_test), columns=df_test.columns)\n",
    "            mse = mean_squared_error(df_test_copy, df_test_imputed)\n",
    "            if mse < best_mse:\n",
    "                best_mse = mse\n",
    "                best_k = k\n",
    "        print(f\"Optimal number of iterations: {best_k}\")\n",
    "        imputer = IterativeImputer(max_iter=best_k)\n",
    "        dataframe[numeric_columns] = imputer.fit_transform(dataframe[numeric_columns])\n",
    "        return dataframe, best_k\n",
    "    except ValueError as ve:\n",
    "        print(f\"An error occurred: {ve}\")\n",
    "        print(\"Please ensure there are no NaN values in the input data.\")\n",
    "\n",
    "\n",
    "\n",
    "\n",
    "def knn_impute(dataframe):   #usare la cross validation come parametro per determinare il miglior numero di k non è l'ideale ma sembra funzionare bene\n",
    "    numeric_data = dataframe.select_dtypes(include=[np.number])\n",
    "    cv_scores = []\n",
    "    for k in range(1, 51):\n",
    "        imputer = KNNImputer(n_neighbors=k)\n",
    "        scores = cross_val_score(imputer, numeric_data, cv=5, scoring='neg_mean_squared_error')\n",
    "        cv_scores.append(scores.mean())\n",
    "    optimal_k = cv_scores.index(max(cv_scores)) + 1\n",
    "    print(f\"Optimal number of neighbors (k): {optimal_k}\")\n",
    "    imputer = KNNImputer(n_neighbors=optimal_k)\n",
    "    imputed_data = imputer.fit_transform(numeric_data)\n",
    "    imputed_df = pd.DataFrame(imputed_data, columns=numeric_data.columns)\n",
    "    dataframe[numeric_data.columns] = imputed_df\n",
    "    return dataframe, optimal_k\n",
    "\n",
    "def iterative_impute(dataframe, tol=1e-3, max_iter=10):\n",
    "    numeric_data = dataframe.select_dtypes(include=[np.number])\n",
    "    imputer = IterativeImputer(estimator=RandomForestRegressor(n_jobs=-1), random_state=42)\n",
    "    diff = tol\n",
    "    iter_count = 0\n",
    "    while diff >= tol and iter_count < max_iter:\n",
    "        prev_imputed = imputer.fit_transform(numeric_data)\n",
    "        imputer = IterativeImputer(estimator=RandomForestRegressor(n_jobs=-1), random_state=42)\n",
    "        curr_imputed = imputer.fit_transform(numeric_data)\n",
    "        diff = np.linalg.norm(prev_imputed - curr_imputed)\n",
    "        iter_count += 1\n",
    "    print(f\"Optimal number of iterations: {iter_count}\")\n",
    "    imputed_df = pd.DataFrame(curr_imputed, columns=numeric_data.columns)\n",
    "    dataframe[numeric_data.columns] = imputed_df\n",
    "    return dataframe, iter_count\n",
    "\n",
    "\n",
    "def mice_impute(dataframe, max_iter=50):\n",
    "    numeric_data = dataframe.select_dtypes(include=[np.number])\n",
    "    imputer = IterativeImputer(estimator=RandomForestRegressor(n_estimators=100, random_state=0, n_jobs=-1), max_iter=max_iter, random_state=42)\n",
    "    imputed_data = imputer.fit_transform(numeric_data)\n",
    "    imputed_df = pd.DataFrame(imputed_data, columns=numeric_data.columns)\n",
    "    dataframe[numeric_data.columns] = imputed_df\n",
    "    return dataframe\n",
    "\n",
    "\n",
    "\n",
    "def perform_dbscan(X, param_grid):\n",
    "    best_params = None\n",
    "    best_score = -1\n",
    "    for params in ParameterGrid(param_grid):\n",
    "        dbscan = DBSCAN(**params)\n",
    "        labels = dbscan.fit_predict(X)\n",
    "        if len(set(labels)) < 2:\n",
    "            continue\n",
    "        silhouette_avg = silhouette_score(X, labels)\n",
    "        if silhouette_avg > best_score:\n",
    "            best_score = silhouette_avg\n",
    "            best_params = params\n",
    "    print(\"Best parameters:\", best_params)\n",
    "    print(\"Best Silhouette Coefficient:\", best_score)\n",
    "    best_dbscan = DBSCAN(**best_params)\n",
    "    best_labels = best_dbscan.fit_predict(X)\n",
    "    return best_labels\n",
    "param_grid_dbscan = {\n",
    "    'eps': [0.1, 0.5, 1.0, 1.5],\n",
    "    'min_samples': [5, 10, 15, 20]\n",
    "}\n",
    "\n",
    "def column_remove(dataframe1, dataframe2, dataframe3):\n",
    "    dataframe1 = dataframe1.iloc[:, :7]\n",
    "    dataframe2 = dataframe2.iloc[:, :7]\n",
    "    dataframe3 = dataframe3.iloc[:, :7]\n",
    "    return dataframe1, dataframe2, dataframe3\n",
    "\n",
    "def generate_overall_trend_correlation(df1: pd.DataFrame, df2: pd.DataFrame, df3: pd.DataFrame) -> None:\n",
    "    \"\"\"\n",
    "    Calculates the correlation between the differences in values for each column of three input dataframes and prints the results.\n",
    "\n",
    "    Args:\n",
    "        df1 (pd.DataFrame): The first input dataframe.\n",
    "        df2 (pd.DataFrame): The second input dataframe.\n",
    "        df3 (pd.DataFrame): The third input dataframe.\n",
    "\n",
    "    Returns:\n",
    "        None: The function only prints the correlation matrices for each column.\n",
    "    \"\"\"\n",
    "    common_columns = df1.columns.intersection(df2.columns).intersection(df3.columns)\n",
    "\n",
    "    for column in common_columns:\n",
    "        diff_df1 = df1[column].diff().dropna()\n",
    "        diff_df2 = df2[column].diff().dropna()\n",
    "        diff_df3 = df3[column].diff().dropna()\n",
    "        merged_diff_df = pd.concat([diff_df1, diff_df2, diff_df3], axis=1)\n",
    "        correlation = merged_diff_df.corr(method=\"spearman\")\n",
    "        print(f'Correlation in trend for {column}:\\n', correlation)\n",
    "        \n",
    "def generate_yearly_correlations(df1: pd.DataFrame, df2: pd.DataFrame, df3: pd.DataFrame) -> None:\n",
    "    \"\"\"\n",
    "    Calculates the correlation between columns of three input dataframes and prints the results.\n",
    "\n",
    "    Args:\n",
    "        df1 (pd.DataFrame): The first input dataframe.\n",
    "        df2 (pd.DataFrame): The second input dataframe.\n",
    "        df3 (pd.DataFrame): The third input dataframe.\n",
    "\n",
    "    Returns:\n",
    "        None: The function only prints the correlation matrices for each common column.\n",
    "    \"\"\"\n",
    "    common_columns = df1.columns.intersection(df2.columns).intersection(df3.columns)\n",
    "    \n",
    "    for column in common_columns:\n",
    "        merged_df = pd.concat([df1[column], df2[column], df3[column]], axis=1)\n",
    "        correlation = merged_df.corr(method=\"spearman\")\n",
    "        print(f'Correlation for {column}:\\n', correlation)\n",
    "\n",
    "\n",
    "#education science and research\n",
    "df_total_research_fundings = pd.read_excel(\"../data/education_science_research/total_research_funding.xlsx\", skiprows=18)\n",
    "df_men_research_fundings = pd.read_excel(\"../data/education_science_research/men_research_funding.xlsx\", skiprows=18)\n",
    "df_women_research_fundings = pd.read_excel(\"../data/education_science_research/women_research_funding.xlsx\", skiprows=18)\n",
    "df_total_research_fundings.to_csv(\"../data/education_science_research/total_research_funding.csv\", index=False)\n",
    "df_men_research_fundings.to_csv(\"../data/education_science_research/men_research_funding.csv\", index=False)\n",
    "df_women_research_fundings.to_csv(\"../data/education_science_research/women_research_funding.csv\", index=False)\n",
    "\n",
    "\n",
    "#environment and climate change\n",
    "df_total_political_executives = pd.read_excel(\"../data/environment_climate_change/total_political_executives_climate.xlsx\", skiprows=18)\n",
    "df_men_political_executives = pd.read_excel(\"../data/environment_climate_change/men_political_executives_climate.xlsx\", skiprows=18)\n",
    "df_women_political_executives = pd.read_excel(\"../data/environment_climate_change/women_political_executives_climate.xlsx\", skiprows=18)\n",
    "df_total_political_executives.to_csv(\"../data/environment_climate_change/total_political_executives_climate.csv\", index=False)\n",
    "df_men_political_executives.to_csv(\"../data/environment_climate_change/men_political_executives_climate.csv\", index=False)\n",
    "df_women_political_executives.to_csv(\"../data/environment_climate_change/women_political_executives_climate.csv\", index=False)\n",
    "\n",
    "\n",
    "#major political party leaders\n",
    "df_total_political_parties = pd.read_excel(\"../data/major_political_party_leaders/total_political_parties.xlsx\", skiprows=18)\n",
    "df_men_political_parties = pd.read_excel(\"../data/major_political_party_leaders/men_political_parties.xlsx\", skiprows=18)\n",
    "df_women_political_parties = pd.read_excel(\"../data/major_political_party_leaders/women_political_parties.xlsx\", skiprows=18)\n",
    "df_total_political_parties.to_csv(\"../data/major_political_party_leaders/total_political_parties.csv\", index=False)\n",
    "df_men_political_parties.to_csv(\"../data/major_political_party_leaders/men_political_parties.csv\", index=False)\n",
    "df_women_political_parties.to_csv(\"../data/major_political_party_leaders/women_political_parties.csv\", index=False)\n",
    "\n",
    "\n",
    "\n",
    "#public EU administrations\n",
    "df_public_adm_total = pd.read_excel(\"../data/European_public_admin/european_agencies_total.xlsx\", skiprows=18)\n",
    "df_public_adm_men = pd.read_excel(\"../data/European_public_admin/european_agencies_men.xlsx\", skiprows=18)\n",
    "df_public_adm_women = pd.read_excel(\"../data/European_public_admin/european_agencies_women.xlsx\", skiprows=18)\n",
    "df_public_adm_total.to_csv(\"../data/European_public_admin/european_agencies_total.csv\", index=False)\n",
    "df_public_adm_men.to_csv(\"../data/European_public_admin/european_agencies_men.csv\", index=False)\n",
    "df_public_adm_women.to_csv(\"../data/European_public_admin/european_agencies_women.csv\", index=False)\n",
    "\n",
    "\n",
    "#european courts\n",
    "df_total_european_court = pd.read_excel(\"../data/european_courts/total_judges_european_court.xlsx\", skiprows=18)\n",
    "df_men_european_court = pd.read_excel(\"../data/european_courts/men_judges_european_court.xlsx\", skiprows=18)\n",
    "df_women_european_court = pd.read_excel(\"../data/european_courts/women_judges_european_court.xlsx\", skiprows=18)\n",
    "df_total_european_court.to_csv(\"../data/european_courts/total_judges_european_court.csv\", index=False)\n",
    "df_men_european_court.to_csv(\"../data/european_courts/men_judges_european_court.csv\", index=False)\n",
    "df_women_european_court.to_csv(\"../data/european_courts/women_judges_european_court.csv\", index=False)\n",
    "\n",
    "\n",
    "#european finance\n",
    "df_european_financial_institutions_total = pd.read_excel(\"../data/European_finance/european_financial_institutions_total.xlsx\", skiprows=18)\n",
    "df_european_financial_institutions_men = pd.read_excel(\"../data/European_finance/european_financial_institutions_men.xlsx\", skiprows=18)\n",
    "df_european_financial_institutions_women = pd.read_excel(\"../data/European_finance/european_financial_institutions_women.xlsx\", skiprows=18)\n",
    "df_european_financial_institutions_total.to_csv(\"../data/European_finance/european_financial_institutions_total.csv\", index = False)\n",
    "df_european_financial_institutions_men.to_csv(\"../data/European_finance/european_financial_institutions_men.csv\", index= False)\n",
    "df_european_financial_institutions_women.to_csv(\"../data/European_finance/european_financial_institutions_women.csv\", index= False)"
   ]
  },
  {
   "cell_type": "markdown",
   "metadata": {},
   "source": [
    "### First look at correlations of the dataframes\n",
    "\n",
    "Using the two functions developed above we can start to look at the correlations: The first function looks at the correlation between the absolute values of the columns, while the second function looks at the correlation between the trends or changes in values over time for each column. The second function is useful when you are interested in understanding how the trends in values for common columns correlate between two dataframes.\n",
    "Before doing that bowt <code>column_remove</code> and <code>force_to_numeric</code> functions have been applied in order to limitate our anlysis starting from 2018 to 2023 and to make every value numeric in the dataset. This second option is needed because no modification on the dataset have been applied so far. Later it will be possible to see how this situations has been managed"
   ]
  },
  {
   "cell_type": "code",
   "execution_count": 255,
   "metadata": {},
   "outputs": [
    {
     "name": "stdout",
     "output_type": "stream",
     "text": [
      "Correlation in trend for 2022:\n",
      "           2022      2022      2022\n",
      "2022  1.000000  0.618603  0.411347\n",
      "2022  0.618603  1.000000  0.234308\n",
      "2022  0.411347  0.234308  1.000000\n",
      "Correlation in trend for 2021:\n",
      "           2021      2021      2021\n",
      "2021  1.000000  0.538678  0.474340\n",
      "2021  0.538678  1.000000  0.531956\n",
      "2021  0.474340  0.531956  1.000000\n",
      "Correlation in trend for 2020:\n",
      "           2020      2020      2020\n",
      "2020  1.000000  0.500131  0.472281\n",
      "2020  0.500131  1.000000  0.544984\n",
      "2020  0.472281  0.544984  1.000000\n",
      "Correlation in trend for 2019:\n",
      "           2019      2019      2019\n",
      "2019  1.000000  0.440870  0.392057\n",
      "2019  0.440870  1.000000  0.404364\n",
      "2019  0.392057  0.404364  1.000000\n",
      "Correlation in trend for 2018:\n",
      "           2018      2018      2018\n",
      "2018  1.000000  0.404348  0.310780\n",
      "2018  0.404348  1.000000  0.505595\n",
      "2018  0.310780  0.505595  1.000000\n",
      "Correlation for 2022:\n",
      "           2022      2022      2022\n",
      "2022  1.000000  0.506425  0.396863\n",
      "2022  0.506425  1.000000  0.350832\n",
      "2022  0.396863  0.350832  1.000000\n",
      "Correlation for 2021:\n",
      "           2021      2021      2021\n",
      "2021  1.000000  0.472426  0.366289\n",
      "2021  0.472426  1.000000  0.459797\n",
      "2021  0.366289  0.459797  1.000000\n",
      "Correlation for 2020:\n",
      "           2020      2020      2020\n",
      "2020  1.000000  0.506110  0.406135\n",
      "2020  0.506110  1.000000  0.594794\n",
      "2020  0.406135  0.594794  1.000000\n",
      "Correlation for 2019:\n",
      "           2019      2019      2019\n",
      "2019  1.000000  0.359426  0.363855\n",
      "2019  0.359426  1.000000  0.492792\n",
      "2019  0.363855  0.492792  1.000000\n",
      "Correlation for 2018:\n",
      "           2018      2018      2018\n",
      "2018  1.000000  0.354539  0.371559\n",
      "2018  0.354539  1.000000  0.538421\n",
      "2018  0.371559  0.538421  1.000000\n"
     ]
    }
   ],
   "source": [
    "df_women_research_fundings, df_women_political_executives, df_women_political_parties = column_remove(df_women_research_fundings, df_women_political_executives, df_women_political_parties)\n",
    "df_women_research_fundings, df_women_political_executives, df_women_political_parties = force_to_numeric(df_women_research_fundings, df_women_political_executives, df_women_political_parties)\n",
    "\n",
    "generate_overall_trend_correlation(df_women_research_fundings.iloc[:, 1:], df_women_political_executives.iloc[:, 1:], df_women_political_parties.iloc[:, 1:])\n",
    "generate_yearly_correlations(df_women_research_fundings.iloc[:, 1:], df_women_political_executives.iloc[:, 1:], df_women_political_parties.iloc[:, 1:])\n"
   ]
  },
  {
   "cell_type": "markdown",
   "metadata": {},
   "source": [
    "### Merging all dataset that share the Geographic region column\n",
    "\n",
    "At this point in the work, in order to identify correlations and other broader types of analysis, it is necessary to merge datasets that share common columns such as the first case 'Geographic region'. The data in these are those concerning the influential roles women play in \n",
    "- Research funding organisations: presidents and members of the highest decision-making body\n",
    "- Major political parties: leaders and deputy leaders \n",
    "- National ministries dealing with environment and climate change\n",
    "\n",
    "Each of these datasets is categorised according to the region to which the women in question belong, with an additional row covering the entirety of the pre- and post-Brexit EU region.\n",
    "\n",
    "Once the merge of the datasets is complete, the <code>knn_impute</code> function is applied to address missing values (NaN) in the dataset and so to plausibly replace by estimating them based on the values of the most similar observations.\n",
    "The knn algorithm follow this logic of action: Given a dataset with features (independent variables) and a target variable (dependent variable), the k-NN algorithm compute the distance (commonly Euclidean distance) between the data point with missing values and all other data points in the dataset. At this point it identify the k nearest neighbors (data points with the smallest distances) to the data point with missing values. At the end it impute missing values with the average (or weighted average) of the target values of its k nearest neighbors.\n",
    "\n",
    "In other words the goal is to find a predefined number of training samples closest in distance to the new point, and predict the label from these. \n",
    "For a data point with a missing value in a numeric feature $X_i$ and $k$ nearest neighbors with observed values\n",
    "$X_{i_1}, X_{i_2}, ..., X_{i_k}$, the imputation formula is often the mean:\n",
    "\n",
    "$$\\text{Imputed Value} = \\frac{1}{k} \\sum_{j=1}^{k} X_{i_j} \\$$\n",
    "\n",
    "\n",
    "When it comes to KNN imputation, the algorithm works by imputing missing values in a dataset with the mean (for numerical data) or mode (for categorical data) of the ‘k’ nearest neighbors, as determined by some distance metric. The ‘k’ is dynamically calculated by the <code>knn_impute</code> function that estimates the optimum number of neighbors to adopt as parameter that dictates how many of the nearest neighbors contribute to the imputation.\n",
    "\n",
    "It is worth to mention that the <code>KNNImputer</code> class in <code>scikit-learn</code> handles the complexities of the k-NN imputation algorithm, including distance metrics, weights, and handling missing values in the input data. The optimal $k$ is selected based on cross-validated mean squared error scores\n"
   ]
  },
  {
   "cell_type": "code",
   "execution_count": 256,
   "metadata": {},
   "outputs": [
    {
     "data": {
      "text/html": [
       "<div>\n",
       "<style scoped>\n",
       "    .dataframe tbody tr th:only-of-type {\n",
       "        vertical-align: middle;\n",
       "    }\n",
       "\n",
       "    .dataframe tbody tr th {\n",
       "        vertical-align: top;\n",
       "    }\n",
       "\n",
       "    .dataframe thead th {\n",
       "        text-align: right;\n",
       "    }\n",
       "</style>\n",
       "<table border=\"1\" class=\"dataframe\">\n",
       "  <thead>\n",
       "    <tr style=\"text-align: right;\">\n",
       "      <th></th>\n",
       "      <th>Geographic region</th>\n",
       "      <th>2023_x</th>\n",
       "      <th>2022_x</th>\n",
       "      <th>2021_x</th>\n",
       "      <th>2020_x</th>\n",
       "      <th>2019_x</th>\n",
       "      <th>2018_x</th>\n",
       "      <th>2023_y</th>\n",
       "      <th>2022_y</th>\n",
       "      <th>2021_y</th>\n",
       "      <th>2020_y</th>\n",
       "      <th>2019_y</th>\n",
       "      <th>2018_y</th>\n",
       "      <th>2022</th>\n",
       "      <th>2021</th>\n",
       "      <th>2020</th>\n",
       "      <th>2019</th>\n",
       "      <th>2018</th>\n",
       "      <th>2017</th>\n",
       "    </tr>\n",
       "  </thead>\n",
       "  <tbody>\n",
       "    <tr>\n",
       "      <th>0</th>\n",
       "      <td>Albania</td>\n",
       "      <td>0.0</td>\n",
       "      <td>0.0</td>\n",
       "      <td>1.0</td>\n",
       "      <td>1.0</td>\n",
       "      <td>1.0</td>\n",
       "      <td>1.0</td>\n",
       "      <td>5.0</td>\n",
       "      <td>5.0</td>\n",
       "      <td>4.0</td>\n",
       "      <td>4.0</td>\n",
       "      <td>4.0</td>\n",
       "      <td>4.0</td>\n",
       "      <td>6.0</td>\n",
       "      <td>1.0</td>\n",
       "      <td>2.0</td>\n",
       "      <td>3.0</td>\n",
       "      <td>2.0</td>\n",
       "      <td>1.84</td>\n",
       "    </tr>\n",
       "    <tr>\n",
       "      <th>1</th>\n",
       "      <td>Austria</td>\n",
       "      <td>2.0</td>\n",
       "      <td>2.0</td>\n",
       "      <td>2.0</td>\n",
       "      <td>2.0</td>\n",
       "      <td>2.0</td>\n",
       "      <td>0.0</td>\n",
       "      <td>18.0</td>\n",
       "      <td>19.0</td>\n",
       "      <td>18.0</td>\n",
       "      <td>13.0</td>\n",
       "      <td>12.0</td>\n",
       "      <td>12.0</td>\n",
       "      <td>1.0</td>\n",
       "      <td>2.0</td>\n",
       "      <td>1.0</td>\n",
       "      <td>1.0</td>\n",
       "      <td>1.0</td>\n",
       "      <td>0.00</td>\n",
       "    </tr>\n",
       "    <tr>\n",
       "      <th>2</th>\n",
       "      <td>Bosnia and Herzegovina</td>\n",
       "      <td>0.0</td>\n",
       "      <td>0.0</td>\n",
       "      <td>0.0</td>\n",
       "      <td>0.0</td>\n",
       "      <td>0.0</td>\n",
       "      <td>0.0</td>\n",
       "      <td>4.0</td>\n",
       "      <td>4.0</td>\n",
       "      <td>4.0</td>\n",
       "      <td>3.0</td>\n",
       "      <td>3.0</td>\n",
       "      <td>3.0</td>\n",
       "      <td>2.0</td>\n",
       "      <td>2.0</td>\n",
       "      <td>1.0</td>\n",
       "      <td>0.0</td>\n",
       "      <td>0.0</td>\n",
       "      <td>0.29</td>\n",
       "    </tr>\n",
       "    <tr>\n",
       "      <th>3</th>\n",
       "      <td>Belgium</td>\n",
       "      <td>2.0</td>\n",
       "      <td>2.0</td>\n",
       "      <td>2.0</td>\n",
       "      <td>3.0</td>\n",
       "      <td>3.0</td>\n",
       "      <td>3.0</td>\n",
       "      <td>4.0</td>\n",
       "      <td>5.0</td>\n",
       "      <td>5.0</td>\n",
       "      <td>6.0</td>\n",
       "      <td>6.0</td>\n",
       "      <td>7.0</td>\n",
       "      <td>3.0</td>\n",
       "      <td>3.0</td>\n",
       "      <td>1.0</td>\n",
       "      <td>1.0</td>\n",
       "      <td>1.0</td>\n",
       "      <td>1.00</td>\n",
       "    </tr>\n",
       "    <tr>\n",
       "      <th>4</th>\n",
       "      <td>Bulgaria</td>\n",
       "      <td>1.0</td>\n",
       "      <td>1.0</td>\n",
       "      <td>1.0</td>\n",
       "      <td>1.0</td>\n",
       "      <td>1.0</td>\n",
       "      <td>1.0</td>\n",
       "      <td>6.0</td>\n",
       "      <td>6.0</td>\n",
       "      <td>5.0</td>\n",
       "      <td>5.0</td>\n",
       "      <td>4.0</td>\n",
       "      <td>4.0</td>\n",
       "      <td>3.0</td>\n",
       "      <td>4.0</td>\n",
       "      <td>3.0</td>\n",
       "      <td>3.0</td>\n",
       "      <td>2.0</td>\n",
       "      <td>2.00</td>\n",
       "    </tr>\n",
       "  </tbody>\n",
       "</table>\n",
       "</div>"
      ],
      "text/plain": [
       "        Geographic region  2023_x  2022_x  2021_x  2020_x  2019_x  2018_x  \\\n",
       "0                 Albania     0.0     0.0     1.0     1.0     1.0     1.0   \n",
       "1                 Austria     2.0     2.0     2.0     2.0     2.0     0.0   \n",
       "2  Bosnia and Herzegovina     0.0     0.0     0.0     0.0     0.0     0.0   \n",
       "3                 Belgium     2.0     2.0     2.0     3.0     3.0     3.0   \n",
       "4                Bulgaria     1.0     1.0     1.0     1.0     1.0     1.0   \n",
       "\n",
       "   2023_y  2022_y  2021_y  2020_y  2019_y  2018_y  2022  2021  2020  2019  \\\n",
       "0     5.0     5.0     4.0     4.0     4.0     4.0   6.0   1.0   2.0   3.0   \n",
       "1    18.0    19.0    18.0    13.0    12.0    12.0   1.0   2.0   1.0   1.0   \n",
       "2     4.0     4.0     4.0     3.0     3.0     3.0   2.0   2.0   1.0   0.0   \n",
       "3     4.0     5.0     5.0     6.0     6.0     7.0   3.0   3.0   1.0   1.0   \n",
       "4     6.0     6.0     5.0     5.0     4.0     4.0   3.0   4.0   3.0   3.0   \n",
       "\n",
       "   2018  2017  \n",
       "0   2.0  1.84  \n",
       "1   1.0  0.00  \n",
       "2   0.0  0.29  \n",
       "3   1.0  1.00  \n",
       "4   2.0  2.00  "
      ]
     },
     "execution_count": 256,
     "metadata": {},
     "output_type": "execute_result"
    }
   ],
   "source": [
    "df_women_research_fundings = df_women_research_fundings.rename(columns={\"Geographic region\\Time\": \"Geographic region\"})\n",
    "df_women_political_executives = df_women_political_executives.rename(columns={\"Geographic region\\Time\": \"Geographic region\"})\n",
    "df_women_political_parties = df_women_political_parties.rename(columns={\"Geographic region\\Time\": \"Geographic region\"})\n",
    "\n",
    "merged_df = pd.merge(df_women_political_parties, df_women_research_fundings, on=\"Geographic region\")\n",
    "merged_df_final = pd.merge(merged_df, df_women_political_executives, on=\"Geographic region\") \n",
    "\n",
    "# knn_impute(merged_df_final)\n",
    "# iterative_impute(merged_df_final)\n",
    "mice_impute(merged_df_final)\n",
    "# optimal_knn_impute(merged_df_final)\n",
    "merged_df_final.head()\n"
   ]
  },
  {
   "cell_type": "markdown",
   "metadata": {},
   "source": [
    "### Spearman's correlation between variables in the merged dataset\n",
    "\n",
    "At this point, to investigate and in case identify interesting correlation trends, it was decided to apply Spearman's correlation, which is particularly useful when dealing with non-linear data.\n",
    "\n",
    "Spearman's rank correlation coefficient, denoted by ρ (rho), is a non-parametric measure of statistical dependence between two variables. It assesses how well the relationship between two variables can be described using a monotonic function. Unlike Pearson's correlation, Spearman's correlation does not assume a linear relationship between the variables.\n",
    "\n",
    "The process involves ranking data points for each variable, ordering them from lowest to highest. In case of ties, the ranks are averaged. Subsequently, the differences (d) between the ranks of corresponding pairs of data points are computed. These differences are then squared (d²), and the sum of the squared differences is utilized to calculate Spearman's rank correlation coefficient.\n",
    "\n",
    "Mathematical Formula:\n",
    "$$\n",
    "\\rho = 1 - \\frac{6 \\sum d_i^2}{n(n^2 - 1)}\n",
    "$$\n",
    " \n",
    "where $\\rho $ is the number of data points, and $ d_i $ represents the differences in ranks.\n",
    "\n",
    "\n",
    "The advantage for Non-linear Data relies on Spearman's correlation capacity of being robust to outliers and the fact that it does not assume linearity. It is particularly useful when dealing with non-linear relationships, as it captures monotonic (increasing or decreasing) relationships. This makes it more suitable for assessing associations in datasets where the relationship between variables is not strictly linear.\n",
    "\n",
    "Non-linear data generally refers to a situation where the relationship between two variables cannot be adequately represented by a straight line. In non-linear data, the pattern between variables may follow a curve, such as an exponential, logarithmic, or quadratic function. Spearman's correlation is advantageous in such cases, as it evaluates the strength and direction of monotonic relationships without relying on linear assumptions.\n",
    "\n",
    "The demonstration of the non linearity of data is quite simple, it is necessary to plot two chosen variables from the dataframe and look at the general going of the dispositions of each point."
   ]
  },
  {
   "cell_type": "code",
   "execution_count": 257,
   "metadata": {},
   "outputs": [
    {
     "data": {
      "image/png": "[encoded data removed]",
      "text/plain": [
       "<Figure size 1000x1000 with 1 Axes>"
      ]
     },
     "metadata": {},
     "output_type": "display_data"
    }
   ],
   "source": [
    "import matplotlib.pyplot as plt\n",
    "\n",
    "plt.figure(figsize=(10, 10))\n",
    "plt.scatter(merged_df_final['2019_x'], merged_df_final['2022_y'])\n",
    "plt.title('Grafico di dispersione tra 2023_x e 2023_y')\n",
    "plt.xlabel('2023_x')\n",
    "plt.ylabel('2023_y')\n",
    "plt.show()\n"
   ]
  },
  {
   "cell_type": "code",
   "execution_count": 258,
   "metadata": {},
   "outputs": [
    {
     "data": {
      "text/html": [
       "<div>\n",
       "<style scoped>\n",
       "    .dataframe tbody tr th:only-of-type {\n",
       "        vertical-align: middle;\n",
       "    }\n",
       "\n",
       "    .dataframe tbody tr th {\n",
       "        vertical-align: top;\n",
       "    }\n",
       "\n",
       "    .dataframe thead th {\n",
       "        text-align: right;\n",
       "    }\n",
       "</style>\n",
       "<table border=\"1\" class=\"dataframe\">\n",
       "  <thead>\n",
       "    <tr style=\"text-align: right;\">\n",
       "      <th></th>\n",
       "      <th>2023_x</th>\n",
       "      <th>2022_x</th>\n",
       "      <th>2021_x</th>\n",
       "      <th>2020_x</th>\n",
       "      <th>2019_x</th>\n",
       "      <th>2018_x</th>\n",
       "      <th>2023_y</th>\n",
       "      <th>2022_y</th>\n",
       "      <th>2021_y</th>\n",
       "      <th>2020_y</th>\n",
       "      <th>2019_y</th>\n",
       "      <th>2018_y</th>\n",
       "      <th>2022</th>\n",
       "      <th>2021</th>\n",
       "      <th>2020</th>\n",
       "      <th>2019</th>\n",
       "      <th>2018</th>\n",
       "      <th>2017</th>\n",
       "    </tr>\n",
       "  </thead>\n",
       "  <tbody>\n",
       "    <tr>\n",
       "      <th>2023_x</th>\n",
       "      <td>1.000000</td>\n",
       "      <td>0.954163</td>\n",
       "      <td>0.896823</td>\n",
       "      <td>0.870298</td>\n",
       "      <td>0.693090</td>\n",
       "      <td>0.645940</td>\n",
       "      <td>0.374805</td>\n",
       "      <td>0.435110</td>\n",
       "      <td>0.398453</td>\n",
       "      <td>0.404340</td>\n",
       "      <td>0.388177</td>\n",
       "      <td>0.393640</td>\n",
       "      <td>0.340778</td>\n",
       "      <td>0.414706</td>\n",
       "      <td>0.452449</td>\n",
       "      <td>0.409532</td>\n",
       "      <td>0.363895</td>\n",
       "      <td>0.389290</td>\n",
       "    </tr>\n",
       "    <tr>\n",
       "      <th>2022_x</th>\n",
       "      <td>0.954163</td>\n",
       "      <td>1.000000</td>\n",
       "      <td>0.876656</td>\n",
       "      <td>0.867667</td>\n",
       "      <td>0.713015</td>\n",
       "      <td>0.637088</td>\n",
       "      <td>0.344821</td>\n",
       "      <td>0.396863</td>\n",
       "      <td>0.384073</td>\n",
       "      <td>0.381874</td>\n",
       "      <td>0.358363</td>\n",
       "      <td>0.370709</td>\n",
       "      <td>0.350832</td>\n",
       "      <td>0.413849</td>\n",
       "      <td>0.461233</td>\n",
       "      <td>0.440512</td>\n",
       "      <td>0.404881</td>\n",
       "      <td>0.426499</td>\n",
       "    </tr>\n",
       "    <tr>\n",
       "      <th>2021_x</th>\n",
       "      <td>0.896823</td>\n",
       "      <td>0.876656</td>\n",
       "      <td>1.000000</td>\n",
       "      <td>0.949752</td>\n",
       "      <td>0.794230</td>\n",
       "      <td>0.682060</td>\n",
       "      <td>0.332182</td>\n",
       "      <td>0.398803</td>\n",
       "      <td>0.366289</td>\n",
       "      <td>0.367553</td>\n",
       "      <td>0.346971</td>\n",
       "      <td>0.343503</td>\n",
       "      <td>0.438973</td>\n",
       "      <td>0.459797</td>\n",
       "      <td>0.561961</td>\n",
       "      <td>0.564980</td>\n",
       "      <td>0.493357</td>\n",
       "      <td>0.483342</td>\n",
       "    </tr>\n",
       "    <tr>\n",
       "      <th>2020_x</th>\n",
       "      <td>0.870298</td>\n",
       "      <td>0.867667</td>\n",
       "      <td>0.949752</td>\n",
       "      <td>1.000000</td>\n",
       "      <td>0.897829</td>\n",
       "      <td>0.771646</td>\n",
       "      <td>0.348001</td>\n",
       "      <td>0.417555</td>\n",
       "      <td>0.399838</td>\n",
       "      <td>0.406135</td>\n",
       "      <td>0.387995</td>\n",
       "      <td>0.389077</td>\n",
       "      <td>0.451420</td>\n",
       "      <td>0.498432</td>\n",
       "      <td>0.594794</td>\n",
       "      <td>0.583894</td>\n",
       "      <td>0.529976</td>\n",
       "      <td>0.558011</td>\n",
       "    </tr>\n",
       "    <tr>\n",
       "      <th>2019_x</th>\n",
       "      <td>0.693090</td>\n",
       "      <td>0.713015</td>\n",
       "      <td>0.794230</td>\n",
       "      <td>0.897829</td>\n",
       "      <td>1.000000</td>\n",
       "      <td>0.841107</td>\n",
       "      <td>0.319698</td>\n",
       "      <td>0.373247</td>\n",
       "      <td>0.379114</td>\n",
       "      <td>0.356727</td>\n",
       "      <td>0.363855</td>\n",
       "      <td>0.345930</td>\n",
       "      <td>0.339161</td>\n",
       "      <td>0.444691</td>\n",
       "      <td>0.514041</td>\n",
       "      <td>0.492792</td>\n",
       "      <td>0.508522</td>\n",
       "      <td>0.534005</td>\n",
       "    </tr>\n",
       "    <tr>\n",
       "      <th>2018_x</th>\n",
       "      <td>0.645940</td>\n",
       "      <td>0.637088</td>\n",
       "      <td>0.682060</td>\n",
       "      <td>0.771646</td>\n",
       "      <td>0.841107</td>\n",
       "      <td>1.000000</td>\n",
       "      <td>0.342385</td>\n",
       "      <td>0.387831</td>\n",
       "      <td>0.384262</td>\n",
       "      <td>0.400150</td>\n",
       "      <td>0.381615</td>\n",
       "      <td>0.371559</td>\n",
       "      <td>0.428724</td>\n",
       "      <td>0.495044</td>\n",
       "      <td>0.565646</td>\n",
       "      <td>0.516925</td>\n",
       "      <td>0.538421</td>\n",
       "      <td>0.621465</td>\n",
       "    </tr>\n",
       "    <tr>\n",
       "      <th>2023_y</th>\n",
       "      <td>0.374805</td>\n",
       "      <td>0.344821</td>\n",
       "      <td>0.332182</td>\n",
       "      <td>0.348001</td>\n",
       "      <td>0.319698</td>\n",
       "      <td>0.342385</td>\n",
       "      <td>1.000000</td>\n",
       "      <td>0.979035</td>\n",
       "      <td>0.963170</td>\n",
       "      <td>0.931363</td>\n",
       "      <td>0.926211</td>\n",
       "      <td>0.933285</td>\n",
       "      <td>0.498863</td>\n",
       "      <td>0.424111</td>\n",
       "      <td>0.406089</td>\n",
       "      <td>0.307233</td>\n",
       "      <td>0.293033</td>\n",
       "      <td>0.373281</td>\n",
       "    </tr>\n",
       "    <tr>\n",
       "      <th>2022_y</th>\n",
       "      <td>0.435110</td>\n",
       "      <td>0.396863</td>\n",
       "      <td>0.398803</td>\n",
       "      <td>0.417555</td>\n",
       "      <td>0.373247</td>\n",
       "      <td>0.387831</td>\n",
       "      <td>0.979035</td>\n",
       "      <td>1.000000</td>\n",
       "      <td>0.985786</td>\n",
       "      <td>0.969630</td>\n",
       "      <td>0.961388</td>\n",
       "      <td>0.964621</td>\n",
       "      <td>0.506425</td>\n",
       "      <td>0.467312</td>\n",
       "      <td>0.466857</td>\n",
       "      <td>0.357033</td>\n",
       "      <td>0.338873</td>\n",
       "      <td>0.426406</td>\n",
       "    </tr>\n",
       "    <tr>\n",
       "      <th>2021_y</th>\n",
       "      <td>0.398453</td>\n",
       "      <td>0.384073</td>\n",
       "      <td>0.366289</td>\n",
       "      <td>0.399838</td>\n",
       "      <td>0.379114</td>\n",
       "      <td>0.384262</td>\n",
       "      <td>0.963170</td>\n",
       "      <td>0.985786</td>\n",
       "      <td>1.000000</td>\n",
       "      <td>0.981296</td>\n",
       "      <td>0.972068</td>\n",
       "      <td>0.974493</td>\n",
       "      <td>0.482819</td>\n",
       "      <td>0.472426</td>\n",
       "      <td>0.465531</td>\n",
       "      <td>0.352503</td>\n",
       "      <td>0.346932</td>\n",
       "      <td>0.438649</td>\n",
       "    </tr>\n",
       "    <tr>\n",
       "      <th>2020_y</th>\n",
       "      <td>0.404340</td>\n",
       "      <td>0.381874</td>\n",
       "      <td>0.367553</td>\n",
       "      <td>0.406135</td>\n",
       "      <td>0.356727</td>\n",
       "      <td>0.400150</td>\n",
       "      <td>0.931363</td>\n",
       "      <td>0.969630</td>\n",
       "      <td>0.981296</td>\n",
       "      <td>1.000000</td>\n",
       "      <td>0.987163</td>\n",
       "      <td>0.986867</td>\n",
       "      <td>0.523659</td>\n",
       "      <td>0.504371</td>\n",
       "      <td>0.506110</td>\n",
       "      <td>0.383337</td>\n",
       "      <td>0.371276</td>\n",
       "      <td>0.458865</td>\n",
       "    </tr>\n",
       "    <tr>\n",
       "      <th>2019_y</th>\n",
       "      <td>0.388177</td>\n",
       "      <td>0.358363</td>\n",
       "      <td>0.346971</td>\n",
       "      <td>0.387995</td>\n",
       "      <td>0.363855</td>\n",
       "      <td>0.381615</td>\n",
       "      <td>0.926211</td>\n",
       "      <td>0.961388</td>\n",
       "      <td>0.972068</td>\n",
       "      <td>0.987163</td>\n",
       "      <td>1.000000</td>\n",
       "      <td>0.989772</td>\n",
       "      <td>0.504606</td>\n",
       "      <td>0.474704</td>\n",
       "      <td>0.476141</td>\n",
       "      <td>0.359426</td>\n",
       "      <td>0.338620</td>\n",
       "      <td>0.421114</td>\n",
       "    </tr>\n",
       "    <tr>\n",
       "      <th>2018_y</th>\n",
       "      <td>0.393640</td>\n",
       "      <td>0.370709</td>\n",
       "      <td>0.343503</td>\n",
       "      <td>0.389077</td>\n",
       "      <td>0.345930</td>\n",
       "      <td>0.371559</td>\n",
       "      <td>0.933285</td>\n",
       "      <td>0.964621</td>\n",
       "      <td>0.974493</td>\n",
       "      <td>0.986867</td>\n",
       "      <td>0.989772</td>\n",
       "      <td>1.000000</td>\n",
       "      <td>0.504438</td>\n",
       "      <td>0.472604</td>\n",
       "      <td>0.481529</td>\n",
       "      <td>0.362971</td>\n",
       "      <td>0.354539</td>\n",
       "      <td>0.411459</td>\n",
       "    </tr>\n",
       "    <tr>\n",
       "      <th>2022</th>\n",
       "      <td>0.340778</td>\n",
       "      <td>0.350832</td>\n",
       "      <td>0.438973</td>\n",
       "      <td>0.451420</td>\n",
       "      <td>0.339161</td>\n",
       "      <td>0.428724</td>\n",
       "      <td>0.498863</td>\n",
       "      <td>0.506425</td>\n",
       "      <td>0.482819</td>\n",
       "      <td>0.523659</td>\n",
       "      <td>0.504606</td>\n",
       "      <td>0.504438</td>\n",
       "      <td>1.000000</td>\n",
       "      <td>0.814951</td>\n",
       "      <td>0.741667</td>\n",
       "      <td>0.746006</td>\n",
       "      <td>0.670428</td>\n",
       "      <td>0.696744</td>\n",
       "    </tr>\n",
       "    <tr>\n",
       "      <th>2021</th>\n",
       "      <td>0.414706</td>\n",
       "      <td>0.413849</td>\n",
       "      <td>0.459797</td>\n",
       "      <td>0.498432</td>\n",
       "      <td>0.444691</td>\n",
       "      <td>0.495044</td>\n",
       "      <td>0.424111</td>\n",
       "      <td>0.467312</td>\n",
       "      <td>0.472426</td>\n",
       "      <td>0.504371</td>\n",
       "      <td>0.474704</td>\n",
       "      <td>0.472604</td>\n",
       "      <td>0.814951</td>\n",
       "      <td>1.000000</td>\n",
       "      <td>0.862401</td>\n",
       "      <td>0.769207</td>\n",
       "      <td>0.678010</td>\n",
       "      <td>0.689614</td>\n",
       "    </tr>\n",
       "    <tr>\n",
       "      <th>2020</th>\n",
       "      <td>0.452449</td>\n",
       "      <td>0.461233</td>\n",
       "      <td>0.561961</td>\n",
       "      <td>0.594794</td>\n",
       "      <td>0.514041</td>\n",
       "      <td>0.565646</td>\n",
       "      <td>0.406089</td>\n",
       "      <td>0.466857</td>\n",
       "      <td>0.465531</td>\n",
       "      <td>0.506110</td>\n",
       "      <td>0.476141</td>\n",
       "      <td>0.481529</td>\n",
       "      <td>0.741667</td>\n",
       "      <td>0.862401</td>\n",
       "      <td>1.000000</td>\n",
       "      <td>0.892457</td>\n",
       "      <td>0.805007</td>\n",
       "      <td>0.768107</td>\n",
       "    </tr>\n",
       "    <tr>\n",
       "      <th>2019</th>\n",
       "      <td>0.409532</td>\n",
       "      <td>0.440512</td>\n",
       "      <td>0.564980</td>\n",
       "      <td>0.583894</td>\n",
       "      <td>0.492792</td>\n",
       "      <td>0.516925</td>\n",
       "      <td>0.307233</td>\n",
       "      <td>0.357033</td>\n",
       "      <td>0.352503</td>\n",
       "      <td>0.383337</td>\n",
       "      <td>0.359426</td>\n",
       "      <td>0.362971</td>\n",
       "      <td>0.746006</td>\n",
       "      <td>0.769207</td>\n",
       "      <td>0.892457</td>\n",
       "      <td>1.000000</td>\n",
       "      <td>0.857218</td>\n",
       "      <td>0.797496</td>\n",
       "    </tr>\n",
       "    <tr>\n",
       "      <th>2018</th>\n",
       "      <td>0.363895</td>\n",
       "      <td>0.404881</td>\n",
       "      <td>0.493357</td>\n",
       "      <td>0.529976</td>\n",
       "      <td>0.508522</td>\n",
       "      <td>0.538421</td>\n",
       "      <td>0.293033</td>\n",
       "      <td>0.338873</td>\n",
       "      <td>0.346932</td>\n",
       "      <td>0.371276</td>\n",
       "      <td>0.338620</td>\n",
       "      <td>0.354539</td>\n",
       "      <td>0.670428</td>\n",
       "      <td>0.678010</td>\n",
       "      <td>0.805007</td>\n",
       "      <td>0.857218</td>\n",
       "      <td>1.000000</td>\n",
       "      <td>0.846262</td>\n",
       "    </tr>\n",
       "    <tr>\n",
       "      <th>2017</th>\n",
       "      <td>0.389290</td>\n",
       "      <td>0.426499</td>\n",
       "      <td>0.483342</td>\n",
       "      <td>0.558011</td>\n",
       "      <td>0.534005</td>\n",
       "      <td>0.621465</td>\n",
       "      <td>0.373281</td>\n",
       "      <td>0.426406</td>\n",
       "      <td>0.438649</td>\n",
       "      <td>0.458865</td>\n",
       "      <td>0.421114</td>\n",
       "      <td>0.411459</td>\n",
       "      <td>0.696744</td>\n",
       "      <td>0.689614</td>\n",
       "      <td>0.768107</td>\n",
       "      <td>0.797496</td>\n",
       "      <td>0.846262</td>\n",
       "      <td>1.000000</td>\n",
       "    </tr>\n",
       "  </tbody>\n",
       "</table>\n",
       "</div>"
      ],
      "text/plain": [
       "          2023_x    2022_x    2021_x    2020_x    2019_x    2018_x    2023_y  \\\n",
       "2023_x  1.000000  0.954163  0.896823  0.870298  0.693090  0.645940  0.374805   \n",
       "2022_x  0.954163  1.000000  0.876656  0.867667  0.713015  0.637088  0.344821   \n",
       "2021_x  0.896823  0.876656  1.000000  0.949752  0.794230  0.682060  0.332182   \n",
       "2020_x  0.870298  0.867667  0.949752  1.000000  0.897829  0.771646  0.348001   \n",
       "2019_x  0.693090  0.713015  0.794230  0.897829  1.000000  0.841107  0.319698   \n",
       "2018_x  0.645940  0.637088  0.682060  0.771646  0.841107  1.000000  0.342385   \n",
       "2023_y  0.374805  0.344821  0.332182  0.348001  0.319698  0.342385  1.000000   \n",
       "2022_y  0.435110  0.396863  0.398803  0.417555  0.373247  0.387831  0.979035   \n",
       "2021_y  0.398453  0.384073  0.366289  0.399838  0.379114  0.384262  0.963170   \n",
       "2020_y  0.404340  0.381874  0.367553  0.406135  0.356727  0.400150  0.931363   \n",
       "2019_y  0.388177  0.358363  0.346971  0.387995  0.363855  0.381615  0.926211   \n",
       "2018_y  0.393640  0.370709  0.343503  0.389077  0.345930  0.371559  0.933285   \n",
       "2022    0.340778  0.350832  0.438973  0.451420  0.339161  0.428724  0.498863   \n",
       "2021    0.414706  0.413849  0.459797  0.498432  0.444691  0.495044  0.424111   \n",
       "2020    0.452449  0.461233  0.561961  0.594794  0.514041  0.565646  0.406089   \n",
       "2019    0.409532  0.440512  0.564980  0.583894  0.492792  0.516925  0.307233   \n",
       "2018    0.363895  0.404881  0.493357  0.529976  0.508522  0.538421  0.293033   \n",
       "2017    0.389290  0.426499  0.483342  0.558011  0.534005  0.621465  0.373281   \n",
       "\n",
       "          2022_y    2021_y    2020_y    2019_y    2018_y      2022      2021  \\\n",
       "2023_x  0.435110  0.398453  0.404340  0.388177  0.393640  0.340778  0.414706   \n",
       "2022_x  0.396863  0.384073  0.381874  0.358363  0.370709  0.350832  0.413849   \n",
       "2021_x  0.398803  0.366289  0.367553  0.346971  0.343503  0.438973  0.459797   \n",
       "2020_x  0.417555  0.399838  0.406135  0.387995  0.389077  0.451420  0.498432   \n",
       "2019_x  0.373247  0.379114  0.356727  0.363855  0.345930  0.339161  0.444691   \n",
       "2018_x  0.387831  0.384262  0.400150  0.381615  0.371559  0.428724  0.495044   \n",
       "2023_y  0.979035  0.963170  0.931363  0.926211  0.933285  0.498863  0.424111   \n",
       "2022_y  1.000000  0.985786  0.969630  0.961388  0.964621  0.506425  0.467312   \n",
       "2021_y  0.985786  1.000000  0.981296  0.972068  0.974493  0.482819  0.472426   \n",
       "2020_y  0.969630  0.981296  1.000000  0.987163  0.986867  0.523659  0.504371   \n",
       "2019_y  0.961388  0.972068  0.987163  1.000000  0.989772  0.504606  0.474704   \n",
       "2018_y  0.964621  0.974493  0.986867  0.989772  1.000000  0.504438  0.472604   \n",
       "2022    0.506425  0.482819  0.523659  0.504606  0.504438  1.000000  0.814951   \n",
       "2021    0.467312  0.472426  0.504371  0.474704  0.472604  0.814951  1.000000   \n",
       "2020    0.466857  0.465531  0.506110  0.476141  0.481529  0.741667  0.862401   \n",
       "2019    0.357033  0.352503  0.383337  0.359426  0.362971  0.746006  0.769207   \n",
       "2018    0.338873  0.346932  0.371276  0.338620  0.354539  0.670428  0.678010   \n",
       "2017    0.426406  0.438649  0.458865  0.421114  0.411459  0.696744  0.689614   \n",
       "\n",
       "            2020      2019      2018      2017  \n",
       "2023_x  0.452449  0.409532  0.363895  0.389290  \n",
       "2022_x  0.461233  0.440512  0.404881  0.426499  \n",
       "2021_x  0.561961  0.564980  0.493357  0.483342  \n",
       "2020_x  0.594794  0.583894  0.529976  0.558011  \n",
       "2019_x  0.514041  0.492792  0.508522  0.534005  \n",
       "2018_x  0.565646  0.516925  0.538421  0.621465  \n",
       "2023_y  0.406089  0.307233  0.293033  0.373281  \n",
       "2022_y  0.466857  0.357033  0.338873  0.426406  \n",
       "2021_y  0.465531  0.352503  0.346932  0.438649  \n",
       "2020_y  0.506110  0.383337  0.371276  0.458865  \n",
       "2019_y  0.476141  0.359426  0.338620  0.421114  \n",
       "2018_y  0.481529  0.362971  0.354539  0.411459  \n",
       "2022    0.741667  0.746006  0.670428  0.696744  \n",
       "2021    0.862401  0.769207  0.678010  0.689614  \n",
       "2020    1.000000  0.892457  0.805007  0.768107  \n",
       "2019    0.892457  1.000000  0.857218  0.797496  \n",
       "2018    0.805007  0.857218  1.000000  0.846262  \n",
       "2017    0.768107  0.797496  0.846262  1.000000  "
      ]
     },
     "execution_count": 258,
     "metadata": {},
     "output_type": "execute_result"
    }
   ],
   "source": [
    "spearman_corr = merged_df_final.corr(method='spearman')\n",
    "spearman_corr"
   ]
  },
  {
   "cell_type": "markdown",
   "metadata": {},
   "source": [
    "\n",
    "The numerical analysis of the Spearman correlation matrix provides further details on the strength of correlations and potential influences between categories. Based on the numerical values:\n",
    "\n",
    "- Temporal Correlations within the Same Categories: Correlations within the same categories over the years are generally high (close to 1), suggesting a strong positive correlation. This indicates that gender dynamics in one category positively influence dynamics in similar categories in subsequent years.\n",
    "\n",
    "- Correlations between Different Categories in the Same Year: Correlations between different categories in the same year vary, but often are significant. A high value indicates a positive relationship, while a low or negative value indicates a weaker or even negative relationship.\n",
    "\n",
    "- Correlations Between Different Categories Over the Years: Correlations between different categories over time show significant variations. Some years exhibit stronger correlations than others, suggesting that gender dynamics in an agency in one year may influence other categories differently in subsequent years.\n",
    "\n",
    "- Negative Values in Year-to-Year Correlations: Negative values indicate an inverse relationship between categories in those specific years. This suggests that in certain periods, an increase in the number of women in one category is associated with a decrease in other categories and vice versa.\n",
    "\n",
    "- Correlations between Agencies in the Same Year: Correlations between different agencies in the same year indicate how gender dynamics in one agency may be linked to those in other agencies during the same period.\n",
    "\n",
    "In summary, the numerical data confirm that similar categories exhibit a strong temporal correlation, while different categories may show varying degrees of correlation depending on the years. Negative values suggest complex dynamics, indicating that changes in the number of women in influential roles in certain categories may counterbalance variations in other categories. Further analyses and investigations could provide a deeper understanding of gender dynamics in European institutions over time."
   ]
  },
  {
   "cell_type": "markdown",
   "metadata": {},
   "source": [
    "### Heatmap of spearman's correlation for non linear variables\n",
    "\n",
    "Correlation within the Same Domains Across Years: Cells with warmer colors (such as red) along the diagonal indicate a strong positive correlation within the same domain in consecutive years. This suggests that if the number of women in a specific domain increases or decreases in one year, a similar trend is likely to follow in the subsequent years.\n",
    "\n",
    "Correlation between Different Domains in the Same Year: Cells not on the diagonal represent the correlation between different domains in the same year. For example, the cell intersecting 2023_x and 2023_y indicates the correlation between these two domains in 2023. If the color of this cell is warm, it means that if the number of women increases in one domain (2023_x), it is likely to increase in the other domain (2023_y) and vice versa.\n",
    "\n",
    "Correlation between Different Domains Across Years: Cells neither on the diagonal nor in the same year show the correlation between different domains across years. For instance, the cell intersecting 2023_x and 2022_y indicates the correlation between domain x in 2023 and domain y in 2022. If the color of this cell is cool, it means that these two domains are not strongly correlated over time."
   ]
  },
  {
   "cell_type": "code",
   "execution_count": 259,
   "metadata": {},
   "outputs": [
    {
     "data": {
      "image/png": "[encoded data removed]",
      "text/plain": [
       "<Figure size 1000x800 with 2 Axes>"
      ]
     },
     "metadata": {},
     "output_type": "display_data"
    }
   ],
   "source": [
    "plt.figure(figsize=(10, 8))\n",
    "sns.heatmap(spearman_corr, annot=True, cmap='coolwarm', fmt=\".2f\")\n",
    "plt.title('Matrice di Correlazione (Spearman)')\n",
    "plt.show()"
   ]
  },
  {
   "cell_type": "markdown",
   "metadata": {},
   "source": [
    "### Clusters and visualization\n",
    "\n",
    "In this section, a different analysis approach was employed to identify any patterns in the dataset. Before proceeding with the cluster identification, it is necessary to employ the elbow method to determine the optimal number of clusters by which to partition the dataset."
   ]
  },
  {
   "cell_type": "code",
   "execution_count": 260,
   "metadata": {},
   "outputs": [
    {
     "data": {
      "image/png": "[encoded data removed]",
      "text/plain": [
       "<Figure size 640x480 with 1 Axes>"
      ]
     },
     "metadata": {},
     "output_type": "display_data"
    }
   ],
   "source": [
    "# scaler = StandardScaler()\n",
    "# scaled_data = scaler.fit_transform(merged_df_final.select_dtypes(include=[np.number]))\n",
    "\n",
    "# # Elbow Method\n",
    "# wcss = []\n",
    "# for i in range(1, 11):\n",
    "#     k_means = cluster.KMeans(n_clusters=i, init='k-means++', random_state=42)\n",
    "#     k_means.fit(scaled_data)\n",
    "#     wcss.append(k_means.inertia_) \n",
    "\n",
    "# plt.plot(np.arange(1, 11), wcss)\n",
    "# plt.xlabel('Clusters')\n",
    "# plt.ylabel('SSE')\n",
    "# plt.show()"
   ]
  },
  {
   "cell_type": "markdown",
   "metadata": {},
   "source": [
    "The elbow method is a technique used to find the optimal number of clusters in a dataset for clustering algorithms, such as K-Means. It involves plotting the variance explained by the clusters against the number of clusters and observing the point at which adding more clusters does not significantly improve the variance explained. This point is visualized as an \"elbow\" in the plot, and the number of clusters corresponding to the elbow is considered the optimal choice. The elbow method helps strike a balance between achieving a good fit to the data and avoiding overfitting."
   ]
  },
  {
   "cell_type": "code",
   "execution_count": 261,
   "metadata": {},
   "outputs": [
    {
     "name": "stdout",
     "output_type": "stream",
     "text": [
      "Shapiro-Wilk Statistic: 0.23374152183532715, p-value: 0.0\n",
      "Data does not appear to be normally distributed.\n"
     ]
    }
   ],
   "source": [
    "stat, p_value = shapiro(merged_df_final.select_dtypes(include=[np.number]).values)\n",
    "\n",
    "print(f\"Shapiro-Wilk Statistic: {stat}, p-value: {p_value}\")\n",
    "\n",
    "if p_value > 0.05:\n",
    "    print(\"Data appears to be normally distributed.\")\n",
    "else:\n",
    "    print(\"Data does not appear to be normally distributed.\")"
   ]
  },
  {
   "cell_type": "markdown",
   "metadata": {},
   "source": [
    "The result provide an importnat information about which clustering algorithm is better to apply on our data, since they appear to be not normally distributed kmean can't be chosen as clustering algoritm. DBSCAN will be the choice since it is more appropriate when the clusters and data might have arbitrary shapes and also DBSCAN doesn’t require you to specify the number of clusters upfront."
   ]
  },
  {
   "cell_type": "code",
   "execution_count": 287,
   "metadata": {},
   "outputs": [
    {
     "name": "stdout",
     "output_type": "stream",
     "text": [
      "Best parameters: {'eps': 1.5, 'min_samples': 5}\n",
      "Best Silhouette Coefficient: 0.8199454361024996\n",
      "Silhouette Coefficient: 0.820\n",
      "Calinski-Harabasz Index: 54.416\n",
      "Davies-Bouldin Index: 0.849\n",
      "Cluster Labels: [ 0  0  0  0  0  0  0  0  0  0 -1  0  0 -1 -1  0  0  0  0  0 -1  0  0  0\n",
      "  0  0  0  0  0  0  0  0  0  0  0  0  0  0  0  0  0  0]\n",
      "Cluster Means:\n",
      "            2023_x     2022_x     2021_x     2020_x     2019_x     2018_x  \\\n",
      "Cluster                                                                     \n",
      "-1       24.500000  22.250000  23.250000  19.250000  15.250000  16.000000   \n",
      " 0        1.421053   1.289474   1.342105   1.131579   0.947368   0.973684   \n",
      "\n",
      "             2023_y      2022_y      2021_y      2020_y      2019_y  \\\n",
      "Cluster                                                               \n",
      "-1       216.250000  200.250000  193.500000  186.500000  183.000000   \n",
      " 0        12.789474   11.578947   11.210526   10.763158   10.605263   \n",
      "\n",
      "             2018_y       2022       2021       2020       2019       2018  \\\n",
      "Cluster                                                                      \n",
      "-1       178.000000  29.250000  27.500000  22.500000  22.000000  17.750000   \n",
      " 0        10.342105   1.815789   1.657895   1.394737   1.342105   1.105263   \n",
      "\n",
      "              2017  \n",
      "Cluster             \n",
      "-1       17.000000  \n",
      " 0        1.087895  \n",
      "Number of clusters: 2\n"
     ]
    }
   ],
   "source": [
    "# data = merged_df_final.select_dtypes(include=[np.number])\n",
    "# kmeans = KMeans(n_clusters=2, init='k-means++', random_state=42)\n",
    "# kmeans.fit(scaled_data)\n",
    "# labels = kmeans.labels_\n",
    "# merged_df_final['Cluster'] = labels\n",
    "# labels\n",
    "# cluster_means = merged_df_final.groupby('Cluster').mean()\n",
    "# cluster_means      #kmeans è stato scartato per via del fatto che i cluster non sembrano essere disposti in maniera adeguata e applicarlo forza i dati\n",
    "\n",
    "scaler = StandardScaler()\n",
    "scaled_data = scaler.fit_transform(merged_df_final.select_dtypes(include=[np.number]))\n",
    "best_labels = perform_dbscan(scaled_data, param_grid_dbscan)\n",
    "print(\"Silhouette Coefficient: %0.3f\"\n",
    "      % metrics.silhouette_score(scaled_data, best_labels))\n",
    "\n",
    "print(\"Calinski-Harabasz Index: %0.3f\"\n",
    "      % metrics.calinski_harabasz_score(scaled_data, best_labels))\n",
    "\n",
    "print(\"Davies-Bouldin Index: %0.3f\"\n",
    "      % metrics.davies_bouldin_score(scaled_data, best_labels))\n",
    "\n",
    "merged_df_final['Cluster'] = best_labels\n",
    "print(\"Cluster Labels:\", best_labels)\n",
    "cluster_means = merged_df_final.groupby('Cluster').mean()\n",
    "print(\"Cluster Means:\")\n",
    "print(cluster_means)\n",
    "num_clusters = len(np.unique(best_labels))\n",
    "print(\"Number of clusters:\", num_clusters)\n"
   ]
  },
  {
   "cell_type": "markdown",
   "metadata": {},
   "source": [
    "Although the elbow method plot strongly suggests adopting two clusters during the analysis, it was found to be a good choice to opt for three clusters instead. This decision was based, in part, on the averages of the values within each individual cluster, as seen above. The obtained means appear to fairly clearly indicate that there are three distinct patterns that differentiate the clusters."
   ]
  },
  {
   "cell_type": "code",
   "execution_count": 285,
   "metadata": {},
   "outputs": [
    {
     "data": {
      "application/vnd.plotly.v1+json": {
       "config": {
        "plotlyServerURL": "https://plot.ly"
       },
       "data": [
        {
         "marker": {
          "color": [
           0,
           0,
           0,
           0,
           0,
           0,
           0,
           0,
           0,
           0,
           -1,
           0,
           0,
           -1,
           -1,
           0,
           0,
           0,
           0,
           0,
           -1,
           0,
           0,
           0,
           0,
           0,
           0,
           0,
           0,
           0,
           0,
           0,
           0,
           0,
           0,
           0,
           0,
           0,
           0,
           0,
           0,
           0
          ],
          "colorscale": [
           [
            0,
            "#440154"
           ],
           [
            0.1111111111111111,
            "#482878"
           ],
           [
            0.2222222222222222,
            "#3e4989"
           ],
           [
            0.3333333333333333,
            "#31688e"
           ],
           [
            0.4444444444444444,
            "#26828e"
           ],
           [
            0.5555555555555556,
            "#1f9e89"
           ],
           [
            0.6666666666666666,
            "#35b779"
           ],
           [
            0.7777777777777778,
            "#6ece58"
           ],
           [
            0.8888888888888888,
            "#b5de2b"
           ],
           [
            1,
            "#fde725"
           ]
          ],
          "size": 5
         },
         "mode": "markers",
         "type": "scatter3d",
         "x": [
          -1.0334299852423479,
          -0.9340999693635607,
          -1.506522569037844,
          -0.818895028599899,
          -0.9296031302113423,
          -1.3509422931057842,
          -1.5358124783947722,
          0.5694872378707878,
          -0.9601475282100548,
          -1.3854606238025702,
          0.7196332442515777,
          -1.4904229657427537,
          -0.7345871068195341,
          18.121702135728153,
          19.068401261936977,
          -0.5878603974851326,
          -1.0109865186494695,
          -1.6735333756973638,
          -1.6201155614974792,
          -1.1107253411939708,
          0.9701928436832806,
          -0.8551264649203388,
          -0.0646669576703393,
          -1.0916099196753775,
          -0.6670596670865387,
          -1.0032529078748618,
          -1.1527255064312991,
          -1.0085496900187616,
          -1.3704197507602753,
          -1.5503621496172544,
          -0.5025131359083232,
          -0.7464678598227674,
          -1.1307087651016707,
          -1.1519952695641855,
          -0.8550015364338414,
          -1.3945825966580476,
          0.008426434490949448,
          -1.0958610053512183,
          -1.505759669531168,
          -1.306295383385814,
          -0.759719618126194,
          -1.562020430969564
         ],
         "y": [
          -0.17833661515347465,
          0.090561228652803,
          0.0788324955300211,
          -0.38823954400867655,
          -0.2720475657915908,
          -0.1311463341520623,
          0.003926801622211262,
          0.3674531492353922,
          -0.00992306235605134,
          -0.15538727326842575,
          -1.0256374973325828,
          -0.11193184040560752,
          0.16286825231399618,
          0.22343369036973088,
          -0.2443226092250567,
          -0.48030647154320694,
          -0.08283596758957386,
          0.07310955497570676,
          -0.022361319362400458,
          0.1862452751446934,
          0.6855024518018106,
          -0.4501387714105527,
          0.6191487905385077,
          -0.2643428040326614,
          -0.09679260791200933,
          -0.30646226100247426,
          0.5153789399780426,
          0.7071034526457369,
          0.35523557482766654,
          0.17090225927526131,
          -0.7370360875564832,
          -0.2535005745361424,
          0.2742869637639484,
          -0.21102775421106426,
          1.0295626324802554,
          -0.02291380760509708,
          0.7505642484751923,
          -0.2451533542062028,
          -0.02040344712850583,
          -0.19813858166532344,
          -0.4389286259181738,
          0.05319901574242623
         ],
         "z": [
          0.4318026374250703,
          -0.20236362491554288,
          0.13731254018090852,
          -0.220236905430361,
          0.35109681393549597,
          -0.016697645168143493,
          -0.02552096812104629,
          -0.4063429417702046,
          -0.29351661382444455,
          -0.13559759388146864,
          -0.30699343085537584,
          -0.24087404041853502,
          0.05520876171441653,
          -0.2368721148357635,
          0.2189203127695423,
          -0.04561920900049,
          0.5164644356679376,
          -0.04443007294821593,
          -0.12226691209144516,
          -0.30967830442197064,
          0.8059122969398813,
          -0.4638853039976701,
          0.1434086068731585,
          0.17395056558554955,
          0.4230583952976251,
          -0.2975111159427617,
          -0.04314852633900679,
          0.06419650382746378,
          0.00848380105554394,
          0.011924372735137577,
          0.16483464740526624,
          -0.08759293322241436,
          0.19016322395542035,
          -0.0006863737216240489,
          -0.16349744321308696,
          0.2748029348692453,
          -0.6520029080215982,
          0.07653345143203578,
          0.13348124524862084,
          -0.4066331974786141,
          0.4205253072157265,
          0.11988732548573605
         ]
        }
       ],
       "layout": {
        "margin": {
         "b": 0,
         "l": 0,
         "r": 0,
         "t": 0
        },
        "scene": {
         "xaxis": {
          "title": {
           "text": "Principal Component 1"
          }
         },
         "yaxis": {
          "title": {
           "text": "Principal Component 2"
          }
         },
         "zaxis": {
          "title": {
           "text": "Principal Component 3"
          }
         }
        },
        "template": {
         "data": {
          "bar": [
           {
            "error_x": {
             "color": "#2a3f5f"
            },
            "error_y": {
             "color": "#2a3f5f"
            },
            "marker": {
             "line": {
              "color": "#E5ECF6",
              "width": 0.5
             },
             "pattern": {
              "fillmode": "overlay",
              "size": 10,
              "solidity": 0.2
             }
            },
            "type": "bar"
           }
          ],
          "barpolar": [
           {
            "marker": {
             "line": {
              "color": "#E5ECF6",
              "width": 0.5
             },
             "pattern": {
              "fillmode": "overlay",
              "size": 10,
              "solidity": 0.2
             }
            },
            "type": "barpolar"
           }
          ],
          "carpet": [
           {
            "aaxis": {
             "endlinecolor": "#2a3f5f",
             "gridcolor": "white",
             "linecolor": "white",
             "minorgridcolor": "white",
             "startlinecolor": "#2a3f5f"
            },
            "baxis": {
             "endlinecolor": "#2a3f5f",
             "gridcolor": "white",
             "linecolor": "white",
             "minorgridcolor": "white",
             "startlinecolor": "#2a3f5f"
            },
            "type": "carpet"
           }
          ],
          "choropleth": [
           {
            "colorbar": {
             "outlinewidth": 0,
             "ticks": ""
            },
            "type": "choropleth"
           }
          ],
          "contour": [
           {
            "colorbar": {
             "outlinewidth": 0,
             "ticks": ""
            },
            "colorscale": [
             [
              0,
              "#0d0887"
             ],
             [
              0.1111111111111111,
              "#46039f"
             ],
             [
              0.2222222222222222,
              "#7201a8"
             ],
             [
              0.3333333333333333,
              "#9c179e"
             ],
             [
              0.4444444444444444,
              "#bd3786"
             ],
             [
              0.5555555555555556,
              "#d8576b"
             ],
             [
              0.6666666666666666,
              "#ed7953"
             ],
             [
              0.7777777777777778,
              "#fb9f3a"
             ],
             [
              0.8888888888888888,
              "#fdca26"
             ],
             [
              1,
              "#f0f921"
             ]
            ],
            "type": "contour"
           }
          ],
          "contourcarpet": [
           {
            "colorbar": {
             "outlinewidth": 0,
             "ticks": ""
            },
            "type": "contourcarpet"
           }
          ],
          "heatmap": [
           {
            "colorbar": {
             "outlinewidth": 0,
             "ticks": ""
            },
            "colorscale": [
             [
              0,
              "#0d0887"
             ],
             [
              0.1111111111111111,
              "#46039f"
             ],
             [
              0.2222222222222222,
              "#7201a8"
             ],
             [
              0.3333333333333333,
              "#9c179e"
             ],
             [
              0.4444444444444444,
              "#bd3786"
             ],
             [
              0.5555555555555556,
              "#d8576b"
             ],
             [
              0.6666666666666666,
              "#ed7953"
             ],
             [
              0.7777777777777778,
              "#fb9f3a"
             ],
             [
              0.8888888888888888,
              "#fdca26"
             ],
             [
              1,
              "#f0f921"
             ]
            ],
            "type": "heatmap"
           }
          ],
          "heatmapgl": [
           {
            "colorbar": {
             "outlinewidth": 0,
             "ticks": ""
            },
            "colorscale": [
             [
              0,
              "#0d0887"
             ],
             [
              0.1111111111111111,
              "#46039f"
             ],
             [
              0.2222222222222222,
              "#7201a8"
             ],
             [
              0.3333333333333333,
              "#9c179e"
             ],
             [
              0.4444444444444444,
              "#bd3786"
             ],
             [
              0.5555555555555556,
              "#d8576b"
             ],
             [
              0.6666666666666666,
              "#ed7953"
             ],
             [
              0.7777777777777778,
              "#fb9f3a"
             ],
             [
              0.8888888888888888,
              "#fdca26"
             ],
             [
              1,
              "#f0f921"
             ]
            ],
            "type": "heatmapgl"
           }
          ],
          "histogram": [
           {
            "marker": {
             "pattern": {
              "fillmode": "overlay",
              "size": 10,
              "solidity": 0.2
             }
            },
            "type": "histogram"
           }
          ],
          "histogram2d": [
           {
            "colorbar": {
             "outlinewidth": 0,
             "ticks": ""
            },
            "colorscale": [
             [
              0,
              "#0d0887"
             ],
             [
              0.1111111111111111,
              "#46039f"
             ],
             [
              0.2222222222222222,
              "#7201a8"
             ],
             [
              0.3333333333333333,
              "#9c179e"
             ],
             [
              0.4444444444444444,
              "#bd3786"
             ],
             [
              0.5555555555555556,
              "#d8576b"
             ],
             [
              0.6666666666666666,
              "#ed7953"
             ],
             [
              0.7777777777777778,
              "#fb9f3a"
             ],
             [
              0.8888888888888888,
              "#fdca26"
             ],
             [
              1,
              "#f0f921"
             ]
            ],
            "type": "histogram2d"
           }
          ],
          "histogram2dcontour": [
           {
            "colorbar": {
             "outlinewidth": 0,
             "ticks": ""
            },
            "colorscale": [
             [
              0,
              "#0d0887"
             ],
             [
              0.1111111111111111,
              "#46039f"
             ],
             [
              0.2222222222222222,
              "#7201a8"
             ],
             [
              0.3333333333333333,
              "#9c179e"
             ],
             [
              0.4444444444444444,
              "#bd3786"
             ],
             [
              0.5555555555555556,
              "#d8576b"
             ],
             [
              0.6666666666666666,
              "#ed7953"
             ],
             [
              0.7777777777777778,
              "#fb9f3a"
             ],
             [
              0.8888888888888888,
              "#fdca26"
             ],
             [
              1,
              "#f0f921"
             ]
            ],
            "type": "histogram2dcontour"
           }
          ],
          "mesh3d": [
           {
            "colorbar": {
             "outlinewidth": 0,
             "ticks": ""
            },
            "type": "mesh3d"
           }
          ],
          "parcoords": [
           {
            "line": {
             "colorbar": {
              "outlinewidth": 0,
              "ticks": ""
             }
            },
            "type": "parcoords"
           }
          ],
          "pie": [
           {
            "automargin": true,
            "type": "pie"
           }
          ],
          "scatter": [
           {
            "fillpattern": {
             "fillmode": "overlay",
             "size": 10,
             "solidity": 0.2
            },
            "type": "scatter"
           }
          ],
          "scatter3d": [
           {
            "line": {
             "colorbar": {
              "outlinewidth": 0,
              "ticks": ""
             }
            },
            "marker": {
             "colorbar": {
              "outlinewidth": 0,
              "ticks": ""
             }
            },
            "type": "scatter3d"
           }
          ],
          "scattercarpet": [
           {
            "marker": {
             "colorbar": {
              "outlinewidth": 0,
              "ticks": ""
             }
            },
            "type": "scattercarpet"
           }
          ],
          "scattergeo": [
           {
            "marker": {
             "colorbar": {
              "outlinewidth": 0,
              "ticks": ""
             }
            },
            "type": "scattergeo"
           }
          ],
          "scattergl": [
           {
            "marker": {
             "colorbar": {
              "outlinewidth": 0,
              "ticks": ""
             }
            },
            "type": "scattergl"
           }
          ],
          "scattermapbox": [
           {
            "marker": {
             "colorbar": {
              "outlinewidth": 0,
              "ticks": ""
             }
            },
            "type": "scattermapbox"
           }
          ],
          "scatterpolar": [
           {
            "marker": {
             "colorbar": {
              "outlinewidth": 0,
              "ticks": ""
             }
            },
            "type": "scatterpolar"
           }
          ],
          "scatterpolargl": [
           {
            "marker": {
             "colorbar": {
              "outlinewidth": 0,
              "ticks": ""
             }
            },
            "type": "scatterpolargl"
           }
          ],
          "scatterternary": [
           {
            "marker": {
             "colorbar": {
              "outlinewidth": 0,
              "ticks": ""
             }
            },
            "type": "scatterternary"
           }
          ],
          "surface": [
           {
            "colorbar": {
             "outlinewidth": 0,
             "ticks": ""
            },
            "colorscale": [
             [
              0,
              "#0d0887"
             ],
             [
              0.1111111111111111,
              "#46039f"
             ],
             [
              0.2222222222222222,
              "#7201a8"
             ],
             [
              0.3333333333333333,
              "#9c179e"
             ],
             [
              0.4444444444444444,
              "#bd3786"
             ],
             [
              0.5555555555555556,
              "#d8576b"
             ],
             [
              0.6666666666666666,
              "#ed7953"
             ],
             [
              0.7777777777777778,
              "#fb9f3a"
             ],
             [
              0.8888888888888888,
              "#fdca26"
             ],
             [
              1,
              "#f0f921"
             ]
            ],
            "type": "surface"
           }
          ],
          "table": [
           {
            "cells": {
             "fill": {
              "color": "#EBF0F8"
             },
             "line": {
              "color": "white"
             }
            },
            "header": {
             "fill": {
              "color": "#C8D4E3"
             },
             "line": {
              "color": "white"
             }
            },
            "type": "table"
           }
          ]
         },
         "layout": {
          "annotationdefaults": {
           "arrowcolor": "#2a3f5f",
           "arrowhead": 0,
           "arrowwidth": 1
          },
          "autotypenumbers": "strict",
          "coloraxis": {
           "colorbar": {
            "outlinewidth": 0,
            "ticks": ""
           }
          },
          "colorscale": {
           "diverging": [
            [
             0,
             "#8e0152"
            ],
            [
             0.1,
             "#c51b7d"
            ],
            [
             0.2,
             "#de77ae"
            ],
            [
             0.3,
             "#f1b6da"
            ],
            [
             0.4,
             "#fde0ef"
            ],
            [
             0.5,
             "#f7f7f7"
            ],
            [
             0.6,
             "#e6f5d0"
            ],
            [
             0.7,
             "#b8e186"
            ],
            [
             0.8,
             "#7fbc41"
            ],
            [
             0.9,
             "#4d9221"
            ],
            [
             1,
             "#276419"
            ]
           ],
           "sequential": [
            [
             0,
             "#0d0887"
            ],
            [
             0.1111111111111111,
             "#46039f"
            ],
            [
             0.2222222222222222,
             "#7201a8"
            ],
            [
             0.3333333333333333,
             "#9c179e"
            ],
            [
             0.4444444444444444,
             "#bd3786"
            ],
            [
             0.5555555555555556,
             "#d8576b"
            ],
            [
             0.6666666666666666,
             "#ed7953"
            ],
            [
             0.7777777777777778,
             "#fb9f3a"
            ],
            [
             0.8888888888888888,
             "#fdca26"
            ],
            [
             1,
             "#f0f921"
            ]
           ],
           "sequentialminus": [
            [
             0,
             "#0d0887"
            ],
            [
             0.1111111111111111,
             "#46039f"
            ],
            [
             0.2222222222222222,
             "#7201a8"
            ],
            [
             0.3333333333333333,
             "#9c179e"
            ],
            [
             0.4444444444444444,
             "#bd3786"
            ],
            [
             0.5555555555555556,
             "#d8576b"
            ],
            [
             0.6666666666666666,
             "#ed7953"
            ],
            [
             0.7777777777777778,
             "#fb9f3a"
            ],
            [
             0.8888888888888888,
             "#fdca26"
            ],
            [
             1,
             "#f0f921"
            ]
           ]
          },
          "colorway": [
           "#636efa",
           "#EF553B",
           "#00cc96",
           "#ab63fa",
           "#FFA15A",
           "#19d3f3",
           "#FF6692",
           "#B6E880",
           "#FF97FF",
           "#FECB52"
          ],
          "font": {
           "color": "#2a3f5f"
          },
          "geo": {
           "bgcolor": "white",
           "lakecolor": "white",
           "landcolor": "#E5ECF6",
           "showlakes": true,
           "showland": true,
           "subunitcolor": "white"
          },
          "hoverlabel": {
           "align": "left"
          },
          "hovermode": "closest",
          "mapbox": {
           "style": "light"
          },
          "paper_bgcolor": "white",
          "plot_bgcolor": "#E5ECF6",
          "polar": {
           "angularaxis": {
            "gridcolor": "white",
            "linecolor": "white",
            "ticks": ""
           },
           "bgcolor": "#E5ECF6",
           "radialaxis": {
            "gridcolor": "white",
            "linecolor": "white",
            "ticks": ""
           }
          },
          "scene": {
           "xaxis": {
            "backgroundcolor": "#E5ECF6",
            "gridcolor": "white",
            "gridwidth": 2,
            "linecolor": "white",
            "showbackground": true,
            "ticks": "",
            "zerolinecolor": "white"
           },
           "yaxis": {
            "backgroundcolor": "#E5ECF6",
            "gridcolor": "white",
            "gridwidth": 2,
            "linecolor": "white",
            "showbackground": true,
            "ticks": "",
            "zerolinecolor": "white"
           },
           "zaxis": {
            "backgroundcolor": "#E5ECF6",
            "gridcolor": "white",
            "gridwidth": 2,
            "linecolor": "white",
            "showbackground": true,
            "ticks": "",
            "zerolinecolor": "white"
           }
          },
          "shapedefaults": {
           "line": {
            "color": "#2a3f5f"
           }
          },
          "ternary": {
           "aaxis": {
            "gridcolor": "white",
            "linecolor": "white",
            "ticks": ""
           },
           "baxis": {
            "gridcolor": "white",
            "linecolor": "white",
            "ticks": ""
           },
           "bgcolor": "#E5ECF6",
           "caxis": {
            "gridcolor": "white",
            "linecolor": "white",
            "ticks": ""
           }
          },
          "title": {
           "x": 0.05
          },
          "xaxis": {
           "automargin": true,
           "gridcolor": "white",
           "linecolor": "white",
           "ticks": "",
           "title": {
            "standoff": 15
           },
           "zerolinecolor": "white",
           "zerolinewidth": 2
          },
          "yaxis": {
           "automargin": true,
           "gridcolor": "white",
           "linecolor": "white",
           "ticks": "",
           "title": {
            "standoff": 15
           },
           "zerolinecolor": "white",
           "zerolinewidth": 2
          }
         }
        }
       }
      }
     },
     "metadata": {},
     "output_type": "display_data"
    }
   ],
   "source": [
    "# # PCA for visualization\n",
    "# pca = PCA(n_components=3)\n",
    "# reduced_data = pca.fit_transform(scaled_data)\n",
    "\n",
    "# # Create a new figure\n",
    "# fig = plt.figure()\n",
    "\n",
    "# # Add a 3D scatter plot to the figure\n",
    "# ax = fig.add_subplot(111, projection='3d')\n",
    "\n",
    "# # Assign x, y, and z to the three principal components\n",
    "# x = reduced_data[:, 0]\n",
    "# y = reduced_data[:, 1]\n",
    "# z = reduced_data[:, 2]\n",
    "\n",
    "# # Create a 3D scatter plot using cluster labels to color the points\n",
    "# scatter = ax.scatter(x, y, z, c=best_labels)\n",
    "\n",
    "# # Show the plot\n",
    "# plt.show()\n",
    "\n",
    "#la prima visualizzazione è in 3 dimensioni ma non modificabile, applicare se ci si trova meglio\n",
    "\n",
    "pca = PCA(n_components=3)\n",
    "reduced_data = pca.fit_transform(scaled_data)\n",
    "scatter = go.Scatter3d(\n",
    "    x=reduced_data[:, 0],\n",
    "    y=reduced_data[:, 1],\n",
    "    z=reduced_data[:, 2],\n",
    "    mode='markers',\n",
    "    marker=dict(color=best_labels, colorscale='Viridis', size=5),\n",
    ")\n",
    "\n",
    "layout = go.Layout(\n",
    "    scene=dict(\n",
    "        xaxis=dict(title='Principal Component 1'),\n",
    "        yaxis=dict(title='Principal Component 2'),\n",
    "        zaxis=dict(title='Principal Component 3'),\n",
    "    ),\n",
    "    margin=dict(l=0, r=0, b=0, t=0),\n",
    ")\n",
    "\n",
    "fig = go.Figure(data=[scatter], layout=layout)\n",
    "fig.show()"
   ]
  },
  {
   "cell_type": "markdown",
   "metadata": {},
   "source": [
    "The 3D visualization provides a clear insight into how the choice of 3 clusters can be supported by the arrangement of points in the three-dimensional space based on the values they have taken. This visualization is obtained throguh the reduction of dimensionality of each point. The reduction of dimensionality, as performed by techniques like Principal Component Analysis (PCA), is often necessary for various reasons:\n",
    "\n",
    "- Data Visualization: It is challenging to visualize high-dimensional data. Reducing the data to 2 or 3 dimensions can aid in visualizing and better understanding relationships between variables.\n",
    "\n",
    "- Noise Reduction: Dimensionality reduction can help eliminate \"noise\" in the data, retaining only the most important features.\n",
    "\n",
    "- Computational Efficiency: Machine learning models may be more efficient with fewer input variables. Reducing data dimensionality can speed up model training time and require fewer memory resources.\n",
    "\n",
    "- Avoiding the Curse of Dimensionality: With a high number of dimensions, data becomes sparse, making it difficult for some machine learning algorithms to find meaningful patterns.\n",
    "\n",
    "- Multicollinearity Reduction: In the presence of highly correlated variables, dimensionality reduction can help create new independent variables, potentially enhancing the performance of certain machine learning models.\n",
    "\n",
    "To better understand what principal components represent in this case it is possible to say that principal components are new variables created as combinations of our original variables. These new variables are generated to capture the most data's information possible.\n",
    "\n",
    "The original variables represent the number of women in influential roles for each year and category (2023_x, 2022_x, 2021_x, etc.). PCA creates new variables, known as principal components, which are combinations of these original variables. For example, the first principal component might be $0.3 \\cdot 2023_x + 0.4 \\cdot 2022_x - 0.2 \\cdot 2021_x + \\ldots$ This new variable is crafted to capture the majority of the variance (variation) in the data.\n",
    "Each term in the expression represents a weight multiplied by the value of the corresponding original variable. The weights (0.3, 0.4, -0.2, etc.) are determined by the PCA algorithm during the analysis of the data. \n",
    "\n",
    "The positive or negative sign of each weight indicates the direction and strength of the relationship between the original variable and the principal component. In this case, a positive weight suggests a positive relationship, while a negative weight implies a negative relationship.\n",
    "The magnitude of each weight signifies the importance or contribution of the respective original variable to the principal component. The purpose of creating this new variable (the first principal component) is to capture the majority of the variance or variation in the dataset.\n",
    "\n",
    "\n",
    "By combining the original variables with specific weights, the principal component is constructed to highlight the patterns and variations present in the data. The principal components are typically ordered by the amount of variance they capture, with the first component capturing the most variance.\n",
    "Using these principal components allows for a more concise representation of the data, reducing its dimensionality while retaining the essential information.\n",
    "\n",
    "\n",
    "In summary, the formula for the first principal component is a linear combination of the original variables, designed to effectively summarize the patterns and variations in the data by assigning appropriate weights to each variable. In the 3D graph, each category is represented by a point, and the position of that point along the X-axis is determined by the value of the first principal component for that agency. Similarly, the position along the Y-axis is determined by the second principal component, and the position along the Z-axis is determined by the third principal component."
   ]
  },
  {
   "cell_type": "code",
   "execution_count": 264,
   "metadata": {},
   "outputs": [
    {
     "name": "stdout",
     "output_type": "stream",
     "text": [
      "Cluster 0:\n",
      "0                   Albania\n",
      "1                   Austria\n",
      "2    Bosnia and Herzegovina\n",
      "3                   Belgium\n",
      "4                  Bulgaria\n",
      "Name: Geographic region, dtype: object\n",
      "Cluster -1:\n",
      "10                               EEA countries (non-EU)\n",
      "13            European Union - 27 countries (from 2020)\n",
      "14            European Union - 28 countries (1993-2020)\n",
      "20    Instrument for Pre-accession Assistance (IPA) ...\n",
      "Name: Geographic region, dtype: object\n"
     ]
    }
   ],
   "source": [
    "for cluster in merged_df_final['Cluster'].unique():\n",
    "    cluster_data = merged_df_final[merged_df_final['Cluster'] == cluster]\n",
    "    geo_region = cluster_data['Geographic region']\n",
    "    \n",
    "    print(f'Cluster {cluster}:')\n",
    "    print(geo_region.head())\n"
   ]
  },
  {
   "cell_type": "markdown",
   "metadata": {},
   "source": [
    "For convenience, it has been decided to print fairly clear listings of the members belonging to the different clusters.\n",
    "\n",
    "The obtained clusters represent different geographical regions that exhibit similar patterns in the number of women in influential roles over the years. Regions within the same cluster have more similar temporal change patterns compared to agencies in different clusters.\n",
    "\n",
    "The criterion for clustering the data is based on the Euclidean distance between points in a multidimensional space, where each dimension represents a year. The KMeans algorithm aims to minimize the variance within each cluster, which is the sum of squared distances between each point and the centroid of its cluster."
   ]
  },
  {
   "cell_type": "markdown",
   "metadata": {},
   "source": [
    "### First look at correlations of the dataframes\n",
    "\n",
    "Using the two functions developed above we can start to look at the correlations: The first function looks at the correlation between the absolute values of the columns, while the second function looks at the correlation between the trends or changes in values over time for each column. The second function is useful when you are interested in understanding how the trends in values for common columns correlate between two dataframes.\n",
    "Also once again before doing that both <code>column_remove</code> and <code>force_to_numeric</code> functions have been applied in order to limitate our anlysis starting from 2018 to 2023 and to make every value numeric in the dataset. This second option is needed because no modification on the dataset have been applied so far. Later it will be possible to see how this situations has been managed. In this case it is also necessary to remove the first row of each dataset because it contains categorical data that do not interest us in this analysis (also because it only specify the sex of the person which is covering a role in that particular institution, something that is un-mistakable here because at this stage we're dealing only with dataset in which every istance of values represents a woman)"
   ]
  },
  {
   "cell_type": "code",
   "execution_count": 265,
   "metadata": {},
   "outputs": [
    {
     "name": "stdout",
     "output_type": "stream",
     "text": [
      "Correlation in trend for 2023:\n",
      "       2023  2023  2023\n",
      "2023   1.0   1.0   0.5\n",
      "2023   1.0   1.0   1.0\n",
      "2023   0.5   1.0   1.0\n",
      "Correlation in trend for 2022:\n",
      "       2022  2022  2022\n",
      "2022   1.0   1.0   0.5\n",
      "2022   1.0   1.0   1.0\n",
      "2022   0.5   1.0   1.0\n",
      "Correlation in trend for 2021:\n",
      "       2021  2021  2021\n",
      "2021   1.0   1.0   0.5\n",
      "2021   1.0   1.0   1.0\n",
      "2021   0.5   1.0   1.0\n",
      "Correlation in trend for 2020:\n",
      "       2020  2020  2020\n",
      "2020   1.0   1.0   0.5\n",
      "2020   1.0   1.0   1.0\n",
      "2020   0.5   1.0   1.0\n",
      "Correlation in trend for 2019:\n",
      "       2019  2019  2019\n",
      "2019   1.0   1.0   0.5\n",
      "2019   1.0   1.0   1.0\n",
      "2019   0.5   1.0   1.0\n",
      "Correlation in trend for 2018:\n",
      "       2018  2018  2018\n",
      "2018   1.0   1.0   0.5\n",
      "2018   1.0   1.0   1.0\n",
      "2018   0.5   1.0   1.0\n",
      "Correlation for 2023:\n",
      "       2023  2023  2023\n",
      "2023   1.0   0.5  -0.2\n",
      "2023   0.5   1.0   0.5\n",
      "2023  -0.2   0.5   1.0\n",
      "Correlation for 2022:\n",
      "           2022  2022      2022\n",
      "2022  1.000000   1.0 -0.210819\n",
      "2022  1.000000   1.0  0.500000\n",
      "2022 -0.210819   0.5  1.000000\n",
      "Correlation for 2021:\n",
      "           2021      2021      2021\n",
      "2021  1.000000  0.866025 -0.210819\n",
      "2021  0.866025  1.000000  0.866025\n",
      "2021 -0.210819  0.866025  1.000000\n",
      "Correlation for 2020:\n",
      "           2020      2020      2020\n",
      "2020  1.000000  0.866025 -0.333333\n",
      "2020  0.866025  1.000000  0.866025\n",
      "2020 -0.333333  0.866025  1.000000\n",
      "Correlation for 2019:\n",
      "           2019  2019      2019\n",
      "2019  1.000000   1.0  0.105409\n",
      "2019  1.000000   1.0  1.000000\n",
      "2019  0.105409   1.0  1.000000\n",
      "Correlation for 2018:\n",
      "       2018  2018  2018\n",
      "2018   1.0   0.5   0.4\n",
      "2018   0.5   1.0   0.5\n",
      "2018   0.4   0.5   1.0\n"
     ]
    }
   ],
   "source": [
    "df_public_adm_women, df_women_european_court, df_european_financial_institutions_women = column_remove(df_public_adm_women, df_women_european_court, df_european_financial_institutions_women)\n",
    "df_public_adm_women, df_women_european_court, df_european_financial_institutions_women = force_to_numeric(df_public_adm_women, df_women_european_court, df_european_financial_institutions_women)\n",
    "\n",
    "df_public_adm_women = df_public_adm_women.drop(0).reset_index(drop=True)\n",
    "df_women_european_court = df_women_european_court.drop(0).reset_index(drop=True)\n",
    "df_european_financial_institutions_women = df_european_financial_institutions_women.drop(0).reset_index(drop=True)\n",
    "generate_overall_trend_correlation(df_public_adm_women.iloc[:, 1:], df_women_european_court.iloc[:, 1:], df_european_financial_institutions_women.iloc[:, 1:])\n",
    "generate_yearly_correlations(df_public_adm_women.iloc[:, 1:], df_women_european_court.iloc[:, 1:], df_european_financial_institutions_women.iloc[:, 1:])\n"
   ]
  },
  {
   "cell_type": "markdown",
   "metadata": {},
   "source": [
    "As it will be further explaine below, the correlations between these datasets is more difficult due to the fact that they have a huge difference in terms of number of rows, this make the analysis quite complicated and it requires a fair amount of manipulation for the sake of the tests. \n",
    "\n",
    "This is why for this second set of datasets the results are not that trustworthy,specifically for all those values that are imputed due to their high number. When the imputation of missing data is an rare event among the values of a dataset it can be overseen without too many difficulties, but in this case there are complete rows tht are artificially imputed. It is possible to notice this problemalso here, in the firstlook at the correlations year by year."
   ]
  },
  {
   "cell_type": "markdown",
   "metadata": {},
   "source": [
    "### Merging all datasets that share the Time column (renamed \"Agency\" column)\n",
    "\n",
    "As before, the workflow is repeated in the same manner: after examining the initial correlations calculated for each year, it is now necessary to merge the datasets to gain a broader perspective on potential phenomena. As mentioned earlier, the first challenge arising from this operation lies in the significant disparity in the number of rows in the individual datasets. Additionally, in the datasets as downloaded from the source, the column labeled \"Time,\" which actually referred to the row where this label was present, has been renamed as \"Agency\" for better organization and handling of the data. From the final dataset the first row was removed because it was relative to the total sum of position held by women of each column. It would have been both an outlier and a not informative piece of data for our purpose.\n",
    "\n",
    "Same as before: in order to identify correlations and other broader types of analysis, it is necessary to merge datasets that share common columns, in this case the newly renamed \"Agency\" column. The data in these are those concerning the influential roles women play in:\n",
    "\n",
    "- European agencies: presidents, members and executive heads\n",
    "- European courts: presidents and members \n",
    "- European financial institutions: presidents and members\n",
    "\n",
    "\n",
    "Each of these datasets is categorised according to the agency to which the women in question belong.\n",
    "The workflow for the remaining operations is the same, but \"repetita iuvant\", so:\n",
    "\n",
    "Once the merge of the datasets is complete, the <code>knn_impute</code> function is applied to address missing values (NaN) in the dataset and so to plausibly replace by estimating them based on the values of the most similar observations.\n",
    "\n",
    "The principle behind the KNN imputation approach is to find a predefined number of training samples closest in distance to the new point, and predict the label from these. The number of samples can be a user-defined constant (k-nearest neighbour learning), or vary based on the local density of points (radius-based neighbour learning). The distance can, in general, be any metric measure: standard Euclidean distance is the most common choice.\n",
    "\n",
    "When it comes to KNN imputation, the algorithm works by imputing missing values in a dataset with the mean (for numerical data) or mode (for categorical data) of the ‘k’ nearest neighbors, as determined by some distance metric. The ‘k’ is dynamically calculated by the <code>knn_impute</code> function that estimates the optimum number of neighbors to adopt as parameter that dictates how many of the nearest neighbors contribute to the imputation."
   ]
  },
  {
   "cell_type": "code",
   "execution_count": 266,
   "metadata": {},
   "outputs": [
    {
     "data": {
      "text/html": [
       "<div>\n",
       "<style scoped>\n",
       "    .dataframe tbody tr th:only-of-type {\n",
       "        vertical-align: middle;\n",
       "    }\n",
       "\n",
       "    .dataframe tbody tr th {\n",
       "        vertical-align: top;\n",
       "    }\n",
       "\n",
       "    .dataframe thead th {\n",
       "        text-align: right;\n",
       "    }\n",
       "</style>\n",
       "<table border=\"1\" class=\"dataframe\">\n",
       "  <thead>\n",
       "    <tr style=\"text-align: right;\">\n",
       "      <th></th>\n",
       "      <th>Agency</th>\n",
       "      <th>2023_x</th>\n",
       "      <th>2022_x</th>\n",
       "      <th>2021_x</th>\n",
       "      <th>2020_x</th>\n",
       "      <th>2019_x</th>\n",
       "      <th>2018_x</th>\n",
       "      <th>2023_y</th>\n",
       "      <th>2022_y</th>\n",
       "      <th>2021_y</th>\n",
       "      <th>2020_y</th>\n",
       "      <th>2019_y</th>\n",
       "      <th>2018_y</th>\n",
       "      <th>2023</th>\n",
       "      <th>2022</th>\n",
       "      <th>2021</th>\n",
       "      <th>2020</th>\n",
       "      <th>2019</th>\n",
       "      <th>2018</th>\n",
       "    </tr>\n",
       "  </thead>\n",
       "  <tbody>\n",
       "    <tr>\n",
       "      <th>0</th>\n",
       "      <td>Agency for the Cooperation of Energy Regulator...</td>\n",
       "      <td>8.00</td>\n",
       "      <td>7.0</td>\n",
       "      <td>7.00</td>\n",
       "      <td>6.00</td>\n",
       "      <td>8.00</td>\n",
       "      <td>7.00</td>\n",
       "      <td>18.43</td>\n",
       "      <td>16.43</td>\n",
       "      <td>16.96</td>\n",
       "      <td>16.25</td>\n",
       "      <td>13.64</td>\n",
       "      <td>14.67</td>\n",
       "      <td>3.16</td>\n",
       "      <td>2.78</td>\n",
       "      <td>2.52</td>\n",
       "      <td>2.69</td>\n",
       "      <td>2.14</td>\n",
       "      <td>1.89</td>\n",
       "    </tr>\n",
       "    <tr>\n",
       "      <th>1</th>\n",
       "      <td>Body of European Regulators for Electronic Com...</td>\n",
       "      <td>7.00</td>\n",
       "      <td>9.0</td>\n",
       "      <td>8.00</td>\n",
       "      <td>6.00</td>\n",
       "      <td>5.00</td>\n",
       "      <td>4.00</td>\n",
       "      <td>18.43</td>\n",
       "      <td>16.43</td>\n",
       "      <td>16.96</td>\n",
       "      <td>16.25</td>\n",
       "      <td>13.64</td>\n",
       "      <td>14.67</td>\n",
       "      <td>3.16</td>\n",
       "      <td>2.78</td>\n",
       "      <td>2.52</td>\n",
       "      <td>2.69</td>\n",
       "      <td>2.14</td>\n",
       "      <td>1.89</td>\n",
       "    </tr>\n",
       "    <tr>\n",
       "      <th>2</th>\n",
       "      <td>Community Plant Variety Office (CPVO)</td>\n",
       "      <td>10.00</td>\n",
       "      <td>12.0</td>\n",
       "      <td>13.00</td>\n",
       "      <td>12.00</td>\n",
       "      <td>11.00</td>\n",
       "      <td>13.00</td>\n",
       "      <td>18.43</td>\n",
       "      <td>16.43</td>\n",
       "      <td>16.96</td>\n",
       "      <td>16.25</td>\n",
       "      <td>13.64</td>\n",
       "      <td>14.67</td>\n",
       "      <td>3.16</td>\n",
       "      <td>2.78</td>\n",
       "      <td>2.52</td>\n",
       "      <td>2.69</td>\n",
       "      <td>2.14</td>\n",
       "      <td>1.89</td>\n",
       "    </tr>\n",
       "    <tr>\n",
       "      <th>3</th>\n",
       "      <td>Euratom Supply Agency (ESA)</td>\n",
       "      <td>11.74</td>\n",
       "      <td>12.1</td>\n",
       "      <td>12.33</td>\n",
       "      <td>12.33</td>\n",
       "      <td>11.85</td>\n",
       "      <td>13.04</td>\n",
       "      <td>18.43</td>\n",
       "      <td>16.43</td>\n",
       "      <td>16.96</td>\n",
       "      <td>16.25</td>\n",
       "      <td>13.64</td>\n",
       "      <td>14.67</td>\n",
       "      <td>3.16</td>\n",
       "      <td>2.78</td>\n",
       "      <td>2.52</td>\n",
       "      <td>2.69</td>\n",
       "      <td>2.14</td>\n",
       "      <td>1.89</td>\n",
       "    </tr>\n",
       "    <tr>\n",
       "      <th>4</th>\n",
       "      <td>European Agency for Reconstruction (EAR)</td>\n",
       "      <td>11.74</td>\n",
       "      <td>12.1</td>\n",
       "      <td>12.33</td>\n",
       "      <td>12.33</td>\n",
       "      <td>11.85</td>\n",
       "      <td>13.04</td>\n",
       "      <td>18.43</td>\n",
       "      <td>16.43</td>\n",
       "      <td>16.96</td>\n",
       "      <td>16.25</td>\n",
       "      <td>13.64</td>\n",
       "      <td>14.67</td>\n",
       "      <td>3.16</td>\n",
       "      <td>2.78</td>\n",
       "      <td>2.52</td>\n",
       "      <td>2.69</td>\n",
       "      <td>2.14</td>\n",
       "      <td>1.89</td>\n",
       "    </tr>\n",
       "  </tbody>\n",
       "</table>\n",
       "</div>"
      ],
      "text/plain": [
       "                                              Agency  2023_x  2022_x  2021_x  \\\n",
       "0  Agency for the Cooperation of Energy Regulator...    8.00     7.0    7.00   \n",
       "1  Body of European Regulators for Electronic Com...    7.00     9.0    8.00   \n",
       "2              Community Plant Variety Office (CPVO)   10.00    12.0   13.00   \n",
       "3                        Euratom Supply Agency (ESA)   11.74    12.1   12.33   \n",
       "4           European Agency for Reconstruction (EAR)   11.74    12.1   12.33   \n",
       "\n",
       "   2020_x  2019_x  2018_x  2023_y  2022_y  2021_y  2020_y  2019_y  2018_y  \\\n",
       "0    6.00    8.00    7.00   18.43   16.43   16.96   16.25   13.64   14.67   \n",
       "1    6.00    5.00    4.00   18.43   16.43   16.96   16.25   13.64   14.67   \n",
       "2   12.00   11.00   13.00   18.43   16.43   16.96   16.25   13.64   14.67   \n",
       "3   12.33   11.85   13.04   18.43   16.43   16.96   16.25   13.64   14.67   \n",
       "4   12.33   11.85   13.04   18.43   16.43   16.96   16.25   13.64   14.67   \n",
       "\n",
       "   2023  2022  2021  2020  2019  2018  \n",
       "0  3.16  2.78  2.52  2.69  2.14  1.89  \n",
       "1  3.16  2.78  2.52  2.69  2.14  1.89  \n",
       "2  3.16  2.78  2.52  2.69  2.14  1.89  \n",
       "3  3.16  2.78  2.52  2.69  2.14  1.89  \n",
       "4  3.16  2.78  2.52  2.69  2.14  1.89  "
      ]
     },
     "execution_count": 266,
     "metadata": {},
     "output_type": "execute_result"
    }
   ],
   "source": [
    "df_public_adm_women = df_public_adm_women.rename(columns={\"Time\":\"Agency\"})\n",
    "df_women_european_court = df_women_european_court.rename(columns={\"Time\":\"Agency\"})\n",
    "df_european_financial_institutions_women = df_european_financial_institutions_women.rename(columns={\"Time\":\"Agency\"})\n",
    "\n",
    "merged_df2 = pd.merge(df_public_adm_women, df_women_european_court, on=\"Agency\", how='outer')\n",
    "merged_df_final2 = pd.merge(merged_df2, df_european_financial_institutions_women, on=\"Agency\", how=\"outer\")\n",
    "merged_df_final2 = merged_df_final2.drop(0).reset_index(drop=True)\n",
    "\n",
    "# knn_impute(merged_df_final2)\n",
    "# iterative_impute(merged_df_final2)\n",
    "mice_impute(merged_df_final2)\n",
    "# optimal_knn_impute(merged_df_final2)\n",
    "merged_df_final2.head()\n"
   ]
  },
  {
   "cell_type": "markdown",
   "metadata": {},
   "source": [
    "### Spearman's application\n",
    "\n",
    "Once again we apply the Spearman's correlation coefficient to obtain possible interesting correlations between our data."
   ]
  },
  {
   "cell_type": "code",
   "execution_count": 267,
   "metadata": {},
   "outputs": [
    {
     "data": {
      "text/html": [
       "<div>\n",
       "<style scoped>\n",
       "    .dataframe tbody tr th:only-of-type {\n",
       "        vertical-align: middle;\n",
       "    }\n",
       "\n",
       "    .dataframe tbody tr th {\n",
       "        vertical-align: top;\n",
       "    }\n",
       "\n",
       "    .dataframe thead th {\n",
       "        text-align: right;\n",
       "    }\n",
       "</style>\n",
       "<table border=\"1\" class=\"dataframe\">\n",
       "  <thead>\n",
       "    <tr style=\"text-align: right;\">\n",
       "      <th></th>\n",
       "      <th>2023_x</th>\n",
       "      <th>2022_x</th>\n",
       "      <th>2021_x</th>\n",
       "      <th>2020_x</th>\n",
       "      <th>2019_x</th>\n",
       "      <th>2018_x</th>\n",
       "      <th>2023_y</th>\n",
       "      <th>2022_y</th>\n",
       "      <th>2021_y</th>\n",
       "      <th>2020_y</th>\n",
       "      <th>2019_y</th>\n",
       "      <th>2018_y</th>\n",
       "      <th>2023</th>\n",
       "      <th>2022</th>\n",
       "      <th>2021</th>\n",
       "      <th>2020</th>\n",
       "      <th>2019</th>\n",
       "      <th>2018</th>\n",
       "    </tr>\n",
       "  </thead>\n",
       "  <tbody>\n",
       "    <tr>\n",
       "      <th>2023_x</th>\n",
       "      <td>1.000000</td>\n",
       "      <td>0.851184</td>\n",
       "      <td>0.778152</td>\n",
       "      <td>0.789024</td>\n",
       "      <td>0.781505</td>\n",
       "      <td>0.800977</td>\n",
       "      <td>-0.042266</td>\n",
       "      <td>-0.042266</td>\n",
       "      <td>-0.042270</td>\n",
       "      <td>-0.042266</td>\n",
       "      <td>0.000000</td>\n",
       "      <td>0.000000</td>\n",
       "      <td>-0.024168</td>\n",
       "      <td>-0.024171</td>\n",
       "      <td>-0.024171</td>\n",
       "      <td>0.024171</td>\n",
       "      <td>-0.024171</td>\n",
       "      <td>0.024168</td>\n",
       "    </tr>\n",
       "    <tr>\n",
       "      <th>2022_x</th>\n",
       "      <td>0.851184</td>\n",
       "      <td>1.000000</td>\n",
       "      <td>0.932385</td>\n",
       "      <td>0.888389</td>\n",
       "      <td>0.852985</td>\n",
       "      <td>0.884158</td>\n",
       "      <td>-0.070477</td>\n",
       "      <td>-0.070477</td>\n",
       "      <td>-0.070484</td>\n",
       "      <td>-0.070477</td>\n",
       "      <td>0.000000</td>\n",
       "      <td>0.000000</td>\n",
       "      <td>-0.040300</td>\n",
       "      <td>-0.040305</td>\n",
       "      <td>-0.040305</td>\n",
       "      <td>0.040305</td>\n",
       "      <td>-0.040305</td>\n",
       "      <td>0.040300</td>\n",
       "    </tr>\n",
       "    <tr>\n",
       "      <th>2021_x</th>\n",
       "      <td>0.778152</td>\n",
       "      <td>0.932385</td>\n",
       "      <td>1.000000</td>\n",
       "      <td>0.892097</td>\n",
       "      <td>0.871971</td>\n",
       "      <td>0.890197</td>\n",
       "      <td>-0.089231</td>\n",
       "      <td>-0.089231</td>\n",
       "      <td>-0.089240</td>\n",
       "      <td>-0.089231</td>\n",
       "      <td>0.000000</td>\n",
       "      <td>0.000000</td>\n",
       "      <td>-0.051023</td>\n",
       "      <td>-0.051030</td>\n",
       "      <td>-0.051030</td>\n",
       "      <td>0.051030</td>\n",
       "      <td>-0.051030</td>\n",
       "      <td>0.051023</td>\n",
       "    </tr>\n",
       "    <tr>\n",
       "      <th>2020_x</th>\n",
       "      <td>0.789024</td>\n",
       "      <td>0.888389</td>\n",
       "      <td>0.892097</td>\n",
       "      <td>1.000000</td>\n",
       "      <td>0.970575</td>\n",
       "      <td>0.908435</td>\n",
       "      <td>-0.061058</td>\n",
       "      <td>-0.061058</td>\n",
       "      <td>-0.061064</td>\n",
       "      <td>-0.061058</td>\n",
       "      <td>0.000000</td>\n",
       "      <td>0.000000</td>\n",
       "      <td>-0.034914</td>\n",
       "      <td>-0.034918</td>\n",
       "      <td>-0.034918</td>\n",
       "      <td>0.034918</td>\n",
       "      <td>-0.034918</td>\n",
       "      <td>0.034914</td>\n",
       "    </tr>\n",
       "    <tr>\n",
       "      <th>2019_x</th>\n",
       "      <td>0.781505</td>\n",
       "      <td>0.852985</td>\n",
       "      <td>0.871971</td>\n",
       "      <td>0.970575</td>\n",
       "      <td>1.000000</td>\n",
       "      <td>0.927664</td>\n",
       "      <td>-0.051664</td>\n",
       "      <td>-0.051664</td>\n",
       "      <td>-0.051669</td>\n",
       "      <td>-0.051664</td>\n",
       "      <td>0.000000</td>\n",
       "      <td>0.000000</td>\n",
       "      <td>-0.029542</td>\n",
       "      <td>-0.029546</td>\n",
       "      <td>-0.029546</td>\n",
       "      <td>0.029546</td>\n",
       "      <td>-0.029546</td>\n",
       "      <td>0.029542</td>\n",
       "    </tr>\n",
       "    <tr>\n",
       "      <th>2018_x</th>\n",
       "      <td>0.800977</td>\n",
       "      <td>0.884158</td>\n",
       "      <td>0.890197</td>\n",
       "      <td>0.908435</td>\n",
       "      <td>0.927664</td>\n",
       "      <td>1.000000</td>\n",
       "      <td>-0.089239</td>\n",
       "      <td>-0.089239</td>\n",
       "      <td>-0.089247</td>\n",
       "      <td>-0.089239</td>\n",
       "      <td>0.000000</td>\n",
       "      <td>0.000000</td>\n",
       "      <td>-0.051028</td>\n",
       "      <td>-0.051034</td>\n",
       "      <td>-0.051034</td>\n",
       "      <td>0.051034</td>\n",
       "      <td>-0.051034</td>\n",
       "      <td>0.051028</td>\n",
       "    </tr>\n",
       "    <tr>\n",
       "      <th>2023_y</th>\n",
       "      <td>-0.042266</td>\n",
       "      <td>-0.070477</td>\n",
       "      <td>-0.089231</td>\n",
       "      <td>-0.061058</td>\n",
       "      <td>-0.051664</td>\n",
       "      <td>-0.089239</td>\n",
       "      <td>1.000000</td>\n",
       "      <td>1.000000</td>\n",
       "      <td>0.999904</td>\n",
       "      <td>0.999616</td>\n",
       "      <td>0.509992</td>\n",
       "      <td>0.490392</td>\n",
       "      <td>-0.011647</td>\n",
       "      <td>-0.011649</td>\n",
       "      <td>-0.011649</td>\n",
       "      <td>0.011649</td>\n",
       "      <td>-0.011649</td>\n",
       "      <td>0.011647</td>\n",
       "    </tr>\n",
       "    <tr>\n",
       "      <th>2022_y</th>\n",
       "      <td>-0.042266</td>\n",
       "      <td>-0.070477</td>\n",
       "      <td>-0.089231</td>\n",
       "      <td>-0.061058</td>\n",
       "      <td>-0.051664</td>\n",
       "      <td>-0.089239</td>\n",
       "      <td>1.000000</td>\n",
       "      <td>1.000000</td>\n",
       "      <td>0.999904</td>\n",
       "      <td>0.999616</td>\n",
       "      <td>0.509992</td>\n",
       "      <td>0.490392</td>\n",
       "      <td>-0.011647</td>\n",
       "      <td>-0.011649</td>\n",
       "      <td>-0.011649</td>\n",
       "      <td>0.011649</td>\n",
       "      <td>-0.011649</td>\n",
       "      <td>0.011647</td>\n",
       "    </tr>\n",
       "    <tr>\n",
       "      <th>2021_y</th>\n",
       "      <td>-0.042270</td>\n",
       "      <td>-0.070484</td>\n",
       "      <td>-0.089240</td>\n",
       "      <td>-0.061064</td>\n",
       "      <td>-0.051669</td>\n",
       "      <td>-0.089247</td>\n",
       "      <td>0.999904</td>\n",
       "      <td>0.999904</td>\n",
       "      <td>1.000000</td>\n",
       "      <td>0.999904</td>\n",
       "      <td>0.519650</td>\n",
       "      <td>0.500240</td>\n",
       "      <td>-0.011648</td>\n",
       "      <td>-0.011650</td>\n",
       "      <td>-0.011650</td>\n",
       "      <td>0.011650</td>\n",
       "      <td>-0.011650</td>\n",
       "      <td>0.011648</td>\n",
       "    </tr>\n",
       "    <tr>\n",
       "      <th>2020_y</th>\n",
       "      <td>-0.042266</td>\n",
       "      <td>-0.070477</td>\n",
       "      <td>-0.089231</td>\n",
       "      <td>-0.061058</td>\n",
       "      <td>-0.051664</td>\n",
       "      <td>-0.089239</td>\n",
       "      <td>0.999616</td>\n",
       "      <td>0.999616</td>\n",
       "      <td>0.999904</td>\n",
       "      <td>1.000000</td>\n",
       "      <td>0.529208</td>\n",
       "      <td>0.509992</td>\n",
       "      <td>-0.011647</td>\n",
       "      <td>-0.011649</td>\n",
       "      <td>-0.011649</td>\n",
       "      <td>0.011649</td>\n",
       "      <td>-0.011649</td>\n",
       "      <td>0.011647</td>\n",
       "    </tr>\n",
       "    <tr>\n",
       "      <th>2019_y</th>\n",
       "      <td>0.000000</td>\n",
       "      <td>0.000000</td>\n",
       "      <td>0.000000</td>\n",
       "      <td>0.000000</td>\n",
       "      <td>0.000000</td>\n",
       "      <td>0.000000</td>\n",
       "      <td>0.509992</td>\n",
       "      <td>0.509992</td>\n",
       "      <td>0.519650</td>\n",
       "      <td>0.529208</td>\n",
       "      <td>1.000000</td>\n",
       "      <td>0.999616</td>\n",
       "      <td>0.000000</td>\n",
       "      <td>0.000000</td>\n",
       "      <td>0.000000</td>\n",
       "      <td>0.000000</td>\n",
       "      <td>0.000000</td>\n",
       "      <td>0.000000</td>\n",
       "    </tr>\n",
       "    <tr>\n",
       "      <th>2018_y</th>\n",
       "      <td>0.000000</td>\n",
       "      <td>0.000000</td>\n",
       "      <td>0.000000</td>\n",
       "      <td>0.000000</td>\n",
       "      <td>0.000000</td>\n",
       "      <td>0.000000</td>\n",
       "      <td>0.490392</td>\n",
       "      <td>0.490392</td>\n",
       "      <td>0.500240</td>\n",
       "      <td>0.509992</td>\n",
       "      <td>0.999616</td>\n",
       "      <td>1.000000</td>\n",
       "      <td>0.000000</td>\n",
       "      <td>0.000000</td>\n",
       "      <td>0.000000</td>\n",
       "      <td>0.000000</td>\n",
       "      <td>0.000000</td>\n",
       "      <td>0.000000</td>\n",
       "    </tr>\n",
       "    <tr>\n",
       "      <th>2023</th>\n",
       "      <td>-0.024168</td>\n",
       "      <td>-0.040300</td>\n",
       "      <td>-0.051023</td>\n",
       "      <td>-0.034914</td>\n",
       "      <td>-0.029542</td>\n",
       "      <td>-0.051028</td>\n",
       "      <td>-0.011647</td>\n",
       "      <td>-0.011647</td>\n",
       "      <td>-0.011648</td>\n",
       "      <td>-0.011647</td>\n",
       "      <td>0.000000</td>\n",
       "      <td>0.000000</td>\n",
       "      <td>1.000000</td>\n",
       "      <td>0.999874</td>\n",
       "      <td>0.999874</td>\n",
       "      <td>0.346362</td>\n",
       "      <td>0.999874</td>\n",
       "      <td>0.333501</td>\n",
       "    </tr>\n",
       "    <tr>\n",
       "      <th>2022</th>\n",
       "      <td>-0.024171</td>\n",
       "      <td>-0.040305</td>\n",
       "      <td>-0.051030</td>\n",
       "      <td>-0.034918</td>\n",
       "      <td>-0.029546</td>\n",
       "      <td>-0.051034</td>\n",
       "      <td>-0.011649</td>\n",
       "      <td>-0.011649</td>\n",
       "      <td>-0.011650</td>\n",
       "      <td>-0.011649</td>\n",
       "      <td>0.000000</td>\n",
       "      <td>0.000000</td>\n",
       "      <td>0.999874</td>\n",
       "      <td>1.000000</td>\n",
       "      <td>1.000000</td>\n",
       "      <td>0.333459</td>\n",
       "      <td>1.000000</td>\n",
       "      <td>0.346362</td>\n",
       "    </tr>\n",
       "    <tr>\n",
       "      <th>2021</th>\n",
       "      <td>-0.024171</td>\n",
       "      <td>-0.040305</td>\n",
       "      <td>-0.051030</td>\n",
       "      <td>-0.034918</td>\n",
       "      <td>-0.029546</td>\n",
       "      <td>-0.051034</td>\n",
       "      <td>-0.011649</td>\n",
       "      <td>-0.011649</td>\n",
       "      <td>-0.011650</td>\n",
       "      <td>-0.011649</td>\n",
       "      <td>0.000000</td>\n",
       "      <td>0.000000</td>\n",
       "      <td>0.999874</td>\n",
       "      <td>1.000000</td>\n",
       "      <td>1.000000</td>\n",
       "      <td>0.333459</td>\n",
       "      <td>1.000000</td>\n",
       "      <td>0.346362</td>\n",
       "    </tr>\n",
       "    <tr>\n",
       "      <th>2020</th>\n",
       "      <td>0.024171</td>\n",
       "      <td>0.040305</td>\n",
       "      <td>0.051030</td>\n",
       "      <td>0.034918</td>\n",
       "      <td>0.029546</td>\n",
       "      <td>0.051034</td>\n",
       "      <td>0.011649</td>\n",
       "      <td>0.011649</td>\n",
       "      <td>0.011650</td>\n",
       "      <td>0.011649</td>\n",
       "      <td>0.000000</td>\n",
       "      <td>0.000000</td>\n",
       "      <td>0.346362</td>\n",
       "      <td>0.333459</td>\n",
       "      <td>0.333459</td>\n",
       "      <td>1.000000</td>\n",
       "      <td>0.333459</td>\n",
       "      <td>-0.320473</td>\n",
       "    </tr>\n",
       "    <tr>\n",
       "      <th>2019</th>\n",
       "      <td>-0.024171</td>\n",
       "      <td>-0.040305</td>\n",
       "      <td>-0.051030</td>\n",
       "      <td>-0.034918</td>\n",
       "      <td>-0.029546</td>\n",
       "      <td>-0.051034</td>\n",
       "      <td>-0.011649</td>\n",
       "      <td>-0.011649</td>\n",
       "      <td>-0.011650</td>\n",
       "      <td>-0.011649</td>\n",
       "      <td>0.000000</td>\n",
       "      <td>0.000000</td>\n",
       "      <td>0.999874</td>\n",
       "      <td>1.000000</td>\n",
       "      <td>1.000000</td>\n",
       "      <td>0.333459</td>\n",
       "      <td>1.000000</td>\n",
       "      <td>0.346362</td>\n",
       "    </tr>\n",
       "    <tr>\n",
       "      <th>2018</th>\n",
       "      <td>0.024168</td>\n",
       "      <td>0.040300</td>\n",
       "      <td>0.051023</td>\n",
       "      <td>0.034914</td>\n",
       "      <td>0.029542</td>\n",
       "      <td>0.051028</td>\n",
       "      <td>0.011647</td>\n",
       "      <td>0.011647</td>\n",
       "      <td>0.011648</td>\n",
       "      <td>0.011647</td>\n",
       "      <td>0.000000</td>\n",
       "      <td>0.000000</td>\n",
       "      <td>0.333501</td>\n",
       "      <td>0.346362</td>\n",
       "      <td>0.346362</td>\n",
       "      <td>-0.320473</td>\n",
       "      <td>0.346362</td>\n",
       "      <td>1.000000</td>\n",
       "    </tr>\n",
       "  </tbody>\n",
       "</table>\n",
       "</div>"
      ],
      "text/plain": [
       "          2023_x    2022_x    2021_x    2020_x    2019_x    2018_x    2023_y  \\\n",
       "2023_x  1.000000  0.851184  0.778152  0.789024  0.781505  0.800977 -0.042266   \n",
       "2022_x  0.851184  1.000000  0.932385  0.888389  0.852985  0.884158 -0.070477   \n",
       "2021_x  0.778152  0.932385  1.000000  0.892097  0.871971  0.890197 -0.089231   \n",
       "2020_x  0.789024  0.888389  0.892097  1.000000  0.970575  0.908435 -0.061058   \n",
       "2019_x  0.781505  0.852985  0.871971  0.970575  1.000000  0.927664 -0.051664   \n",
       "2018_x  0.800977  0.884158  0.890197  0.908435  0.927664  1.000000 -0.089239   \n",
       "2023_y -0.042266 -0.070477 -0.089231 -0.061058 -0.051664 -0.089239  1.000000   \n",
       "2022_y -0.042266 -0.070477 -0.089231 -0.061058 -0.051664 -0.089239  1.000000   \n",
       "2021_y -0.042270 -0.070484 -0.089240 -0.061064 -0.051669 -0.089247  0.999904   \n",
       "2020_y -0.042266 -0.070477 -0.089231 -0.061058 -0.051664 -0.089239  0.999616   \n",
       "2019_y  0.000000  0.000000  0.000000  0.000000  0.000000  0.000000  0.509992   \n",
       "2018_y  0.000000  0.000000  0.000000  0.000000  0.000000  0.000000  0.490392   \n",
       "2023   -0.024168 -0.040300 -0.051023 -0.034914 -0.029542 -0.051028 -0.011647   \n",
       "2022   -0.024171 -0.040305 -0.051030 -0.034918 -0.029546 -0.051034 -0.011649   \n",
       "2021   -0.024171 -0.040305 -0.051030 -0.034918 -0.029546 -0.051034 -0.011649   \n",
       "2020    0.024171  0.040305  0.051030  0.034918  0.029546  0.051034  0.011649   \n",
       "2019   -0.024171 -0.040305 -0.051030 -0.034918 -0.029546 -0.051034 -0.011649   \n",
       "2018    0.024168  0.040300  0.051023  0.034914  0.029542  0.051028  0.011647   \n",
       "\n",
       "          2022_y    2021_y    2020_y    2019_y    2018_y      2023      2022  \\\n",
       "2023_x -0.042266 -0.042270 -0.042266  0.000000  0.000000 -0.024168 -0.024171   \n",
       "2022_x -0.070477 -0.070484 -0.070477  0.000000  0.000000 -0.040300 -0.040305   \n",
       "2021_x -0.089231 -0.089240 -0.089231  0.000000  0.000000 -0.051023 -0.051030   \n",
       "2020_x -0.061058 -0.061064 -0.061058  0.000000  0.000000 -0.034914 -0.034918   \n",
       "2019_x -0.051664 -0.051669 -0.051664  0.000000  0.000000 -0.029542 -0.029546   \n",
       "2018_x -0.089239 -0.089247 -0.089239  0.000000  0.000000 -0.051028 -0.051034   \n",
       "2023_y  1.000000  0.999904  0.999616  0.509992  0.490392 -0.011647 -0.011649   \n",
       "2022_y  1.000000  0.999904  0.999616  0.509992  0.490392 -0.011647 -0.011649   \n",
       "2021_y  0.999904  1.000000  0.999904  0.519650  0.500240 -0.011648 -0.011650   \n",
       "2020_y  0.999616  0.999904  1.000000  0.529208  0.509992 -0.011647 -0.011649   \n",
       "2019_y  0.509992  0.519650  0.529208  1.000000  0.999616  0.000000  0.000000   \n",
       "2018_y  0.490392  0.500240  0.509992  0.999616  1.000000  0.000000  0.000000   \n",
       "2023   -0.011647 -0.011648 -0.011647  0.000000  0.000000  1.000000  0.999874   \n",
       "2022   -0.011649 -0.011650 -0.011649  0.000000  0.000000  0.999874  1.000000   \n",
       "2021   -0.011649 -0.011650 -0.011649  0.000000  0.000000  0.999874  1.000000   \n",
       "2020    0.011649  0.011650  0.011649  0.000000  0.000000  0.346362  0.333459   \n",
       "2019   -0.011649 -0.011650 -0.011649  0.000000  0.000000  0.999874  1.000000   \n",
       "2018    0.011647  0.011648  0.011647  0.000000  0.000000  0.333501  0.346362   \n",
       "\n",
       "            2021      2020      2019      2018  \n",
       "2023_x -0.024171  0.024171 -0.024171  0.024168  \n",
       "2022_x -0.040305  0.040305 -0.040305  0.040300  \n",
       "2021_x -0.051030  0.051030 -0.051030  0.051023  \n",
       "2020_x -0.034918  0.034918 -0.034918  0.034914  \n",
       "2019_x -0.029546  0.029546 -0.029546  0.029542  \n",
       "2018_x -0.051034  0.051034 -0.051034  0.051028  \n",
       "2023_y -0.011649  0.011649 -0.011649  0.011647  \n",
       "2022_y -0.011649  0.011649 -0.011649  0.011647  \n",
       "2021_y -0.011650  0.011650 -0.011650  0.011648  \n",
       "2020_y -0.011649  0.011649 -0.011649  0.011647  \n",
       "2019_y  0.000000  0.000000  0.000000  0.000000  \n",
       "2018_y  0.000000  0.000000  0.000000  0.000000  \n",
       "2023    0.999874  0.346362  0.999874  0.333501  \n",
       "2022    1.000000  0.333459  1.000000  0.346362  \n",
       "2021    1.000000  0.333459  1.000000  0.346362  \n",
       "2020    0.333459  1.000000  0.333459 -0.320473  \n",
       "2019    1.000000  0.333459  1.000000  0.346362  \n",
       "2018    0.346362 -0.320473  0.346362  1.000000  "
      ]
     },
     "execution_count": 267,
     "metadata": {},
     "output_type": "execute_result"
    }
   ],
   "source": [
    "spearman_corr2 = merged_df_final2.corr(method='spearman')\n",
    "spearman_corr2"
   ]
  },
  {
   "cell_type": "markdown",
   "metadata": {},
   "source": [
    "Once again we obtain a similar result as for the other series of datasets. Based on the numerical values:\n",
    "\n",
    "- Temporal Correlations within the Same Categories: Correlations within the same categories over the years are generally high (close to 1), suggesting a strong positive correlation. This indicates that gender dynamics in one category positively influence dynamics in similar categories in subsequent years.\n",
    "\n",
    "- Correlations between Different Categories in the Same Year: Correlations between different categories in the same year vary, but often are significant. A high value indicates a positive relationship, while a low or negative value indicates a weaker or even negative relationship.\n",
    "\n",
    "- Correlations Between Different Categories Over the Years: Correlations between different categories over time show significant variations. Some years exhibit stronger correlations than others, suggesting that gender dynamics in an agency in one year may influence other categories differently in subsequent years.\n",
    "\n",
    "- Negative Values in Year-to-Year Correlations: Negative values indicate a inverse relationship between categories in those specific years. This suggests that in certain periods, an increase in the number of women in one category is associated with a decrease in other categories and vice versa.\n",
    "\n",
    "\n",
    "- Correlations between Agencies in the Same Year: Correlations between different agencies in the same year indicate how gender dynamics in one agency may be linked to those in other agencies during the same period.\n",
    "\n",
    "In summary, the numerical data confirm that similar categories exhibit a strong temporal correlation, while different categories may show varying degrees of correlation depending on the years. Negative values suggest complex dynamics, indicating that changes in the number of women in influential roles in certain categories may counterbalance variations in other categories. Further analyses and investigations could provide a deeper understanding of gender dynamics in European institutions over time.\n",
    "\n",
    "In few lines it is possible to say that:\n",
    "- The analysis reveals positive correlations within each specific domain. However, the correlations between different domains are generally weaker. This suggests that while there is consistency in women's involvement within a specific area over time, the correlation between women's involvement in different areas is not as strong.\n",
    "\n",
    "\n",
    "It's essential to emphasize that correlations, whether observed in data or trends, do not inherently indicate a causal relationship. Jumping to the conclusion of causation based solely on correlation is a logical fallacy known as \"post hoc ergo propter hoc,\" which means assuming that because one event follows another, the first event caused the second. Avoiding this error is crucial for accurate interpretation and analysis of data. Additionally, acknowledging the risk of confirmation bias, the tendency to favor information supporting existing beliefs, is vital to maintaining objectivity when dealing with correlations."
   ]
  },
  {
   "cell_type": "code",
   "execution_count": 268,
   "metadata": {},
   "outputs": [
    {
     "data": {
      "image/png": "[encoded data removed]",
      "text/plain": [
       "<Figure size 1000x800 with 2 Axes>"
      ]
     },
     "metadata": {},
     "output_type": "display_data"
    }
   ],
   "source": [
    "import seaborn as sns\n",
    "import matplotlib.pyplot as plt\n",
    "\n",
    "plt.figure(figsize=(10, 8))\n",
    "sns.heatmap(spearman_corr2, annot=True, cmap='coolwarm', fmt=\".2f\")\n",
    "plt.title('Matrice di Correlazione (Spearman)')\n",
    "plt.show()"
   ]
  },
  {
   "cell_type": "markdown",
   "metadata": {},
   "source": [
    "Displayed above are the correlation results presented in a graphical format, akin to earlier visualizations. Warmer-colored zones indicate a stronger correlation between the paired years, while colder ones suggest a potential absence of correlation. It is crucial to reiterate, as emphasized throughout this notebook, that in the latter scenario, a significant volume of data has been artificially generated using the <code>knn_impute</code> function. This function adeptly replaces NaN values by employing the logic of k-nearest neighbor imputation, contributing to a more comprehensive dataset for analysis."
   ]
  },
  {
   "cell_type": "markdown",
   "metadata": {},
   "source": [
    "### Clusters and visualization\n",
    "\n",
    "Like before in this section, the same approach oc finding and evaluating possible clusters among the data has been employed to identify any patterns in the dataset. Once again before proceeding with the cluster identification, it is necessary to employ the elbow method to determine the optimal number of clusters by which to partition the dataset."
   ]
  },
  {
   "cell_type": "code",
   "execution_count": 269,
   "metadata": {},
   "outputs": [
    {
     "data": {
      "image/png": "[encoded data removed]",
      "text/plain": [
       "<Figure size 640x480 with 1 Axes>"
      ]
     },
     "metadata": {},
     "output_type": "display_data"
    }
   ],
   "source": [
    "# import numpy as np\n",
    "# import matplotlib.pyplot as plt\n",
    "# import seaborn as sns \n",
    "# from sklearn import cluster\n",
    "\n",
    "# scaler = StandardScaler()\n",
    "# scaled_data2 = scaler.fit_transform(merged_df_final2.select_dtypes(include=[np.number]))\n",
    "# # Apply elbow method to understand the number of cluster\n",
    "\n",
    "# wcss = []\n",
    "# for i in range(1,11):\n",
    "#     k_means = cluster.KMeans(n_clusters=i,init='k-means++', random_state=42)\n",
    "#     k_means.fit(scaled_data2)\n",
    "#     wcss.append(k_means.inertia_) \n",
    "\n",
    "# plt.plot(np.arange(1,11),wcss)\n",
    "# plt.xlabel('Clusters')\n",
    "# plt.ylabel('SSE')\n",
    "# plt.show()"
   ]
  },
  {
   "cell_type": "markdown",
   "metadata": {},
   "source": [
    "In this case as before, there is some space for interpretations or trials for the numbers of cluster to select, even if it is quite undeniably clear that the optimal amount of cluster in this situation is 4."
   ]
  },
  {
   "cell_type": "code",
   "execution_count": 270,
   "metadata": {},
   "outputs": [
    {
     "name": "stdout",
     "output_type": "stream",
     "text": [
      "Shapiro-Wilk Statistic: 0.8555845022201538, p-value: 1.1528235072231762e-28\n",
      "Data does not appear to be normally distributed.\n"
     ]
    }
   ],
   "source": [
    "from scipy.stats import shapiro\n",
    "\n",
    "stat, p_value = shapiro(merged_df_final2.select_dtypes(include=[np.number]).values)\n",
    "\n",
    "print(f\"Shapiro-Wilk Statistic: {stat}, p-value: {p_value}\")\n",
    "\n",
    "if p_value > 0.05:\n",
    "    print(\"Data appears to be normally distributed.\")\n",
    "else:\n",
    "    print(\"Data does not appear to be normally distributed.\")"
   ]
  },
  {
   "cell_type": "markdown",
   "metadata": {},
   "source": [
    "Same result as before, we proceed to apply DBSCAN algorithm"
   ]
  },
  {
   "cell_type": "code",
   "execution_count": 286,
   "metadata": {},
   "outputs": [
    {
     "name": "stdout",
     "output_type": "stream",
     "text": [
      "Best parameters: {'eps': 1.5, 'min_samples': 5}\n",
      "Best Silhouette Coefficient: 0.5565976822922651\n",
      "Silhouette Coefficient: 0.557\n",
      "Calinski-Harabasz Index: 9.003\n",
      "Davies-Bouldin Index: 2.010\n",
      "Cluster Labels: [ 0  0  0  0  0 -1  0  0  0  0  0  0 -1  0  0  0  0 -1  0  0 -1  0  0  0\n",
      "  0  0  0  0  0  0  0  0  0  0  0  0  0  0  0  0  0  0 -1  0  0  0 -1 -1\n",
      " -1 -1 -1 -1 -1]\n",
      "Cluster Means:\n",
      "            2023_x     2022_x     2021_x     2020_x     2019_x     2018_x  \\\n",
      "Cluster                                                                     \n",
      "-1       20.431667  18.975000  18.859167  19.359167  18.579167  19.273333   \n",
      " 0        9.930000   9.944878   9.779756   9.950976   9.641463   9.912927   \n",
      "\n",
      "            2023_y  2022_y     2021_y  2020_y  2019_y     2018_y  2023   2022  \\\n",
      "Cluster                                                                         \n",
      "-1       17.703333   15.87  16.306667   15.50   13.01  13.696667  3.37  3.085   \n",
      " 0       18.430000   16.43  16.960000   16.25   13.64  14.670000  3.16  2.780   \n",
      "\n",
      "             2021      2020      2019    2018  \n",
      "Cluster                                        \n",
      "-1       2.723333  2.684167  2.188333  2.1675  \n",
      " 0       2.520000  2.690000  2.140000  1.8900  \n",
      "Number of clusters: 2\n"
     ]
    }
   ],
   "source": [
    "# from sklearn.cluster import KMeans\n",
    "# import pandas as pd\n",
    "\n",
    "# kmeans = KMeans(n_clusters=5, init='k-means++', random_state=42)\n",
    "# kmeans.fit(scaled_data2)\n",
    "# labels = kmeans.labels_\n",
    "# merged_df_final2['Cluster'] = labels\n",
    "# labels\n",
    "# cluster_means = merged_df_final2.groupby('Cluster').mean()\n",
    "# cluster_means\n",
    "scaler = StandardScaler()\n",
    "scaled_data2 = scaler.fit_transform(merged_df_final2.select_dtypes(include=[np.number]))\n",
    "best_labels2 = perform_dbscan(scaled_data2, param_grid_dbscan)\n",
    "\n",
    "print(\"Silhouette Coefficient: %0.3f\"\n",
    "      % metrics.silhouette_score(scaled_data2, best_labels2))\n",
    "\n",
    "print(\"Calinski-Harabasz Index: %0.3f\"\n",
    "      % metrics.calinski_harabasz_score(scaled_data2, best_labels2))\n",
    "\n",
    "print(\"Davies-Bouldin Index: %0.3f\"\n",
    "      % metrics.davies_bouldin_score(scaled_data2, best_labels2))\n",
    "\n",
    "merged_df_final2['Cluster'] = best_labels2\n",
    "\n",
    "print(\"Cluster Labels:\", best_labels2)\n",
    "cluster_means2 = merged_df_final2.groupby('Cluster').mean()\n",
    "print(\"Cluster Means:\")\n",
    "print(cluster_means2)\n",
    "num_clusters2 = len(np.unique(best_labels2))\n",
    "print(\"Number of clusters:\", num_clusters2)\n",
    "\n"
   ]
  },
  {
   "cell_type": "markdown",
   "metadata": {},
   "source": [
    "As it is possible to see in the result above this cell the calculus of the average values of the clusters shows the difference in the avrage values of theclusters that suggest the choice of 4 clusters."
   ]
  },
  {
   "cell_type": "code",
   "execution_count": 281,
   "metadata": {},
   "outputs": [
    {
     "data": {
      "application/vnd.plotly.v1+json": {
       "config": {
        "plotlyServerURL": "https://plot.ly"
       },
       "data": [
        {
         "marker": {
          "color": [
           0,
           0,
           0,
           0,
           0,
           -1,
           0,
           0,
           0,
           0,
           0,
           0,
           -1,
           0,
           0,
           0,
           0,
           -1,
           0,
           0,
           -1,
           0,
           0,
           0,
           0,
           0,
           0,
           0,
           0,
           0,
           0,
           0,
           0,
           0,
           0,
           0,
           0,
           0,
           0,
           0,
           0,
           0,
           -1,
           0,
           0,
           0,
           -1,
           -1,
           -1,
           -1,
           -1,
           -1,
           -1
          ],
          "colorscale": [
           [
            0,
            "#440154"
           ],
           [
            0.1111111111111111,
            "#482878"
           ],
           [
            0.2222222222222222,
            "#3e4989"
           ],
           [
            0.3333333333333333,
            "#31688e"
           ],
           [
            0.4444444444444444,
            "#26828e"
           ],
           [
            0.5555555555555556,
            "#1f9e89"
           ],
           [
            0.6666666666666666,
            "#35b779"
           ],
           [
            0.7777777777777778,
            "#6ece58"
           ],
           [
            0.8888888888888888,
            "#b5de2b"
           ],
           [
            1,
            "#fde725"
           ]
          ],
          "size": 5
         },
         "mode": "markers",
         "type": "scatter3d",
         "x": [
          -1.505653343997139,
          -1.7152314247003104,
          -0.09177332134639897,
          0.02577829790856336,
          0.025778297908563983,
          6.404794716160737,
          -2.5626173677883988,
          -2.2686654108237443,
          0.3352932791994878,
          -2.122384732278616,
          -1.8569845275456143,
          1.7187782154657372,
          10.045203093680895,
          2.5679292086888497,
          -1.7538866174080165,
          1.2077783621742493,
          -0.7015614303447009,
          -1.9000248457733184,
          -0.07988540200154443,
          0.034301435338708434,
          7.198222915680786,
          -1.5751255864612352,
          0.5075307427288325,
          -1.7592278021552554,
          -0.8558484153350027,
          -1.3563436454418498,
          -1.949081173589997,
          -0.1965813234245064,
          -0.03582680778761839,
          -2.203234232159859,
          -0.7590116868118683,
          -1.4551319011486623,
          -0.9584143266275605,
          -0.995614958106427,
          1.2647001558410345,
          0.5489812313495219,
          0.025778297908563896,
          -0.7166852263382283,
          -1.2504163659932963,
          0.025778297908563896,
          -3.3682175273615482,
          -0.9589550035862626,
          3.7321345778258608,
          0.21691097343055057,
          -1.8856229569331715,
          0.0257782979085639,
          0.01506741812625907,
          0.5825521961695028,
          -1.1038435436144705,
          3.2483877896138975,
          -0.008409043241129002,
          0.18379444583232468,
          0.009007703275694206
         ],
         "y": [
          0.06978211649509654,
          0.11083070965686809,
          -0.21150942788026372,
          -0.23612572349765612,
          -0.23612572349765537,
          -1.51531801301319,
          0.28231188394575524,
          0.2212783383791196,
          -0.29913045413761447,
          0.19194041544687482,
          0.1411701411078233,
          -0.5765813235146028,
          -2.25102301354863,
          -0.7474626737733949,
          0.12119402483454114,
          -0.47526386478340016,
          -0.09076688153847001,
          0.1404630045487048,
          -0.21359768700747542,
          -0.23801238928674245,
          -1.6760015612915466,
          0.08343994223717958,
          -0.33348959505608466,
          0.12003413200195762,
          -0.059982833302715886,
          0.040698038010335766,
          0.1608012577507724,
          -0.19099972566589213,
          -0.22303828495357436,
          0.2112598626799842,
          -0.0810097916302689,
          0.06012312562092675,
          -0.040579953471695344,
          -0.030004912551489207,
          -0.48466980547723093,
          -0.3427531021154443,
          -0.23612572349765587,
          -0.09108346393618558,
          0.019745968218234235,
          -0.23612572349765584,
          0.44395516408409846,
          -0.04034417531631632,
          -0.9800826265348505,
          -0.27562753998033473,
          0.14631872835152812,
          -0.23612572349765582,
          -0.27965374274585014,
          2.4817944917401182,
          -5.782756841457918,
          15.556361624553409,
          0.14574819880266512,
          -1.9855957538793725,
          -0.0522831131271527
         ],
         "z": [
          -0.18325866672434946,
          -0.17770709032067783,
          -0.22547667586429468,
          -0.23032732705837478,
          -0.2303273270583751,
          -0.4317983558212588,
          -0.14924782987337118,
          -0.16080785160218677,
          -0.24112408282186265,
          -0.16543429693757816,
          -0.17114146243649128,
          -0.2848403902727705,
          -0.5529865845004263,
          -0.31231428691177193,
          -0.1736375534604954,
          -0.2699602295915576,
          -0.207895023896154,
          -0.179971420590296,
          -0.2255281979811235,
          -0.2307900769095434,
          -0.45858283792833227,
          -0.18136393392300396,
          -0.24637008665255924,
          -0.17589968082769666,
          -0.20319263846718574,
          -0.18704161136830041,
          -0.16696536880953589,
          -0.22272166117968298,
          -0.2275781325755683,
          -0.15949144914128693,
          -0.20800458109717995,
          -0.1843401200813724,
          -0.2012233715975905,
          -0.19664942727889204,
          -0.26956676689585907,
          -0.24871576700573064,
          -0.23032732705837516,
          -0.21107267296041202,
          -0.19006804063055188,
          -0.23032732705837516,
          -0.12370018048325235,
          -0.20106689079154588,
          -0.3481675530286279,
          -0.23764506498655327,
          -0.17088626867204776,
          -0.2303273270583752,
          -0.2292897714892037,
          0.05339430041048296,
          -0.8299304271875891,
          1.4572054429507562,
          -3.9131762424099805,
          15.790474799794946,
          -1.812807283878559
         ]
        }
       ],
       "layout": {
        "margin": {
         "b": 0,
         "l": 0,
         "r": 0,
         "t": 0
        },
        "scene": {
         "xaxis": {
          "title": {
           "text": "Principal Component 1"
          }
         },
         "yaxis": {
          "title": {
           "text": "Principal Component 2"
          }
         },
         "zaxis": {
          "title": {
           "text": "Principal Component 3"
          }
         }
        },
        "template": {
         "data": {
          "bar": [
           {
            "error_x": {
             "color": "#2a3f5f"
            },
            "error_y": {
             "color": "#2a3f5f"
            },
            "marker": {
             "line": {
              "color": "#E5ECF6",
              "width": 0.5
             },
             "pattern": {
              "fillmode": "overlay",
              "size": 10,
              "solidity": 0.2
             }
            },
            "type": "bar"
           }
          ],
          "barpolar": [
           {
            "marker": {
             "line": {
              "color": "#E5ECF6",
              "width": 0.5
             },
             "pattern": {
              "fillmode": "overlay",
              "size": 10,
              "solidity": 0.2
             }
            },
            "type": "barpolar"
           }
          ],
          "carpet": [
           {
            "aaxis": {
             "endlinecolor": "#2a3f5f",
             "gridcolor": "white",
             "linecolor": "white",
             "minorgridcolor": "white",
             "startlinecolor": "#2a3f5f"
            },
            "baxis": {
             "endlinecolor": "#2a3f5f",
             "gridcolor": "white",
             "linecolor": "white",
             "minorgridcolor": "white",
             "startlinecolor": "#2a3f5f"
            },
            "type": "carpet"
           }
          ],
          "choropleth": [
           {
            "colorbar": {
             "outlinewidth": 0,
             "ticks": ""
            },
            "type": "choropleth"
           }
          ],
          "contour": [
           {
            "colorbar": {
             "outlinewidth": 0,
             "ticks": ""
            },
            "colorscale": [
             [
              0,
              "#0d0887"
             ],
             [
              0.1111111111111111,
              "#46039f"
             ],
             [
              0.2222222222222222,
              "#7201a8"
             ],
             [
              0.3333333333333333,
              "#9c179e"
             ],
             [
              0.4444444444444444,
              "#bd3786"
             ],
             [
              0.5555555555555556,
              "#d8576b"
             ],
             [
              0.6666666666666666,
              "#ed7953"
             ],
             [
              0.7777777777777778,
              "#fb9f3a"
             ],
             [
              0.8888888888888888,
              "#fdca26"
             ],
             [
              1,
              "#f0f921"
             ]
            ],
            "type": "contour"
           }
          ],
          "contourcarpet": [
           {
            "colorbar": {
             "outlinewidth": 0,
             "ticks": ""
            },
            "type": "contourcarpet"
           }
          ],
          "heatmap": [
           {
            "colorbar": {
             "outlinewidth": 0,
             "ticks": ""
            },
            "colorscale": [
             [
              0,
              "#0d0887"
             ],
             [
              0.1111111111111111,
              "#46039f"
             ],
             [
              0.2222222222222222,
              "#7201a8"
             ],
             [
              0.3333333333333333,
              "#9c179e"
             ],
             [
              0.4444444444444444,
              "#bd3786"
             ],
             [
              0.5555555555555556,
              "#d8576b"
             ],
             [
              0.6666666666666666,
              "#ed7953"
             ],
             [
              0.7777777777777778,
              "#fb9f3a"
             ],
             [
              0.8888888888888888,
              "#fdca26"
             ],
             [
              1,
              "#f0f921"
             ]
            ],
            "type": "heatmap"
           }
          ],
          "heatmapgl": [
           {
            "colorbar": {
             "outlinewidth": 0,
             "ticks": ""
            },
            "colorscale": [
             [
              0,
              "#0d0887"
             ],
             [
              0.1111111111111111,
              "#46039f"
             ],
             [
              0.2222222222222222,
              "#7201a8"
             ],
             [
              0.3333333333333333,
              "#9c179e"
             ],
             [
              0.4444444444444444,
              "#bd3786"
             ],
             [
              0.5555555555555556,
              "#d8576b"
             ],
             [
              0.6666666666666666,
              "#ed7953"
             ],
             [
              0.7777777777777778,
              "#fb9f3a"
             ],
             [
              0.8888888888888888,
              "#fdca26"
             ],
             [
              1,
              "#f0f921"
             ]
            ],
            "type": "heatmapgl"
           }
          ],
          "histogram": [
           {
            "marker": {
             "pattern": {
              "fillmode": "overlay",
              "size": 10,
              "solidity": 0.2
             }
            },
            "type": "histogram"
           }
          ],
          "histogram2d": [
           {
            "colorbar": {
             "outlinewidth": 0,
             "ticks": ""
            },
            "colorscale": [
             [
              0,
              "#0d0887"
             ],
             [
              0.1111111111111111,
              "#46039f"
             ],
             [
              0.2222222222222222,
              "#7201a8"
             ],
             [
              0.3333333333333333,
              "#9c179e"
             ],
             [
              0.4444444444444444,
              "#bd3786"
             ],
             [
              0.5555555555555556,
              "#d8576b"
             ],
             [
              0.6666666666666666,
              "#ed7953"
             ],
             [
              0.7777777777777778,
              "#fb9f3a"
             ],
             [
              0.8888888888888888,
              "#fdca26"
             ],
             [
              1,
              "#f0f921"
             ]
            ],
            "type": "histogram2d"
           }
          ],
          "histogram2dcontour": [
           {
            "colorbar": {
             "outlinewidth": 0,
             "ticks": ""
            },
            "colorscale": [
             [
              0,
              "#0d0887"
             ],
             [
              0.1111111111111111,
              "#46039f"
             ],
             [
              0.2222222222222222,
              "#7201a8"
             ],
             [
              0.3333333333333333,
              "#9c179e"
             ],
             [
              0.4444444444444444,
              "#bd3786"
             ],
             [
              0.5555555555555556,
              "#d8576b"
             ],
             [
              0.6666666666666666,
              "#ed7953"
             ],
             [
              0.7777777777777778,
              "#fb9f3a"
             ],
             [
              0.8888888888888888,
              "#fdca26"
             ],
             [
              1,
              "#f0f921"
             ]
            ],
            "type": "histogram2dcontour"
           }
          ],
          "mesh3d": [
           {
            "colorbar": {
             "outlinewidth": 0,
             "ticks": ""
            },
            "type": "mesh3d"
           }
          ],
          "parcoords": [
           {
            "line": {
             "colorbar": {
              "outlinewidth": 0,
              "ticks": ""
             }
            },
            "type": "parcoords"
           }
          ],
          "pie": [
           {
            "automargin": true,
            "type": "pie"
           }
          ],
          "scatter": [
           {
            "fillpattern": {
             "fillmode": "overlay",
             "size": 10,
             "solidity": 0.2
            },
            "type": "scatter"
           }
          ],
          "scatter3d": [
           {
            "line": {
             "colorbar": {
              "outlinewidth": 0,
              "ticks": ""
             }
            },
            "marker": {
             "colorbar": {
              "outlinewidth": 0,
              "ticks": ""
             }
            },
            "type": "scatter3d"
           }
          ],
          "scattercarpet": [
           {
            "marker": {
             "colorbar": {
              "outlinewidth": 0,
              "ticks": ""
             }
            },
            "type": "scattercarpet"
           }
          ],
          "scattergeo": [
           {
            "marker": {
             "colorbar": {
              "outlinewidth": 0,
              "ticks": ""
             }
            },
            "type": "scattergeo"
           }
          ],
          "scattergl": [
           {
            "marker": {
             "colorbar": {
              "outlinewidth": 0,
              "ticks": ""
             }
            },
            "type": "scattergl"
           }
          ],
          "scattermapbox": [
           {
            "marker": {
             "colorbar": {
              "outlinewidth": 0,
              "ticks": ""
             }
            },
            "type": "scattermapbox"
           }
          ],
          "scatterpolar": [
           {
            "marker": {
             "colorbar": {
              "outlinewidth": 0,
              "ticks": ""
             }
            },
            "type": "scatterpolar"
           }
          ],
          "scatterpolargl": [
           {
            "marker": {
             "colorbar": {
              "outlinewidth": 0,
              "ticks": ""
             }
            },
            "type": "scatterpolargl"
           }
          ],
          "scatterternary": [
           {
            "marker": {
             "colorbar": {
              "outlinewidth": 0,
              "ticks": ""
             }
            },
            "type": "scatterternary"
           }
          ],
          "surface": [
           {
            "colorbar": {
             "outlinewidth": 0,
             "ticks": ""
            },
            "colorscale": [
             [
              0,
              "#0d0887"
             ],
             [
              0.1111111111111111,
              "#46039f"
             ],
             [
              0.2222222222222222,
              "#7201a8"
             ],
             [
              0.3333333333333333,
              "#9c179e"
             ],
             [
              0.4444444444444444,
              "#bd3786"
             ],
             [
              0.5555555555555556,
              "#d8576b"
             ],
             [
              0.6666666666666666,
              "#ed7953"
             ],
             [
              0.7777777777777778,
              "#fb9f3a"
             ],
             [
              0.8888888888888888,
              "#fdca26"
             ],
             [
              1,
              "#f0f921"
             ]
            ],
            "type": "surface"
           }
          ],
          "table": [
           {
            "cells": {
             "fill": {
              "color": "#EBF0F8"
             },
             "line": {
              "color": "white"
             }
            },
            "header": {
             "fill": {
              "color": "#C8D4E3"
             },
             "line": {
              "color": "white"
             }
            },
            "type": "table"
           }
          ]
         },
         "layout": {
          "annotationdefaults": {
           "arrowcolor": "#2a3f5f",
           "arrowhead": 0,
           "arrowwidth": 1
          },
          "autotypenumbers": "strict",
          "coloraxis": {
           "colorbar": {
            "outlinewidth": 0,
            "ticks": ""
           }
          },
          "colorscale": {
           "diverging": [
            [
             0,
             "#8e0152"
            ],
            [
             0.1,
             "#c51b7d"
            ],
            [
             0.2,
             "#de77ae"
            ],
            [
             0.3,
             "#f1b6da"
            ],
            [
             0.4,
             "#fde0ef"
            ],
            [
             0.5,
             "#f7f7f7"
            ],
            [
             0.6,
             "#e6f5d0"
            ],
            [
             0.7,
             "#b8e186"
            ],
            [
             0.8,
             "#7fbc41"
            ],
            [
             0.9,
             "#4d9221"
            ],
            [
             1,
             "#276419"
            ]
           ],
           "sequential": [
            [
             0,
             "#0d0887"
            ],
            [
             0.1111111111111111,
             "#46039f"
            ],
            [
             0.2222222222222222,
             "#7201a8"
            ],
            [
             0.3333333333333333,
             "#9c179e"
            ],
            [
             0.4444444444444444,
             "#bd3786"
            ],
            [
             0.5555555555555556,
             "#d8576b"
            ],
            [
             0.6666666666666666,
             "#ed7953"
            ],
            [
             0.7777777777777778,
             "#fb9f3a"
            ],
            [
             0.8888888888888888,
             "#fdca26"
            ],
            [
             1,
             "#f0f921"
            ]
           ],
           "sequentialminus": [
            [
             0,
             "#0d0887"
            ],
            [
             0.1111111111111111,
             "#46039f"
            ],
            [
             0.2222222222222222,
             "#7201a8"
            ],
            [
             0.3333333333333333,
             "#9c179e"
            ],
            [
             0.4444444444444444,
             "#bd3786"
            ],
            [
             0.5555555555555556,
             "#d8576b"
            ],
            [
             0.6666666666666666,
             "#ed7953"
            ],
            [
             0.7777777777777778,
             "#fb9f3a"
            ],
            [
             0.8888888888888888,
             "#fdca26"
            ],
            [
             1,
             "#f0f921"
            ]
           ]
          },
          "colorway": [
           "#636efa",
           "#EF553B",
           "#00cc96",
           "#ab63fa",
           "#FFA15A",
           "#19d3f3",
           "#FF6692",
           "#B6E880",
           "#FF97FF",
           "#FECB52"
          ],
          "font": {
           "color": "#2a3f5f"
          },
          "geo": {
           "bgcolor": "white",
           "lakecolor": "white",
           "landcolor": "#E5ECF6",
           "showlakes": true,
           "showland": true,
           "subunitcolor": "white"
          },
          "hoverlabel": {
           "align": "left"
          },
          "hovermode": "closest",
          "mapbox": {
           "style": "light"
          },
          "paper_bgcolor": "white",
          "plot_bgcolor": "#E5ECF6",
          "polar": {
           "angularaxis": {
            "gridcolor": "white",
            "linecolor": "white",
            "ticks": ""
           },
           "bgcolor": "#E5ECF6",
           "radialaxis": {
            "gridcolor": "white",
            "linecolor": "white",
            "ticks": ""
           }
          },
          "scene": {
           "xaxis": {
            "backgroundcolor": "#E5ECF6",
            "gridcolor": "white",
            "gridwidth": 2,
            "linecolor": "white",
            "showbackground": true,
            "ticks": "",
            "zerolinecolor": "white"
           },
           "yaxis": {
            "backgroundcolor": "#E5ECF6",
            "gridcolor": "white",
            "gridwidth": 2,
            "linecolor": "white",
            "showbackground": true,
            "ticks": "",
            "zerolinecolor": "white"
           },
           "zaxis": {
            "backgroundcolor": "#E5ECF6",
            "gridcolor": "white",
            "gridwidth": 2,
            "linecolor": "white",
            "showbackground": true,
            "ticks": "",
            "zerolinecolor": "white"
           }
          },
          "shapedefaults": {
           "line": {
            "color": "#2a3f5f"
           }
          },
          "ternary": {
           "aaxis": {
            "gridcolor": "white",
            "linecolor": "white",
            "ticks": ""
           },
           "baxis": {
            "gridcolor": "white",
            "linecolor": "white",
            "ticks": ""
           },
           "bgcolor": "#E5ECF6",
           "caxis": {
            "gridcolor": "white",
            "linecolor": "white",
            "ticks": ""
           }
          },
          "title": {
           "x": 0.05
          },
          "xaxis": {
           "automargin": true,
           "gridcolor": "white",
           "linecolor": "white",
           "ticks": "",
           "title": {
            "standoff": 15
           },
           "zerolinecolor": "white",
           "zerolinewidth": 2
          },
          "yaxis": {
           "automargin": true,
           "gridcolor": "white",
           "linecolor": "white",
           "ticks": "",
           "title": {
            "standoff": 15
           },
           "zerolinecolor": "white",
           "zerolinewidth": 2
          }
         }
        }
       }
      }
     },
     "metadata": {},
     "output_type": "display_data"
    }
   ],
   "source": [
    "# # Riduci la dimensionalità dei tuoi dati a 3 dimensioni utilizzando PCA\n",
    "# pca = PCA(n_components=3)\n",
    "# reduced_data = pca.fit_transform(scaled_data2)\n",
    "\n",
    "# # Crea una nuova figura\n",
    "# fig = plt.figure()\n",
    "# cmap = 'viridis'\n",
    "# # Aggiungi una barra dei colori\n",
    "\n",
    "# # Imposta l'etichetta della barra dei colori\n",
    "\n",
    "# # Aggiungi un grafico 3D alla figura\n",
    "# ax = fig.add_subplot(111, projection='3d')\n",
    "\n",
    "# # Assegna a x, y, e z le tre componenti principali\n",
    "# x = reduced_data[:, 0]\n",
    "# y = reduced_data[:, 1]\n",
    "# z = reduced_data[:, 2]\n",
    "\n",
    "# # Crea un grafico a dispersione 3D utilizzando le etichette dei cluster per colorare i punti\n",
    "# scatter = ax.scatter(x, y, z, c=best_labels2, cmap=cmap)\n",
    "# cbar = plt.colorbar(scatter)\n",
    "# cbar.set_label('Cluster Labels')\n",
    "\n",
    "\n",
    "# # Mostra il grafico\n",
    "# plt.show()\n",
    "\n",
    "pca = PCA(n_components=3)\n",
    "reduced_data = pca.fit_transform(scaled_data2)\n",
    "\n",
    "scatter = go.Scatter3d(\n",
    "    x=reduced_data[:, 0],\n",
    "    y=reduced_data[:, 1],\n",
    "    z=reduced_data[:, 2],\n",
    "    mode='markers',\n",
    "    marker=dict(color=best_labels2, colorscale='Viridis', size=5),\n",
    ")\n",
    "\n",
    "layout = go.Layout(\n",
    "    scene=dict(\n",
    "        xaxis=dict(title='Principal Component 1'),\n",
    "        yaxis=dict(title='Principal Component 2'),\n",
    "        zaxis=dict(title='Principal Component 3'),\n",
    "    ),\n",
    "    margin=dict(l=0, r=0, b=0, t=0),\n",
    ")\n",
    "\n",
    "fig = go.Figure(data=[scatter], layout=layout)\n",
    "\n",
    "fig.show()\n"
   ]
  },
  {
   "cell_type": "markdown",
   "metadata": {},
   "source": [
    "Again we use a 3d visualization to better understand the poatterns and the disposition of clusters and of each point that belongs to them. Same as before this visualization is obtained by the reduction of dimensionality, as performed by techniques like Principal Component Analysis (PCA), that has been explained before."
   ]
  },
  {
   "cell_type": "code",
   "execution_count": 276,
   "metadata": {},
   "outputs": [
    {
     "name": "stdout",
     "output_type": "stream",
     "text": [
      "Cluster 0:\n",
      "0    Agency for the Cooperation of Energy Regulator...\n",
      "1    Body of European Regulators for Electronic Com...\n",
      "2                Community Plant Variety Office (CPVO)\n",
      "3                          Euratom Supply Agency (ESA)\n",
      "4             European Agency for Reconstruction (EAR)\n",
      "Name: Agency, dtype: object\n",
      "Cluster -1:\n",
      "5     European Agency for Safety and Health at Work ...\n",
      "12    European Centre for the Development of Vocatio...\n",
      "17                European Food Safety Authority (EFSA)\n",
      "20    European Foundation for the Improvement of Liv...\n",
      "42    Translation Centre for the Bodies of the Europ...\n",
      "Name: Agency, dtype: object\n"
     ]
    }
   ],
   "source": [
    "for cluster in merged_df_final2['Cluster'].unique():\n",
    "    cluster_data = merged_df_final2[merged_df_final2['Cluster'] == cluster]\n",
    "    agencies = cluster_data['Agency']\n",
    "    print(f'Cluster {cluster}:')\n",
    "    print(agencies.head())\n"
   ]
  },
  {
   "cell_type": "markdown",
   "metadata": {},
   "source": [
    "For the same convenience principle that guided us before we decided to show the labels of the different clusters that have been created through the calculation applied in the steps above in order to see the agencies that share similar trends in the disposition of important roles held by women trough the years."
   ]
  }
 ],
 "metadata": {
  "kernelspec": {
   "display_name": "Python 3",
   "language": "python",
   "name": "python3"
  },
  "language_info": {
   "codemirror_mode": {
    "name": "ipython",
    "version": 3
   },
   "file_extension": ".py",
   "mimetype": "text/x-python",
   "name": "python",
   "nbconvert_exporter": "python",
   "pygments_lexer": "ipython3",
   "version": "3.10.8"
  }
 },
 "nbformat": 4,
 "nbformat_minor": 2
}
